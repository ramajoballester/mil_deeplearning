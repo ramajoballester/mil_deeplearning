{
  "nbformat": 4,
  "nbformat_minor": 0,
  "metadata": {
    "colab": {
      "name": "0_pytorch.ipynb",
      "provenance": [],
      "collapsed_sections": [],
      "toc_visible": true,
      "authorship_tag": "ABX9TyOor6UunzfTojf0uwe/RK3F",
      "include_colab_link": true
    },
    "kernelspec": {
      "name": "python3",
      "display_name": "Python 3"
    },
    "language_info": {
      "name": "python"
    }
  },
  "cells": [
    {
      "cell_type": "markdown",
      "metadata": {
        "id": "view-in-github",
        "colab_type": "text"
      },
      "source": [
        "<a href=\"https://colab.research.google.com/github/ramajoballester/mil_deeplearning/blob/main/0_pytorch.ipynb\" target=\"_parent\"><img src=\"https://colab.research.google.com/assets/colab-badge.svg\" alt=\"Open In Colab\"/></a>"
      ]
    },
    {
      "cell_type": "markdown",
      "source": [
        "# Sesión 0. Introducción al curso de Deep Learning"
      ],
      "metadata": {
        "id": "j6Gnej7reWuZ"
      }
    },
    {
      "cell_type": "markdown",
      "source": [
        "# Introducción a Python"
      ],
      "metadata": {
        "id": "8u4GVzTWaDs8"
      }
    },
    {
      "cell_type": "code",
      "source": [
        "a = 5\n",
        "b = 2"
      ],
      "metadata": {
        "id": "Kw1maqoChPZ8"
      },
      "execution_count": null,
      "outputs": []
    },
    {
      "cell_type": "markdown",
      "source": [
        "### Operaciones básicas"
      ],
      "metadata": {
        "id": "8CyP3454hg6q"
      }
    },
    {
      "cell_type": "code",
      "source": [
        "print(a)\n",
        "print(a + b)\n",
        "print(a - b)"
      ],
      "metadata": {
        "colab": {
          "base_uri": "https://localhost:8080/"
        },
        "id": "MPUm_Gpahj2S",
        "outputId": "c6d4461c-dd18-491f-8778-c883c933a5aa"
      },
      "execution_count": null,
      "outputs": [
        {
          "output_type": "stream",
          "name": "stdout",
          "text": [
            "5\n",
            "7\n",
            "3\n"
          ]
        }
      ]
    },
    {
      "cell_type": "markdown",
      "source": [
        "### Condicionales"
      ],
      "metadata": {
        "id": "o3yczLyThsu7"
      }
    },
    {
      "cell_type": "code",
      "source": [
        "# Indentación!\n",
        "\n",
        "if a > 0:\n",
        "    print(a)\n",
        "else:\n",
        "    print(b)"
      ],
      "metadata": {
        "colab": {
          "base_uri": "https://localhost:8080/"
        },
        "id": "uQxHxRcAhvsD",
        "outputId": "cebc4c34-f352-4f18-9d5f-dc7db63b36f8"
      },
      "execution_count": null,
      "outputs": [
        {
          "output_type": "stream",
          "name": "stdout",
          "text": [
            "5\n"
          ]
        }
      ]
    },
    {
      "cell_type": "code",
      "source": [
        "if not a > 0:\n",
        "    print(a)\n",
        "else:\n",
        "    print(b)"
      ],
      "metadata": {
        "colab": {
          "base_uri": "https://localhost:8080/"
        },
        "id": "xTifY2XMoc5T",
        "outputId": "7dd56e0d-d83d-482c-ed53-863dffbd89e1"
      },
      "execution_count": null,
      "outputs": [
        {
          "output_type": "stream",
          "name": "stdout",
          "text": [
            "2.0\n"
          ]
        }
      ]
    },
    {
      "cell_type": "markdown",
      "source": [
        "### Bucles"
      ],
      "metadata": {
        "id": "65hjl7PTh9KS"
      }
    },
    {
      "cell_type": "code",
      "source": [
        "for i in range(5):\n",
        "    print(i)"
      ],
      "metadata": {
        "colab": {
          "base_uri": "https://localhost:8080/"
        },
        "id": "WPobZPUzh_0S",
        "outputId": "4a3e9513-f6e8-437a-9ebb-cd5b0249e5d0"
      },
      "execution_count": null,
      "outputs": [
        {
          "output_type": "stream",
          "name": "stdout",
          "text": [
            "0\n",
            "1\n",
            "2\n",
            "3\n",
            "4\n"
          ]
        }
      ]
    },
    {
      "cell_type": "code",
      "source": [
        "i = 0\n",
        "while i < 5:\n",
        "    print(i)\n",
        "    i += 1"
      ],
      "metadata": {
        "colab": {
          "base_uri": "https://localhost:8080/"
        },
        "id": "Knadsn79iDcS",
        "outputId": "5f63d639-6f82-40a6-8e43-19a2321b53e0"
      },
      "execution_count": null,
      "outputs": [
        {
          "output_type": "stream",
          "name": "stdout",
          "text": [
            "0\n",
            "1\n",
            "2\n",
            "3\n",
            "4\n"
          ]
        }
      ]
    },
    {
      "cell_type": "markdown",
      "source": [
        "### Tipos de variables"
      ],
      "metadata": {
        "id": "Bk5d_nYIiQJL"
      }
    },
    {
      "cell_type": "code",
      "source": [
        "# Línea con comentarios (Ctrl + /)\n",
        "a = 5\n",
        "b = 2.0\n",
        "c = 'Hola!'\n",
        "\n",
        "print(a)\n",
        "print(b)\n",
        "print(c)"
      ],
      "metadata": {
        "colab": {
          "base_uri": "https://localhost:8080/"
        },
        "id": "6UElFyapiSID",
        "outputId": "56f0ffad-2320-4893-c64c-4c7c0f49a1c6"
      },
      "execution_count": null,
      "outputs": [
        {
          "output_type": "stream",
          "name": "stdout",
          "text": [
            "5\n",
            "2.0\n",
            "Hola!\n"
          ]
        }
      ]
    },
    {
      "cell_type": "code",
      "source": [
        "print(a + b)\n",
        "print(c + ' Qué tal?')"
      ],
      "metadata": {
        "colab": {
          "base_uri": "https://localhost:8080/"
        },
        "id": "Dqxbl46widGS",
        "outputId": "dafd7734-3874-43fb-8b78-0217527e82a2"
      },
      "execution_count": null,
      "outputs": [
        {
          "output_type": "stream",
          "name": "stdout",
          "text": [
            "7.0\n",
            "Hola! Qué tal?\n"
          ]
        }
      ]
    },
    {
      "cell_type": "markdown",
      "source": [
        "#### Tuplas y listas"
      ],
      "metadata": {
        "id": "DLKSSPfXjQXC"
      }
    },
    {
      "cell_type": "code",
      "source": [
        "x = (1, 2)\n",
        "x"
      ],
      "metadata": {
        "colab": {
          "base_uri": "https://localhost:8080/"
        },
        "id": "wC005ITHjS0a",
        "outputId": "4aa944d6-dc92-4ab4-b1eb-e33ce444f900"
      },
      "execution_count": null,
      "outputs": [
        {
          "output_type": "execute_result",
          "data": {
            "text/plain": [
              "(1, 2)"
            ]
          },
          "metadata": {},
          "execution_count": 21
        }
      ]
    },
    {
      "cell_type": "code",
      "source": [
        "# Indexación\n",
        "x[0]"
      ],
      "metadata": {
        "colab": {
          "base_uri": "https://localhost:8080/"
        },
        "id": "gxoVxc7AjWia",
        "outputId": "1fffdc71-ba55-4b85-cdc4-1d2639190c4f"
      },
      "execution_count": null,
      "outputs": [
        {
          "output_type": "execute_result",
          "data": {
            "text/plain": [
              "1"
            ]
          },
          "metadata": {},
          "execution_count": 25
        }
      ]
    },
    {
      "cell_type": "code",
      "source": [
        "x[0] = 5"
      ],
      "metadata": {
        "id": "4HKYwFq6jaZE"
      },
      "execution_count": null,
      "outputs": []
    },
    {
      "cell_type": "code",
      "source": [
        "y = [1, 2, 3, 4, 5, 6, 7]\n",
        "y"
      ],
      "metadata": {
        "colab": {
          "base_uri": "https://localhost:8080/"
        },
        "id": "8f_gWK8gjlpC",
        "outputId": "1f4e8b11-82ca-4f81-d523-66631c57c315"
      },
      "execution_count": null,
      "outputs": [
        {
          "output_type": "execute_result",
          "data": {
            "text/plain": [
              "[1, 2, 3, 4, 5, 6, 7]"
            ]
          },
          "metadata": {},
          "execution_count": 49
        }
      ]
    },
    {
      "cell_type": "code",
      "source": [
        "y[0]"
      ],
      "metadata": {
        "colab": {
          "base_uri": "https://localhost:8080/"
        },
        "id": "kVqbZr2pjqgq",
        "outputId": "8968a644-b110-4ebb-ba7c-b089e86634e5"
      },
      "execution_count": null,
      "outputs": [
        {
          "output_type": "execute_result",
          "data": {
            "text/plain": [
              "1"
            ]
          },
          "metadata": {},
          "execution_count": 50
        }
      ]
    },
    {
      "cell_type": "code",
      "source": [
        "y[0] = 5\n",
        "y"
      ],
      "metadata": {
        "colab": {
          "base_uri": "https://localhost:8080/"
        },
        "id": "-uStgK8ijsSq",
        "outputId": "ed7978b2-4cbe-442f-f433-3e522c7d4c81"
      },
      "execution_count": null,
      "outputs": [
        {
          "output_type": "execute_result",
          "data": {
            "text/plain": [
              "[5, 2, 3, 4, 5, 6, 7]"
            ]
          },
          "metadata": {},
          "execution_count": 51
        }
      ]
    },
    {
      "cell_type": "code",
      "source": [
        "x, y = (1, 2), [1, 2, 3, 4, 5, 6, 7]\n",
        "print(x)\n",
        "print(y)"
      ],
      "metadata": {
        "colab": {
          "base_uri": "https://localhost:8080/"
        },
        "id": "1D2_nb1Jjw7a",
        "outputId": "fd720089-d610-4df5-e188-0a1c7be7dd0d"
      },
      "execution_count": null,
      "outputs": [
        {
          "output_type": "stream",
          "name": "stdout",
          "text": [
            "(1, 2)\n",
            "[1, 2, 3, 4, 5, 6, 7]\n"
          ]
        }
      ]
    },
    {
      "cell_type": "code",
      "source": [
        "s = 'Hola'\n",
        "s[0]"
      ],
      "metadata": {
        "colab": {
          "base_uri": "https://localhost:8080/"
        },
        "id": "d7wxPm-WoGMc",
        "outputId": "645adc0f-05fe-49a2-9511-835364145c2b"
      },
      "execution_count": null,
      "outputs": [
        {
          "output_type": "execute_result",
          "data": {
            "text/plain": [
              "'H'"
            ]
          },
          "metadata": {},
          "execution_count": 53
        }
      ]
    },
    {
      "cell_type": "code",
      "source": [
        "print(len(x))\n",
        "print(len(y))"
      ],
      "metadata": {
        "colab": {
          "base_uri": "https://localhost:8080/"
        },
        "id": "Z-tL_p5loPDE",
        "outputId": "36c7df47-67b1-487c-d758-8b713895f1be"
      },
      "execution_count": null,
      "outputs": [
        {
          "output_type": "stream",
          "name": "stdout",
          "text": [
            "2\n",
            "7\n"
          ]
        }
      ]
    },
    {
      "cell_type": "code",
      "source": [
        "y[2:]"
      ],
      "metadata": {
        "colab": {
          "base_uri": "https://localhost:8080/"
        },
        "id": "afsXYgNzo2Qz",
        "outputId": "c9249c7e-0623-46b1-8fe5-dfa86027c277"
      },
      "execution_count": null,
      "outputs": [
        {
          "output_type": "execute_result",
          "data": {
            "text/plain": [
              "[3, 4, 5, 6, 7]"
            ]
          },
          "metadata": {},
          "execution_count": 55
        }
      ]
    },
    {
      "cell_type": "code",
      "source": [
        "y[:2]"
      ],
      "metadata": {
        "colab": {
          "base_uri": "https://localhost:8080/"
        },
        "id": "bBG_RW-rpGdk",
        "outputId": "9b0729de-af26-49b9-b7f8-59400339e41c"
      },
      "execution_count": null,
      "outputs": [
        {
          "output_type": "execute_result",
          "data": {
            "text/plain": [
              "[1, 2]"
            ]
          },
          "metadata": {},
          "execution_count": 56
        }
      ]
    },
    {
      "cell_type": "markdown",
      "source": [
        "#### Diccionarios"
      ],
      "metadata": {
        "id": "h5Y253w8qkK8"
      }
    },
    {
      "cell_type": "code",
      "source": [
        "coche = {\n",
        "  \"marca\": \"Ford\",\n",
        "  \"modelo\": \"Mustang\",\n",
        "  \"año\": 1964\n",
        "}"
      ],
      "metadata": {
        "id": "tnARdIQXqno7"
      },
      "execution_count": null,
      "outputs": []
    },
    {
      "cell_type": "code",
      "source": [
        "coche['marca']"
      ],
      "metadata": {
        "colab": {
          "base_uri": "https://localhost:8080/"
        },
        "id": "Bg2WnFSRqt9s",
        "outputId": "bdf0150b-df44-4e3e-f2ce-135ba7071f8e"
      },
      "execution_count": null,
      "outputs": [
        {
          "output_type": "execute_result",
          "data": {
            "text/plain": [
              "'Ford'"
            ]
          },
          "metadata": {},
          "execution_count": 60
        }
      ]
    },
    {
      "cell_type": "markdown",
      "source": [
        "### Casting"
      ],
      "metadata": {
        "id": "R2be1rqUiyoj"
      }
    },
    {
      "cell_type": "code",
      "source": [
        "str(a)"
      ],
      "metadata": {
        "colab": {
          "base_uri": "https://localhost:8080/"
        },
        "id": "DvjU9lwJi0Wy",
        "outputId": "a62f4edd-d795-4daa-d533-4cd2bf9c0f08"
      },
      "execution_count": null,
      "outputs": [
        {
          "output_type": "execute_result",
          "data": {
            "text/plain": [
              "'5'"
            ]
          },
          "metadata": {},
          "execution_count": 15
        }
      ]
    },
    {
      "cell_type": "code",
      "source": [
        "int(b)"
      ],
      "metadata": {
        "colab": {
          "base_uri": "https://localhost:8080/"
        },
        "id": "SrONb5Y4i8DC",
        "outputId": "2c16d745-3051-4a37-c2dd-c02364a8e500"
      },
      "execution_count": null,
      "outputs": [
        {
          "output_type": "execute_result",
          "data": {
            "text/plain": [
              "2"
            ]
          },
          "metadata": {},
          "execution_count": 17
        }
      ]
    },
    {
      "cell_type": "code",
      "source": [
        "float(c)"
      ],
      "metadata": {
        "id": "02aiKV4Fi4cj"
      },
      "execution_count": null,
      "outputs": []
    },
    {
      "cell_type": "code",
      "source": [
        "print(type(a))\n",
        "print(type(b))\n",
        "print(type(c))"
      ],
      "metadata": {
        "colab": {
          "base_uri": "https://localhost:8080/"
        },
        "id": "GpJLK8s0jAlT",
        "outputId": "e4fa9591-67a4-47e8-e2ef-9f4fecb0320a"
      },
      "execution_count": null,
      "outputs": [
        {
          "output_type": "stream",
          "name": "stdout",
          "text": [
            "<class 'int'>\n",
            "<class 'float'>\n",
            "<class 'str'>\n"
          ]
        }
      ]
    },
    {
      "cell_type": "markdown",
      "source": [
        "### Definición de funciones"
      ],
      "metadata": {
        "id": "980y3NFvj1Ai"
      }
    },
    {
      "cell_type": "code",
      "source": [
        "def func():\n",
        "    print('Hola!')"
      ],
      "metadata": {
        "id": "xn5xesLFlUVf"
      },
      "execution_count": null,
      "outputs": []
    },
    {
      "cell_type": "code",
      "source": [
        "func()"
      ],
      "metadata": {
        "colab": {
          "base_uri": "https://localhost:8080/"
        },
        "id": "XVs2WzwUlYFj",
        "outputId": "8c3bcb64-d602-45f4-ffdb-29c120d4450c"
      },
      "execution_count": null,
      "outputs": [
        {
          "output_type": "stream",
          "name": "stdout",
          "text": [
            "Hola!\n"
          ]
        }
      ]
    },
    {
      "cell_type": "markdown",
      "source": [
        "#### Paso de parámetros"
      ],
      "metadata": {
        "id": "prFZlHQelZIL"
      }
    },
    {
      "cell_type": "code",
      "source": [
        "def func(x=10):\n",
        "    print('Valor de x: {}'.format(x))"
      ],
      "metadata": {
        "id": "t-GJwF6olcv7"
      },
      "execution_count": null,
      "outputs": []
    },
    {
      "cell_type": "code",
      "source": [
        "func(4)"
      ],
      "metadata": {
        "colab": {
          "base_uri": "https://localhost:8080/"
        },
        "id": "iPV5-msalxEj",
        "outputId": "0242c11d-6cbf-4766-f426-88c7bcc5d03e"
      },
      "execution_count": null,
      "outputs": [
        {
          "output_type": "stream",
          "name": "stdout",
          "text": [
            "Valor de x: 4\n"
          ]
        }
      ]
    },
    {
      "cell_type": "code",
      "source": [
        "func()"
      ],
      "metadata": {
        "colab": {
          "base_uri": "https://localhost:8080/"
        },
        "id": "0gzM1ihmnn3H",
        "outputId": "23ab3189-e1db-493e-83f4-dd1c9203d73c"
      },
      "execution_count": null,
      "outputs": [
        {
          "output_type": "stream",
          "name": "stdout",
          "text": [
            "Valor de x: 10\n"
          ]
        }
      ]
    },
    {
      "cell_type": "code",
      "source": [
        "x = 4\n",
        "print(x)\n",
        "func()\n",
        "print(x)"
      ],
      "metadata": {
        "colab": {
          "base_uri": "https://localhost:8080/"
        },
        "id": "Kabq8xQNnyl9",
        "outputId": "8428a1aa-751f-4c40-b5a8-ab336132bada"
      },
      "execution_count": null,
      "outputs": [
        {
          "output_type": "stream",
          "name": "stdout",
          "text": [
            "4\n",
            "Valor de x: 10\n",
            "4\n"
          ]
        }
      ]
    },
    {
      "cell_type": "markdown",
      "source": [
        "### Funciones lambda"
      ],
      "metadata": {
        "id": "8tN3SBcBpukM"
      }
    },
    {
      "cell_type": "code",
      "source": [
        "x = lambda a, b: a * b\n",
        "x(4, 2)"
      ],
      "metadata": {
        "colab": {
          "base_uri": "https://localhost:8080/"
        },
        "id": "AZiH1upkp0GL",
        "outputId": "c733f5e3-0cd3-4377-96d3-cf4c24956032"
      },
      "execution_count": null,
      "outputs": [
        {
          "output_type": "execute_result",
          "data": {
            "text/plain": [
              "8"
            ]
          },
          "metadata": {},
          "execution_count": 57
        }
      ]
    },
    {
      "cell_type": "code",
      "source": [
        "def func(n):\n",
        "    return lambda a : a * n\n",
        "\n",
        "duplicador = func(2)\n",
        "triplicador = func(3)\n",
        "\n",
        "print(duplicador(5))\n",
        "print(triplicador(5))"
      ],
      "metadata": {
        "colab": {
          "base_uri": "https://localhost:8080/"
        },
        "id": "ImninLhJp8zT",
        "outputId": "8ade18b8-c4fa-4124-e7db-2722fac8802d"
      },
      "execution_count": null,
      "outputs": [
        {
          "output_type": "stream",
          "name": "stdout",
          "text": [
            "10\n",
            "15\n"
          ]
        }
      ]
    },
    {
      "cell_type": "markdown",
      "source": [
        "### Clases"
      ],
      "metadata": {
        "id": "8rHtL0XMqVv8"
      }
    },
    {
      "cell_type": "code",
      "source": [
        "class PrimeraClase():\n",
        "    x = 1"
      ],
      "metadata": {
        "id": "sIwOBW-yrz2E"
      },
      "execution_count": null,
      "outputs": []
    },
    {
      "cell_type": "code",
      "source": [
        "prim_clase = PrimeraClase()\n",
        "prim_clase.x"
      ],
      "metadata": {
        "colab": {
          "base_uri": "https://localhost:8080/"
        },
        "id": "KlRiqCzHr-Cj",
        "outputId": "160e255d-4ec4-4a34-dd5a-8ca1ed3a134c"
      },
      "execution_count": null,
      "outputs": [
        {
          "output_type": "execute_result",
          "data": {
            "text/plain": [
              "1"
            ]
          },
          "metadata": {},
          "execution_count": 77
        }
      ]
    },
    {
      "cell_type": "code",
      "source": [
        "class Persona():\n",
        "    def __init__(self, nombre, edad):\n",
        "        self.nombre = nombre\n",
        "        self.edad = edad\n",
        "\n",
        "p1 = Persona('Juan', 58)\n",
        "\n",
        "print(p1.nombre)\n",
        "print(p1.edad)"
      ],
      "metadata": {
        "colab": {
          "base_uri": "https://localhost:8080/"
        },
        "id": "FJ8n_i3ksNJd",
        "outputId": "1ac87bb0-5506-4c78-f7f2-002f37094e21"
      },
      "execution_count": null,
      "outputs": [
        {
          "output_type": "stream",
          "name": "stdout",
          "text": [
            "Juan\n",
            "58\n"
          ]
        }
      ]
    },
    {
      "cell_type": "markdown",
      "source": [
        "### Programación Orientada a Objetos (OOP)"
      ],
      "metadata": {
        "id": "K94WNfKct5_v"
      }
    },
    {
      "cell_type": "markdown",
      "source": [
        "#### Encapsulación"
      ],
      "metadata": {
        "id": "Nz12IbHUt_C1"
      }
    },
    {
      "cell_type": "markdown",
      "source": [
        "La encapsulación no es un concepto propio de la programación orientada a objetos pero es fundamental, los objetos son la abstracción que proporciona la encapsulación.\n",
        "\n",
        "La encapsulación consiste en hacer que los datos sean modificados únicamente por las funciones destinadas a tal efecto. La encapsulación permite que los datos conserven un estado válido y consistente, trata de evitar que cualquier código pueda modificar una estructura de datos con el consiguiente problema de generación de inconsistencias."
      ],
      "metadata": {
        "id": "oDKF9NsZwSTW"
      }
    },
    {
      "cell_type": "code",
      "source": [
        "class Persona():\n",
        "    def __init__(self, nombre, edad):\n",
        "        self.nombre = nombre\n",
        "        self.edad = edad\n",
        "\n",
        "    def cumpleaños(self):\n",
        "        print('Felicidades!')\n",
        "        self.edad += 1\n",
        "\n",
        "p1 = Persona('Juan', 58)\n",
        "\n",
        "print(p1.edad)\n",
        "p1.cumpleaños()\n",
        "print(p1.edad)"
      ],
      "metadata": {
        "colab": {
          "base_uri": "https://localhost:8080/"
        },
        "id": "PNUBhd4wvqIO",
        "outputId": "870cd544-60bb-4890-ec86-0974d01f3977"
      },
      "execution_count": 82,
      "outputs": [
        {
          "output_type": "stream",
          "name": "stdout",
          "text": [
            "58\n",
            "Felicidades!\n",
            "59\n"
          ]
        }
      ]
    },
    {
      "cell_type": "markdown",
      "source": [
        "#### Abstracción"
      ],
      "metadata": {
        "id": "d2SYOtfcuUzt"
      }
    },
    {
      "cell_type": "markdown",
      "source": [
        "La abstracción es el concepto por el que un modelo es creado con las propiedades relevantes a observar. Un programa trata únicamente con las propiedades de un objeto que al programa le interesa. Las clases son la abstracción de los conceptos que maneja la aplicación, pueden ser conceptos que existan en el mundo real pero simplificados al tener únicamente las propiedades relevantes para la aplicación"
      ],
      "metadata": {
        "id": "Fs4HbXthwfI7"
      }
    },
    {
      "cell_type": "code",
      "source": [
        "class Trabajador():\n",
        "    def __init__(self, profesion, experiencia):\n",
        "        self.profesion = profesion\n",
        "        self.experiencia = experiencia"
      ],
      "metadata": {
        "id": "6pfO7yUGwgMb"
      },
      "execution_count": 83,
      "outputs": []
    },
    {
      "cell_type": "code",
      "source": [
        "t1 = Trabajador('Artista', 20)\n",
        "print(t1.profesion)"
      ],
      "metadata": {
        "colab": {
          "base_uri": "https://localhost:8080/"
        },
        "id": "h9W1NODxxNf8",
        "outputId": "5dbe3402-a4fa-4e1d-de0c-6257ecee4f06"
      },
      "execution_count": 86,
      "outputs": [
        {
          "output_type": "stream",
          "name": "stdout",
          "text": [
            "Artista\n"
          ]
        }
      ]
    },
    {
      "cell_type": "markdown",
      "source": [
        "#### Herencia"
      ],
      "metadata": {
        "id": "rbegUS-XuVBW"
      }
    },
    {
      "cell_type": "markdown",
      "source": [
        "Al implementar una clase y para reutilizar el código una clase puede extender de otra, heredando el comportamiento de la clase extendida. La relación de herencia entre las clases es una relación padre-hijo"
      ],
      "metadata": {
        "id": "4x6YtAYjxmwA"
      }
    },
    {
      "cell_type": "code",
      "source": [
        "class Persona(Trabajador):\n",
        "    def __init__(self, nombre, edad, profesion, experiencia):\n",
        "        super().__init__(profesion, experiencia)\n",
        "        self.nombre = nombre\n",
        "        self.edad = edad"
      ],
      "metadata": {
        "id": "eu4_17oexwXT"
      },
      "execution_count": 87,
      "outputs": []
    },
    {
      "cell_type": "code",
      "source": [
        "p1 = Persona('Ana', 28, 'programadora', 5)"
      ],
      "metadata": {
        "id": "BdJn7DdryGU1"
      },
      "execution_count": 88,
      "outputs": []
    },
    {
      "cell_type": "code",
      "source": [
        "print('Mi nombre es {}, tengo {} años y llevo {} trabajando como {}'.format(p1.nombre,\n",
        "                                                                            p1.edad,\n",
        "                                                                            p1.experiencia,\n",
        "                                                                            p1.profesion))"
      ],
      "metadata": {
        "colab": {
          "base_uri": "https://localhost:8080/"
        },
        "id": "dKscL-ZmyNkr",
        "outputId": "fb458637-a637-41de-feed-16384b4abee2"
      },
      "execution_count": 89,
      "outputs": [
        {
          "output_type": "stream",
          "name": "stdout",
          "text": [
            "Mi nombre es Ana, tengo 28 años y llevo 5 trabajando como programadora\n"
          ]
        }
      ]
    },
    {
      "cell_type": "markdown",
      "source": [
        "#### Polimorfismo"
      ],
      "metadata": {
        "id": "SUdv9HfSuU6r"
      }
    },
    {
      "cell_type": "code",
      "source": [
        "class Persona():\n",
        "    def __init__(self, nombre, edad):\n",
        "        self.nombre = nombre\n",
        "        self.edad = edad\n",
        "        self.direccion = None\n",
        "\n",
        "class Trabajador():\n",
        "    def __init__(self, profesion, experiencia):\n",
        "        self.profesion = profesion\n",
        "        self.experiencia = experiencia\n",
        "        self.direccion = None"
      ],
      "metadata": {
        "id": "Z3sSI6isy3Hc"
      },
      "execution_count": 99,
      "outputs": []
    },
    {
      "cell_type": "code",
      "source": [
        "p1 = Persona('Víctor', 30)\n",
        "t1 = Trabajador('Ingeniero', 8)"
      ],
      "metadata": {
        "id": "k_gQeUjIynxN"
      },
      "execution_count": 100,
      "outputs": []
    },
    {
      "cell_type": "code",
      "source": [
        "def añadir_direccion(x):\n",
        "    if type(x) == Persona:\n",
        "        x.direccion = 'Leganés'\n",
        "    elif type(x) == Trabajador:\n",
        "        x.direccion = 'Madrid'"
      ],
      "metadata": {
        "id": "Y9_yLnOOzbGX"
      },
      "execution_count": 101,
      "outputs": []
    },
    {
      "cell_type": "code",
      "source": [
        "añadir_direccion(p1)\n",
        "añadir_direccion(t1)\n",
        "print(p1.direccion)\n",
        "print(t1.direccion)"
      ],
      "metadata": {
        "colab": {
          "base_uri": "https://localhost:8080/"
        },
        "id": "np3CZlOI0hZN",
        "outputId": "d24f1ff5-295c-41fb-810c-31835972c97c"
      },
      "execution_count": 102,
      "outputs": [
        {
          "output_type": "stream",
          "name": "stdout",
          "text": [
            "Leganés\n",
            "Madrid\n"
          ]
        }
      ]
    },
    {
      "cell_type": "markdown",
      "source": [
        "# Introducción a Pytorch"
      ],
      "metadata": {
        "id": "QipkYrJPNxLr"
      }
    },
    {
      "cell_type": "markdown",
      "source": [
        "## Librerías de Deep Learning"
      ],
      "metadata": {
        "id": "KRx8o98NEdNK"
      }
    },
    {
      "cell_type": "code",
      "source": [
        "import torch\n",
        "import matplotlib.pyplot as plt\n",
        "import numpy as np"
      ],
      "metadata": {
        "id": "sDmZtn8q2lN2"
      },
      "execution_count": null,
      "outputs": []
    },
    {
      "cell_type": "markdown",
      "source": [
        "## Creación de tensores (vectores, matrices, ...)"
      ],
      "metadata": {
        "id": "K1sJGtkDEtjh"
      }
    },
    {
      "cell_type": "markdown",
      "source": [
        "Explicación de tensores"
      ],
      "metadata": {
        "id": "-l6bSsEEHZbJ"
      }
    },
    {
      "cell_type": "code",
      "source": [
        "torch.tensor([[1, 2, 3, 4], [5, 6, 7, 8], [9, 10, 11, 12]])"
      ],
      "metadata": {
        "colab": {
          "base_uri": "https://localhost:8080/"
        },
        "id": "wkzqQha9_-UR",
        "outputId": "d5500807-8bb9-43a0-a3da-fdb7ab298e2c"
      },
      "execution_count": null,
      "outputs": [
        {
          "output_type": "execute_result",
          "data": {
            "text/plain": [
              "tensor([[ 1,  2,  3,  4],\n",
              "        [ 5,  6,  7,  8],\n",
              "        [ 9, 10, 11, 12]])"
            ]
          },
          "metadata": {},
          "execution_count": 135
        }
      ]
    },
    {
      "cell_type": "code",
      "source": [
        "x = torch.arange(12, dtype=torch.float32)\n",
        "x"
      ],
      "metadata": {
        "colab": {
          "base_uri": "https://localhost:8080/"
        },
        "id": "_8wliRX1u1CD",
        "outputId": "f4f3137e-9d6a-43f5-890b-d546533b68ae"
      },
      "execution_count": null,
      "outputs": [
        {
          "output_type": "execute_result",
          "data": {
            "text/plain": [
              "tensor([ 0.,  1.,  2.,  3.,  4.,  5.,  6.,  7.,  8.,  9., 10., 11.])"
            ]
          },
          "metadata": {},
          "execution_count": 2
        }
      ]
    },
    {
      "cell_type": "code",
      "source": [
        "x.shape"
      ],
      "metadata": {
        "colab": {
          "base_uri": "https://localhost:8080/"
        },
        "id": "qtNdVeesu3Ya",
        "outputId": "33d2a4c9-a582-4238-dc35-f1684f110d3f"
      },
      "execution_count": null,
      "outputs": [
        {
          "output_type": "execute_result",
          "data": {
            "text/plain": [
              "torch.Size([12])"
            ]
          },
          "metadata": {},
          "execution_count": 3
        }
      ]
    },
    {
      "cell_type": "code",
      "source": [
        "x.numel()"
      ],
      "metadata": {
        "colab": {
          "base_uri": "https://localhost:8080/"
        },
        "id": "ILrKvBoTu_2g",
        "outputId": "47d90d04-7ff9-45e0-c441-ee85de63560b"
      },
      "execution_count": null,
      "outputs": [
        {
          "output_type": "execute_result",
          "data": {
            "text/plain": [
              "12"
            ]
          },
          "metadata": {},
          "execution_count": 4
        }
      ]
    },
    {
      "cell_type": "code",
      "source": [
        "x_reshaped = x.reshape(3, 4)\n",
        "x_reshaped"
      ],
      "metadata": {
        "colab": {
          "base_uri": "https://localhost:8080/"
        },
        "id": "3KrcLpXtvDAI",
        "outputId": "a521902b-d250-44fd-e0ff-f0f6de74e4f6"
      },
      "execution_count": null,
      "outputs": [
        {
          "output_type": "execute_result",
          "data": {
            "text/plain": [
              "tensor([[ 0.,  1.,  2.,  3.],\n",
              "        [ 4.,  5.,  6.,  7.],\n",
              "        [ 8.,  9., 10., 11.]])"
            ]
          },
          "metadata": {},
          "execution_count": 6
        }
      ]
    },
    {
      "cell_type": "code",
      "source": [
        "torch.zeros((2, 3, 4))"
      ],
      "metadata": {
        "colab": {
          "base_uri": "https://localhost:8080/"
        },
        "id": "OUBuGrJZvGWg",
        "outputId": "667f91e2-41eb-4442-d998-897943ea7605"
      },
      "execution_count": null,
      "outputs": [
        {
          "output_type": "execute_result",
          "data": {
            "text/plain": [
              "tensor([[[0., 0., 0., 0.],\n",
              "         [0., 0., 0., 0.],\n",
              "         [0., 0., 0., 0.]],\n",
              "\n",
              "        [[0., 0., 0., 0.],\n",
              "         [0., 0., 0., 0.],\n",
              "         [0., 0., 0., 0.]]])"
            ]
          },
          "metadata": {},
          "execution_count": 7
        }
      ]
    },
    {
      "cell_type": "code",
      "source": [
        "torch.ones((2, 3, 4))"
      ],
      "metadata": {
        "colab": {
          "base_uri": "https://localhost:8080/"
        },
        "id": "fmSMTueivM3I",
        "outputId": "9eecd674-78d2-4158-aa68-0f02d539b915"
      },
      "execution_count": null,
      "outputs": [
        {
          "output_type": "execute_result",
          "data": {
            "text/plain": [
              "tensor([[[1., 1., 1., 1.],\n",
              "         [1., 1., 1., 1.],\n",
              "         [1., 1., 1., 1.]],\n",
              "\n",
              "        [[1., 1., 1., 1.],\n",
              "         [1., 1., 1., 1.],\n",
              "         [1., 1., 1., 1.]]])"
            ]
          },
          "metadata": {},
          "execution_count": 10
        }
      ]
    },
    {
      "cell_type": "code",
      "source": [
        "torch.ones((2, 3, 4)) * 5"
      ],
      "metadata": {
        "colab": {
          "base_uri": "https://localhost:8080/"
        },
        "id": "3M1wDa8BvOUQ",
        "outputId": "194990f6-e404-4507-8855-a50c8d397d9f"
      },
      "execution_count": null,
      "outputs": [
        {
          "output_type": "execute_result",
          "data": {
            "text/plain": [
              "tensor([[[5., 5., 5., 5.],\n",
              "         [5., 5., 5., 5.],\n",
              "         [5., 5., 5., 5.]],\n",
              "\n",
              "        [[5., 5., 5., 5.],\n",
              "         [5., 5., 5., 5.],\n",
              "         [5., 5., 5., 5.]]])"
            ]
          },
          "metadata": {},
          "execution_count": 12
        }
      ]
    },
    {
      "cell_type": "code",
      "source": [
        "torch.randn(3, 4)"
      ],
      "metadata": {
        "colab": {
          "base_uri": "https://localhost:8080/"
        },
        "id": "Df16wB0nvWf6",
        "outputId": "27145042-d6f2-45ea-f5c1-ffc7a20b0926"
      },
      "execution_count": null,
      "outputs": [
        {
          "output_type": "execute_result",
          "data": {
            "text/plain": [
              "tensor([[ 1.1396,  0.4400,  0.8502,  1.7366],\n",
              "        [ 0.6700,  0.2906, -0.3159,  0.2082],\n",
              "        [ 1.5970, -0.4265, -0.3001, -0.6528]])"
            ]
          },
          "metadata": {},
          "execution_count": 13
        }
      ]
    },
    {
      "cell_type": "markdown",
      "source": [
        "**Distribución normal ($\\mu = 0$, $\\sigma = 1$)**\n",
        "\n",
        "En el intervalo $[\\mu -\\sigma ,\\mu +\\sigma]$ se encuentra comprendida el 68,26 % de la distribución\n",
        "\n",
        "En el intervalo $[\\mu -2\\sigma ,\\mu +2\\sigma]$, el 95,44 % de la distribución\n",
        "\n",
        "En el intervalo $[\\mu -3\\sigma ,\\mu +3\\sigma]$, el 99,74 % de la distribución"
      ],
      "metadata": {
        "id": "IFasAi2dvbrR"
      }
    },
    {
      "cell_type": "code",
      "source": [
        "#@title\n",
        "norm_dist = torch.randn(100000)\n",
        "\n",
        "plt.figure(figsize=(10, 5))\n",
        "N, bins, patches = plt.hist(norm_dist, bins=100);\n",
        "plt.xticks(ticks=[-3, -2, -1, 0, 1, 2, 3],\n",
        "           labels=['-3$\\sigma$', '-2$\\sigma$', '-$\\sigma$', '0',\n",
        "                   '$\\sigma$', '2$\\sigma$', '3$\\sigma$']);\n",
        "\n",
        "cmap = plt.get_cmap('Blues')\n",
        "low = cmap(0.25)\n",
        "medium =cmap(0.5)\n",
        "high = cmap(0.95)\n",
        "\n",
        "for i in np.where((bins < -3) + (bins > 3))[0]:\n",
        "    if i < len(patches):\n",
        "        patches[i].set_facecolor(cmap(0.95))\n",
        "\n",
        "for i in np.where(np.logical_and(bins > -3, bins < 3))[0]:\n",
        "    if i < len(patches):\n",
        "        patches[i].set_facecolor(cmap(0.6))\n",
        "\n",
        "for i in np.where(np.logical_and(bins > -2, bins < 2))[0]:\n",
        "    if i < len(patches):\n",
        "        patches[i].set_facecolor(cmap(0.4))\n",
        "\n",
        "for i in np.where(np.logical_and(bins > -1, bins < 1))[0]:\n",
        "    if i < len(patches):\n",
        "        patches[i].set_facecolor(cmap(0.3))\n",
        "\n",
        "plt.text(-0.3, 750, '$68.2\\%$', fontsize=14);\n",
        "plt.text(-1.8, 500, '$13.6\\%$', fontsize=14);\n",
        "plt.text(1.1, 500, '$13.6\\%$', fontsize=14);\n",
        "plt.text(-2.8, 350, '$2.1\\%$', fontsize=14);\n",
        "plt.text(2.2, 350, '$2.1\\%$', fontsize=14);\n",
        "plt.text(-3.8, 300, '$0.1\\%$', fontsize=14);\n",
        "plt.text(3.2, 300, '$0.1\\%$', fontsize=14);"
      ],
      "metadata": {
        "colab": {
          "base_uri": "https://localhost:8080/",
          "height": 322
        },
        "cellView": "form",
        "id": "si2J7_9AvmWg",
        "outputId": "7e06770a-c242-424d-8cc5-cc5e45e9d056"
      },
      "execution_count": null,
      "outputs": [
        {
          "output_type": "display_data",
          "data": {
            "text/plain": [
              "<Figure size 720x360 with 1 Axes>"
            ],
            "image/png": "[encoded data removed]"
          },
          "metadata": {
            "needs_background": "light"
          }
        }
      ]
    },
    {
      "cell_type": "markdown",
      "source": [
        "## Operaciones con tensores"
      ],
      "metadata": {
        "id": "UkCdCKBU_yFy"
      }
    },
    {
      "cell_type": "markdown",
      "source": [
        "Hablar de tipos de datos y ejercicios excel"
      ],
      "metadata": {
        "id": "Zsy6tgmuI23D"
      }
    },
    {
      "cell_type": "code",
      "source": [
        "# Operaciones básicas elemento a elemento (element-wise)\n",
        "# Mismas dimensiones\n",
        "x = torch.tensor([1.0, 2, 4, 8])\n",
        "y = torch.tensor([2, 2, 2, 2])\n",
        "x + y, x - y, x * y, x / y, x ** y  # El operador ** es potenciación (^)"
      ],
      "metadata": {
        "colab": {
          "base_uri": "https://localhost:8080/"
        },
        "id": "LCfuan3NHS8b",
        "outputId": "db29d4d8-3a7e-434a-b27e-5500559f5033"
      },
      "execution_count": null,
      "outputs": [
        {
          "output_type": "execute_result",
          "data": {
            "text/plain": [
              "(tensor([ 3.,  4.,  6., 10.]),\n",
              " tensor([-1.,  0.,  2.,  6.]),\n",
              " tensor([ 2.,  4.,  8., 16.]),\n",
              " tensor([0.5000, 1.0000, 2.0000, 4.0000]),\n",
              " tensor([ 1.,  4., 16., 64.]))"
            ]
          },
          "metadata": {},
          "execution_count": 145
        }
      ]
    },
    {
      "cell_type": "code",
      "source": [
        "x"
      ],
      "metadata": {
        "colab": {
          "base_uri": "https://localhost:8080/"
        },
        "id": "XbUqX-xVIeAK",
        "outputId": "80b1ce5e-cf90-4349-fe41-9b18b51550d2"
      },
      "execution_count": null,
      "outputs": [
        {
          "output_type": "execute_result",
          "data": {
            "text/plain": [
              "tensor([1., 2., 4., 8.])"
            ]
          },
          "metadata": {},
          "execution_count": 146
        }
      ]
    },
    {
      "cell_type": "code",
      "source": [
        "# e^x\n",
        "torch.exp(x)"
      ],
      "metadata": {
        "colab": {
          "base_uri": "https://localhost:8080/"
        },
        "id": "ZJG5l4x9JXvK",
        "outputId": "e3cd0492-20d8-4775-e6e8-b7f88c198e64"
      },
      "execution_count": null,
      "outputs": [
        {
          "output_type": "execute_result",
          "data": {
            "text/plain": [
              "tensor([2.7183e+00, 7.3891e+00, 5.4598e+01, 2.9810e+03])"
            ]
          },
          "metadata": {},
          "execution_count": 149
        }
      ]
    },
    {
      "cell_type": "code",
      "source": [
        "# Elevación al cuadrado\n",
        "torch.pow(x, 2)"
      ],
      "metadata": {
        "colab": {
          "base_uri": "https://localhost:8080/"
        },
        "id": "3xXrwRmdJfPh",
        "outputId": "f129335d-192a-44ce-cf65-0a4bf3c62f75"
      },
      "execution_count": null,
      "outputs": [
        {
          "output_type": "execute_result",
          "data": {
            "text/plain": [
              "tensor([ 1.,  4., 16., 64.])"
            ]
          },
          "metadata": {},
          "execution_count": 151
        }
      ]
    },
    {
      "cell_type": "code",
      "source": [
        "# Concatenación\n",
        "x = torch.arange(12, dtype=torch.float32).reshape((3,4))\n",
        "y = torch.tensor([[2.0, 1, 4, 3], [1, 2, 3, 4], [4, 3, 2, 1]])\n",
        "torch.cat((x, y), dim=0), torch.cat((x, y), dim=1)"
      ],
      "metadata": {
        "colab": {
          "base_uri": "https://localhost:8080/"
        },
        "id": "uX-5vYUgJ2vp",
        "outputId": "26066440-315d-4f6b-df12-9beaba59cce8"
      },
      "execution_count": null,
      "outputs": [
        {
          "output_type": "execute_result",
          "data": {
            "text/plain": [
              "(tensor([[ 0.,  1.,  2.,  3.],\n",
              "         [ 4.,  5.,  6.,  7.],\n",
              "         [ 8.,  9., 10., 11.],\n",
              "         [ 2.,  1.,  4.,  3.],\n",
              "         [ 1.,  2.,  3.,  4.],\n",
              "         [ 4.,  3.,  2.,  1.]]),\n",
              " tensor([[ 0.,  1.,  2.,  3.,  2.,  1.,  4.,  3.],\n",
              "         [ 4.,  5.,  6.,  7.,  1.,  2.,  3.,  4.],\n",
              "         [ 8.,  9., 10., 11.,  4.,  3.,  2.,  1.]]))"
            ]
          },
          "metadata": {},
          "execution_count": 156
        }
      ]
    },
    {
      "cell_type": "code",
      "source": [
        "# Igualdad de elementos\n",
        "x == y"
      ],
      "metadata": {
        "colab": {
          "base_uri": "https://localhost:8080/"
        },
        "id": "ZpO7blxhKyO5",
        "outputId": "d0f35977-1280-49e2-be17-c34ce5edaaad"
      },
      "execution_count": null,
      "outputs": [
        {
          "output_type": "execute_result",
          "data": {
            "text/plain": [
              "tensor([[False,  True, False,  True],\n",
              "        [False, False, False, False],\n",
              "        [False, False, False, False]])"
            ]
          },
          "metadata": {},
          "execution_count": 158
        }
      ]
    },
    {
      "cell_type": "code",
      "source": [
        "# Suma, media y desviación estándar\n",
        "x.sum(), x.mean(), x.std()"
      ],
      "metadata": {
        "colab": {
          "base_uri": "https://localhost:8080/"
        },
        "id": "v0tJFvSwLPeR",
        "outputId": "ad0fac85-94bd-42b7-991e-49f778969786"
      },
      "execution_count": null,
      "outputs": [
        {
          "output_type": "execute_result",
          "data": {
            "text/plain": [
              "(tensor(66.), tensor(5.5000), tensor(3.6056))"
            ]
          },
          "metadata": {},
          "execution_count": 160
        }
      ]
    },
    {
      "cell_type": "markdown",
      "source": [
        "## Indexación"
      ],
      "metadata": {
        "id": "qL4oX3lmLepC"
      }
    },
    {
      "cell_type": "code",
      "source": [
        "x = torch.arange(12).reshape((3,4))\n",
        "y = torch.tensor([[2, 1, 4, 3], [1, 2, 3, 4], [4, 3, 2, 1]])"
      ],
      "metadata": {
        "id": "cRpec8JYMLDb"
      },
      "execution_count": null,
      "outputs": []
    },
    {
      "cell_type": "code",
      "source": [
        "x"
      ],
      "metadata": {
        "colab": {
          "base_uri": "https://localhost:8080/"
        },
        "id": "6Ym-IzEqMbVB",
        "outputId": "14369932-5e3f-4b3f-d8ce-78181848966b"
      },
      "execution_count": null,
      "outputs": [
        {
          "output_type": "execute_result",
          "data": {
            "text/plain": [
              "tensor([[ 0,  1,  2,  3],\n",
              "        [ 4,  5,  6,  7],\n",
              "        [ 8,  9, 10, 11]])"
            ]
          },
          "metadata": {},
          "execution_count": 166
        }
      ]
    },
    {
      "cell_type": "code",
      "source": [
        "x[1, 2]"
      ],
      "metadata": {
        "colab": {
          "base_uri": "https://localhost:8080/"
        },
        "id": "gwdBQ0pkMTyw",
        "outputId": "02621098-b5b0-4823-d62d-6309bf5b296c"
      },
      "execution_count": null,
      "outputs": [
        {
          "output_type": "execute_result",
          "data": {
            "text/plain": [
              "tensor(6)"
            ]
          },
          "metadata": {},
          "execution_count": 167
        }
      ]
    },
    {
      "cell_type": "code",
      "source": [
        "x[1, 2] = 9"
      ],
      "metadata": {
        "id": "27l3joUoMXWi"
      },
      "execution_count": null,
      "outputs": []
    },
    {
      "cell_type": "code",
      "source": [
        "x"
      ],
      "metadata": {
        "colab": {
          "base_uri": "https://localhost:8080/"
        },
        "id": "lmCB7mVEMmwa",
        "outputId": "cfedd32c-84a3-45ca-9010-f2638bd63845"
      },
      "execution_count": null,
      "outputs": [
        {
          "output_type": "execute_result",
          "data": {
            "text/plain": [
              "tensor([[ 0,  1,  2,  3],\n",
              "        [ 4,  5,  9,  7],\n",
              "        [ 8,  9, 10, 11]])"
            ]
          },
          "metadata": {},
          "execution_count": 169
        }
      ]
    },
    {
      "cell_type": "code",
      "source": [
        "x[0:2, :] = 12\n",
        "x"
      ],
      "metadata": {
        "colab": {
          "base_uri": "https://localhost:8080/"
        },
        "id": "0d-ODWOWMr8C",
        "outputId": "07351c10-d7c8-437d-df62-3f6871e0fbd1"
      },
      "execution_count": null,
      "outputs": [
        {
          "output_type": "execute_result",
          "data": {
            "text/plain": [
              "tensor([[12, 12, 12, 12],\n",
              "        [12, 12, 12, 12],\n",
              "        [ 8,  9, 10, 11]])"
            ]
          },
          "metadata": {},
          "execution_count": 170
        }
      ]
    },
    {
      "cell_type": "code",
      "source": [
        "x[-1, 0:2] = -5\n",
        "x"
      ],
      "metadata": {
        "colab": {
          "base_uri": "https://localhost:8080/"
        },
        "id": "ZbXvhCidMwsy",
        "outputId": "5f8ef8b5-e33a-48f9-dda7-fd0a46caaf1c"
      },
      "execution_count": null,
      "outputs": [
        {
          "output_type": "execute_result",
          "data": {
            "text/plain": [
              "tensor([[-5, -5, 12, 12],\n",
              "        [12, 12, 12, 12],\n",
              "        [-5, -5, 10, 11]])"
            ]
          },
          "metadata": {},
          "execution_count": 173
        }
      ]
    },
    {
      "cell_type": "markdown",
      "source": [
        "## Conversión a otros tipos de datos"
      ],
      "metadata": {
        "id": "RGf8tgPxM5Hx"
      }
    },
    {
      "cell_type": "code",
      "source": [
        "type(x)"
      ],
      "metadata": {
        "colab": {
          "base_uri": "https://localhost:8080/"
        },
        "id": "7aT1OIjGNKKi",
        "outputId": "5435e943-851a-4f66-a0fd-128f115212f7"
      },
      "execution_count": null,
      "outputs": [
        {
          "output_type": "execute_result",
          "data": {
            "text/plain": [
              "torch.Tensor"
            ]
          },
          "metadata": {},
          "execution_count": 174
        }
      ]
    },
    {
      "cell_type": "code",
      "source": [
        "x_numpy = np.array(x)\n",
        "type(x_numpy)"
      ],
      "metadata": {
        "colab": {
          "base_uri": "https://localhost:8080/"
        },
        "id": "f1EjqBHoNM0B",
        "outputId": "938de5c7-21f2-4e13-ecda-4eb0b53beea0"
      },
      "execution_count": null,
      "outputs": [
        {
          "output_type": "execute_result",
          "data": {
            "text/plain": [
              "numpy.ndarray"
            ]
          },
          "metadata": {},
          "execution_count": 176
        }
      ]
    },
    {
      "cell_type": "code",
      "source": [
        "x"
      ],
      "metadata": {
        "colab": {
          "base_uri": "https://localhost:8080/"
        },
        "id": "qkH1icNzNPfS",
        "outputId": "1d38b478-11a2-4fbd-a7f7-73ecbb5ba3e9"
      },
      "execution_count": null,
      "outputs": [
        {
          "output_type": "execute_result",
          "data": {
            "text/plain": [
              "tensor([[-5, -5, 12, 12],\n",
              "        [12, 12, 12, 12],\n",
              "        [-5, -5, 10, 11]])"
            ]
          },
          "metadata": {},
          "execution_count": 177
        }
      ]
    },
    {
      "cell_type": "code",
      "source": [
        "x_numpy"
      ],
      "metadata": {
        "colab": {
          "base_uri": "https://localhost:8080/"
        },
        "id": "7B-GxCpQNUGP",
        "outputId": "e5230e7e-d0b4-463e-a9a8-3d8c92e46908"
      },
      "execution_count": null,
      "outputs": [
        {
          "output_type": "execute_result",
          "data": {
            "text/plain": [
              "array([[-5, -5, 12, 12],\n",
              "       [12, 12, 12, 12],\n",
              "       [-5, -5, 10, 11]])"
            ]
          },
          "metadata": {},
          "execution_count": 178
        }
      ]
    },
    {
      "cell_type": "code",
      "source": [
        "a = torch.tensor([3.5])\n",
        "a, a.item(), float(a), int(a)"
      ],
      "metadata": {
        "colab": {
          "base_uri": "https://localhost:8080/"
        },
        "id": "mMA33eMNNWBC",
        "outputId": "84fd049d-e29c-4cdb-b6ba-5560936dbc1a"
      },
      "execution_count": null,
      "outputs": [
        {
          "output_type": "execute_result",
          "data": {
            "text/plain": [
              "(tensor([3.5000]), 3.5, 3.5, 3)"
            ]
          },
          "metadata": {},
          "execution_count": 179
        }
      ]
    },
    {
      "cell_type": "markdown",
      "source": [
        "# Repaso de álgebra lineal"
      ],
      "metadata": {
        "id": "xpkuByTONbFL"
      }
    },
    {
      "cell_type": "code",
      "source": [
        "A = torch.arange(20).reshape(5, 4)\n",
        "A"
      ],
      "metadata": {
        "colab": {
          "base_uri": "https://localhost:8080/"
        },
        "id": "BNuCo9pKNuS4",
        "outputId": "53a64f5f-abc4-4ea0-9b74-8226020da679"
      },
      "execution_count": null,
      "outputs": [
        {
          "output_type": "execute_result",
          "data": {
            "text/plain": [
              "tensor([[ 0,  1,  2,  3],\n",
              "        [ 4,  5,  6,  7],\n",
              "        [ 8,  9, 10, 11],\n",
              "        [12, 13, 14, 15],\n",
              "        [16, 17, 18, 19]])"
            ]
          },
          "metadata": {},
          "execution_count": 188
        }
      ]
    },
    {
      "cell_type": "code",
      "source": [
        "A.T"
      ],
      "metadata": {
        "colab": {
          "base_uri": "https://localhost:8080/"
        },
        "id": "FRUWLdMQP53g",
        "outputId": "c0e0f4c4-a05f-4716-864b-7296f1900d18"
      },
      "execution_count": null,
      "outputs": [
        {
          "output_type": "execute_result",
          "data": {
            "text/plain": [
              "tensor([[ 0,  4,  8, 12, 16],\n",
              "        [ 1,  5,  9, 13, 17],\n",
              "        [ 2,  6, 10, 14, 18],\n",
              "        [ 3,  7, 11, 15, 19]])"
            ]
          },
          "metadata": {},
          "execution_count": 189
        }
      ]
    },
    {
      "cell_type": "markdown",
      "source": [
        "## Producto de vectores"
      ],
      "metadata": {
        "id": "caZhrSQJRlEj"
      }
    },
    {
      "cell_type": "code",
      "source": [
        "x = torch.arange(4, dtype=torch.float32)\n",
        "y = torch.ones(4) * 2\n",
        "x, y, torch.dot(x, y)"
      ],
      "metadata": {
        "colab": {
          "base_uri": "https://localhost:8080/"
        },
        "id": "ks-NeAtwP7x3",
        "outputId": "88478740-86ad-4efc-f1d9-5ab3bb192eab"
      },
      "execution_count": null,
      "outputs": [
        {
          "output_type": "execute_result",
          "data": {
            "text/plain": [
              "(tensor([0., 1., 2., 3.]), tensor([2., 2., 2., 2.]), tensor(12.))"
            ]
          },
          "metadata": {},
          "execution_count": 198
        }
      ]
    },
    {
      "cell_type": "markdown",
      "source": [
        "## Producto de matrices"
      ],
      "metadata": {
        "id": "Q749uKVNQD9L"
      }
    },
    {
      "cell_type": "code",
      "source": [
        "A = torch.arange(20).reshape(5, 4)\n",
        "B = torch.ones(4, 3, dtype=torch.long)\n",
        "torch.mm(A, B)"
      ],
      "metadata": {
        "colab": {
          "base_uri": "https://localhost:8080/"
        },
        "id": "5Le-sEB-RsfR",
        "outputId": "8305826d-8ccd-405a-b744-456682821a52"
      },
      "execution_count": null,
      "outputs": [
        {
          "output_type": "execute_result",
          "data": {
            "text/plain": [
              "tensor([[ 6,  6,  6],\n",
              "        [22, 22, 22],\n",
              "        [38, 38, 38],\n",
              "        [54, 54, 54],\n",
              "        [70, 70, 70]])"
            ]
          },
          "metadata": {},
          "execution_count": 206
        }
      ]
    },
    {
      "cell_type": "code",
      "source": [
        "torch.matmul(A, B).shape"
      ],
      "metadata": {
        "colab": {
          "base_uri": "https://localhost:8080/"
        },
        "id": "Csi6Ks5RRuaJ",
        "outputId": "328c56df-597a-488d-c0eb-ca2da8cedd78"
      },
      "execution_count": null,
      "outputs": [
        {
          "output_type": "execute_result",
          "data": {
            "text/plain": [
              "torch.Size([5, 3])"
            ]
          },
          "metadata": {},
          "execution_count": 207
        }
      ]
    },
    {
      "cell_type": "markdown",
      "source": [
        "## Normas\n",
        "\n",
        "Hablar más sobre normas"
      ],
      "metadata": {
        "id": "PPVIUej0R_Lh"
      }
    },
    {
      "cell_type": "markdown",
      "source": [
        "Norma 1\n",
        "\n",
        "$$\\|\\mathbf{x}\\|_1 = \\sum_{i=1}^n \\left|x_i \\right|$$\n",
        "\n",
        "\n",
        "Norma 2\n",
        "\n",
        "$$\\|\\mathbf{x}\\|_2 = \\sqrt{\\sum_{i=1}^n x_i^2}$$\n",
        "\n",
        "Norma N\n",
        "\n",
        "$$\\|\\mathbf{x}\\|_p = \\left(\\sum_{i=1}^n \\left|x_i \\right|^p \\right)^{1/p}$$"
      ],
      "metadata": {
        "id": "mF_TPUNCTHtq"
      }
    },
    {
      "cell_type": "markdown",
      "source": [
        "# Documentación"
      ],
      "metadata": {
        "id": "-ZWeLaEeol5U"
      }
    },
    {
      "cell_type": "code",
      "source": [
        "help(torch.ones)"
      ],
      "metadata": {
        "id": "I476r08kTKOi"
      },
      "execution_count": null,
      "outputs": []
    },
    {
      "cell_type": "code",
      "source": [
        "torch.matmul?"
      ],
      "metadata": {
        "id": "NsAbHU95UKV6"
      },
      "execution_count": null,
      "outputs": []
    }
  ]
}