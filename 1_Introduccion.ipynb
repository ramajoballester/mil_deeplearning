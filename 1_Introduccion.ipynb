{
  "nbformat": 4,
  "nbformat_minor": 0,
  "metadata": {
    "colab": {
      "name": "1_Introduccion.ipynb",
      "provenance": [],
      "toc_visible": true,
      "mount_file_id": "1EwZLwXCFp8ydXWaMIIAnq-m0v_Jj_qY0",
      "authorship_tag": "ABX9TyOXQDhhZVICC8pD1XOSsrdU",
      "include_colab_link": true
    },
    "kernelspec": {
      "name": "python3",
      "display_name": "Python 3"
    },
    "language_info": {
      "name": "python"
    }
  },
  "cells": [
    {
      "cell_type": "markdown",
      "metadata": {
        "id": "view-in-github",
        "colab_type": "text"
      },
      "source": [
        "<a href=\"https://colab.research.google.com/github/ramajoballester/mil_deeplearning/blob/main/1_Introduccion.ipynb\" target=\"_parent\"><img src=\"https://colab.research.google.com/assets/colab-badge.svg\" alt=\"Open In Colab\"/></a>"
      ]
    },
    {
      "cell_type": "markdown",
      "source": [
        "# Sesión 1. Introducción al Deep Learning"
      ],
      "metadata": {
        "id": "nzf-42lVT_4Q"
      }
    },
    {
      "cell_type": "markdown",
      "source": [
        "# Introducción"
      ],
      "metadata": {
        "id": "W83Mx2E_VE86"
      }
    },
    {
      "cell_type": "markdown",
      "source": [
        "## Instalación de librerías"
      ],
      "metadata": {
        "id": "PUkvbUwvUJn3"
      }
    },
    {
      "cell_type": "code",
      "source": [
        "! pip install -q wandb"
      ],
      "metadata": {
        "id": "Pq1u1BtAblvQ",
        "colab": {
          "base_uri": "https://localhost:8080/"
        },
        "outputId": "f6297c6f-e8ee-47f8-cb1b-a15d457832df"
      },
      "execution_count": 2,
      "outputs": [
        {
          "output_type": "stream",
          "name": "stdout",
          "text": [
            "\u001b[K     |████████████████████████████████| 1.8 MB 3.3 MB/s \n",
            "\u001b[K     |████████████████████████████████| 181 kB 54.8 MB/s \n",
            "\u001b[K     |████████████████████████████████| 145 kB 62.4 MB/s \n",
            "\u001b[K     |████████████████████████████████| 63 kB 1.7 MB/s \n",
            "\u001b[?25h  Building wheel for pathtools (setup.py) ... \u001b[?25l\u001b[?25hdone\n"
          ]
        }
      ]
    },
    {
      "cell_type": "code",
      "source": [
        "!git status"
      ],
      "metadata": {
        "colab": {
          "base_uri": "https://localhost:8080/"
        },
        "id": "ZJNuf6O5MJp1",
        "outputId": "ff92a1a5-f1a8-4d4b-d6ab-93449d0a6aed"
      },
      "execution_count": null,
      "outputs": [
        {
          "output_type": "stream",
          "name": "stdout",
          "text": [
            "fatal: not a git repository (or any of the parent directories): .git\n"
          ]
        }
      ]
    },
    {
      "cell_type": "code",
      "source": [
        "!git clone https://github.com/d2l-ai/d2l-en.git"
      ],
      "metadata": {
        "id": "ntcxGQ3bMcdt"
      },
      "execution_count": null,
      "outputs": []
    },
    {
      "cell_type": "code",
      "source": [
        "!git clone https://github.com/ramajoballester/mil_deeplearning.git"
      ],
      "metadata": {
        "id": "lYZhg7nvMcp0",
        "colab": {
          "base_uri": "https://localhost:8080/"
        },
        "outputId": "b1a42d5d-07cd-4970-eee6-ac8e6abd0139"
      },
      "execution_count": null,
      "outputs": [
        {
          "output_type": "stream",
          "name": "stdout",
          "text": [
            "Cloning into 'mil_deeplearning'...\n",
            "remote: Enumerating objects: 35, done.\u001b[K\n",
            "remote: Counting objects: 100% (35/35), done.\u001b[K\n",
            "remote: Compressing objects: 100% (32/32), done.\u001b[K\n",
            "remote: Total 35 (delta 8), reused 0 (delta 0), pack-reused 0\u001b[K\n",
            "Unpacking objects: 100% (35/35), done.\n"
          ]
        }
      ]
    },
    {
      "cell_type": "markdown",
      "source": [
        "# **Text**"
      ],
      "metadata": {
        "id": "FslazqChxVHf"
      }
    },
    {
      "cell_type": "markdown",
      "source": [
        "#### Text"
      ],
      "metadata": {
        "id": "SGcPdX43b4bJ"
      }
    },
    {
      "cell_type": "code",
      "source": [
        "!pip install --upgrade -q gspread"
      ],
      "metadata": {
        "id": "Vp8lotXF-WmV"
      },
      "execution_count": 1,
      "outputs": []
    },
    {
      "cell_type": "code",
      "source": [
        "import gspread\n",
        "import pandas as pd\n",
        "from google.colab import auth\n",
        "auth.authenticate_user()\n",
        "from google.auth import default"
      ],
      "metadata": {
        "id": "epbZLt0x-uaW"
      },
      "execution_count": 2,
      "outputs": []
    },
    {
      "cell_type": "code",
      "source": [
        "creds, _ = default()\n",
        "gc = gspread.authorize(creds)"
      ],
      "metadata": {
        "id": "NRXSQQ6a-2-m"
      },
      "execution_count": 3,
      "outputs": []
    },
    {
      "cell_type": "code",
      "source": [
        "url = 'https://docs.google.com/spreadsheets/d/1rDJQgihE4bvVNGmPjT8sH5mCRrbOfNcEFf8KZoxZ870/edit?usp=sharing'\n",
        "worksheet = gc.open_by_url(url)"
      ],
      "metadata": {
        "id": "dAZ-u1NgxIKP"
      },
      "execution_count": 34,
      "outputs": []
    },
    {
      "cell_type": "code",
      "source": [
        "a = float(worksheet.sheet1.get('C5')[0][0])"
      ],
      "metadata": {
        "id": "Vck2x1bA_qzH"
      },
      "execution_count": 35,
      "outputs": []
    },
    {
      "cell_type": "code",
      "source": [
        "a"
      ],
      "metadata": {
        "colab": {
          "base_uri": "https://localhost:8080/"
        },
        "id": "3Ra600xzFyAo",
        "outputId": "756c8434-1a5e-4e9b-cc37-a95e0df109d8"
      },
      "execution_count": 36,
      "outputs": [
        {
          "output_type": "execute_result",
          "data": {
            "text/plain": [
              "0.954782"
            ]
          },
          "metadata": {},
          "execution_count": 36
        }
      ]
    },
    {
      "cell_type": "code",
      "source": [
        "row = 5\n",
        "col = 3\n",
        "value = 0.954782\n",
        "worksheet.sheet1.update_cell(row, col, value);"
      ],
      "metadata": {
        "id": "tnqg-YeiCEzu"
      },
      "execution_count": 26,
      "outputs": []
    },
    {
      "cell_type": "code",
      "source": [
        ""
      ],
      "metadata": {
        "id": "g-LRswoNATYO"
      },
      "execution_count": null,
      "outputs": []
    }
  ]
}