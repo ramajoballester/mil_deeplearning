{
  "nbformat": 4,
  "nbformat_minor": 0,
  "metadata": {
    "colab": {
      "name": "1_Introduccion.ipynb",
      "provenance": [],
      "toc_visible": true,
      "collapsed_sections": [
        "PUkvbUwvUJn3",
        "tq3IXzmilhlI"
      ],
      "mount_file_id": "1EwZLwXCFp8ydXWaMIIAnq-m0v_Jj_qY0",
      "authorship_tag": "ABX9TyMI4nSjTbEFt1BVV24vrb/T",
      "include_colab_link": true
    },
    "kernelspec": {
      "name": "python3",
      "display_name": "Python 3"
    },
    "language_info": {
      "name": "python"
    }
  },
  "cells": [
    {
      "cell_type": "markdown",
      "metadata": {
        "id": "view-in-github",
        "colab_type": "text"
      },
      "source": [
        "<a href=\"https://colab.research.google.com/github/ramajoballester/mil_deeplearning/blob/main/1_Introduccion.ipynb\" target=\"_parent\"><img src=\"https://colab.research.google.com/assets/colab-badge.svg\" alt=\"Open In Colab\"/></a>"
      ]
    },
    {
      "cell_type": "markdown",
      "source": [
        "# Sesión 1. Introducción al Deep Learning"
      ],
      "metadata": {
        "id": "nzf-42lVT_4Q"
      }
    },
    {
      "cell_type": "markdown",
      "source": [
        "# Introducción"
      ],
      "metadata": {
        "id": "W83Mx2E_VE86"
      }
    },
    {
      "cell_type": "markdown",
      "source": [
        "En solo los últimos cinco años, el Aprendizaje Profundo (*Deep Learning*) ha impulsado un rápido progreso en campos tan diversos como la visión por ordenador, el procesamiento del lenguaje natural, el reconocimiento automático del habla, el aprendizaje por refuerzo y la informática biomédica. Además, el éxito del aprendizaje profundo en tantas tareas de interés ha catalizado incluso desarrollos en el aprendizaje automático teórico y la estadística. Con estos avances en la mano, ahora podemos construir coches que se conducen solos con más autonomía que nunca (y menos autonomía de lo que algunas empresas podrían hacer creer), sistemas de respuesta inteligente que redactan automáticamente los correos electrónicos más mundanos y máquinas que dominan a los mejores humanos del mundo en juegos de mesa como el Go, una hazaña que antes se creía que estaba a décadas de distancia. Estas herramientas ya ejercen un impacto cada vez mayor en la industria y la sociedad, cambiando la forma de hacer películas, diagnosticar enfermedades y desempeñando un papel cada vez más importante en las ciencias básicas, desde la astrofísica hasta la biología."
      ],
      "metadata": {
        "id": "vr71NX7aCJqJ"
      }
    },
    {
      "cell_type": "markdown",
      "source": [
        "## Instalación de librerías (quitar?)"
      ],
      "metadata": {
        "id": "PUkvbUwvUJn3"
      }
    },
    {
      "cell_type": "code",
      "source": [
        "! pip install -q wandb\n",
        "! pip install -q --upgrade albumentations\n",
        "! pip install -q ipympl"
      ],
      "metadata": {
        "id": "Pq1u1BtAblvQ",
        "colab": {
          "base_uri": "https://localhost:8080/"
        },
        "outputId": "32184230-9ad0-4b18-de33-122927ec9a17"
      },
      "execution_count": 145,
      "outputs": [
        {
          "output_type": "stream",
          "name": "stdout",
          "text": [
            "\u001b[K     |████████████████████████████████| 102 kB 5.8 MB/s \n",
            "\u001b[K     |████████████████████████████████| 47.8 MB 1.4 MB/s \n",
            "\u001b[?25h"
          ]
        }
      ]
    },
    {
      "cell_type": "code",
      "source": [
        "!pip install --upgrade -q gspread"
      ],
      "metadata": {
        "id": "Vp8lotXF-WmV"
      },
      "execution_count": null,
      "outputs": []
    },
    {
      "cell_type": "code",
      "source": [
        "import gspread\n",
        "import pandas as pd\n",
        "from google.colab import auth\n",
        "auth.authenticate_user()\n",
        "from google.auth import default"
      ],
      "metadata": {
        "id": "epbZLt0x-uaW"
      },
      "execution_count": 1,
      "outputs": []
    },
    {
      "cell_type": "code",
      "source": [
        "creds, _ = default()\n",
        "gc = gspread.authorize(creds)"
      ],
      "metadata": {
        "id": "NRXSQQ6a-2-m"
      },
      "execution_count": 2,
      "outputs": []
    },
    {
      "cell_type": "code",
      "source": [
        "url = 'https://docs.google.com/spreadsheets/d/1rDJQgihE4bvVNGmPjT8sH5mCRrbOfNcEFf8KZoxZ870/edit?usp=sharing'\n",
        "worksheet = gc.open_by_url(url)"
      ],
      "metadata": {
        "id": "dAZ-u1NgxIKP"
      },
      "execution_count": 3,
      "outputs": []
    },
    {
      "cell_type": "code",
      "source": [
        "a = float(worksheet.sheet1.get('C5')[0][0])"
      ],
      "metadata": {
        "id": "Vck2x1bA_qzH"
      },
      "execution_count": null,
      "outputs": []
    },
    {
      "cell_type": "code",
      "source": [
        "a"
      ],
      "metadata": {
        "colab": {
          "base_uri": "https://localhost:8080/"
        },
        "id": "3Ra600xzFyAo",
        "outputId": "756c8434-1a5e-4e9b-cc37-a95e0df109d8"
      },
      "execution_count": null,
      "outputs": [
        {
          "output_type": "execute_result",
          "data": {
            "text/plain": [
              "0.954782"
            ]
          },
          "metadata": {},
          "execution_count": 36
        }
      ]
    },
    {
      "cell_type": "code",
      "source": [
        "row = 5\n",
        "col = 3\n",
        "value = 0.954782\n",
        "worksheet.sheet1.update_cell(row, col, value);"
      ],
      "metadata": {
        "id": "tnqg-YeiCEzu"
      },
      "execution_count": null,
      "outputs": []
    },
    {
      "cell_type": "markdown",
      "source": [
        "# Regresión lineal"
      ],
      "metadata": {
        "id": "g-LRswoNATYO"
      }
    },
    {
      "cell_type": "markdown",
      "source": [
        "La regresión lineal es un modelo matemático que aproxima la relación entre una o más variables independientes y una variable dependiente. En las ciencias naturales y sociales, el objetivo de la regresión suele ser caracterizar la relación entre las entradas y las salidas. El aprendizaje automático, en cambio, se ocupa más a menudo de la predicción.\n",
        "\n",
        "Los problemas de regresión surgen siempre que queremos predecir un valor numérico. Algunos ejemplos comunes son la predicción de precios (de viviendas, acciones, etc.), la predicción de la duración de la estancia (para los pacientes en el hospital), la previsión de la demanda (para las ventas al por menor), entre otros innumerables. No todos los problemas de predicción son problemas clásicos de regresión. En los problemas de clasificación, por ejemplo, el objetivo es predecir la pertenencia a un conjunto de categorías."
      ],
      "metadata": {
        "id": "EMu6BcL2_Ac-"
      }
    },
    {
      "cell_type": "markdown",
      "source": [
        "Más sobre teoría detrás de reg. lineal?"
      ],
      "metadata": {
        "id": "CmulzRGHennn"
      }
    },
    {
      "cell_type": "code",
      "source": [
        "import random\n",
        "import torch\n",
        "# %matplotlib notebook\n",
        "import matplotlib.pyplot as plt\n",
        "\n",
        "from matplotlib.colors import hsv_to_rgb"
      ],
      "metadata": {
        "id": "-3oAS1GyeneW"
      },
      "execution_count": 143,
      "outputs": []
    },
    {
      "cell_type": "code",
      "source": [
        "def synthetic_data(w, b, noise, num_examples):\n",
        "    \"\"\"Generate y = Xw + b + noise.\"\"\"\n",
        "    X = torch.normal(0, 1, (num_examples, len(w)))\n",
        "    y = torch.matmul(X, w) + b\n",
        "    y += torch.normal(0, noise, y.shape)\n",
        "    return X, y.reshape((-1, 1))\n",
        "\n",
        "true_w = torch.tensor([2.0])\n",
        "true_b = 4.2\n",
        "noise = 0.5\n",
        "features, labels = synthetic_data(true_w, true_b, noise, 1000)"
      ],
      "metadata": {
        "id": "GzcEopeqenUt"
      },
      "execution_count": 28,
      "outputs": []
    },
    {
      "cell_type": "code",
      "source": [
        "plt.scatter(features[:, 0], labels, 1);"
      ],
      "metadata": {
        "colab": {
          "base_uri": "https://localhost:8080/",
          "height": 265
        },
        "id": "-7PPyyyFemkn",
        "outputId": "4003091d-a8e6-4e7c-930a-5e7dc1f6cd07"
      },
      "execution_count": 29,
      "outputs": [
        {
          "output_type": "display_data",
          "data": {
            "text/plain": [
              "<Figure size 432x288 with 1 Axes>"
            ],
            "image/png": "[encoded data removed]"
          },
          "metadata": {
            "needs_background": "light"
          }
        }
      ]
    },
    {
      "cell_type": "code",
      "source": [
        "def data_iter(batch_size, features, labels):\n",
        "    num_examples = len(features)\n",
        "    indices = list(range(num_examples))\n",
        "    # The examples are read at random, in no particular order\n",
        "    random.shuffle(indices)\n",
        "    for i in range(0, num_examples, batch_size):\n",
        "        batch_indices = torch.tensor(\n",
        "            indices[i: min(i + batch_size, num_examples)])\n",
        "        yield features[batch_indices], labels[batch_indices]"
      ],
      "metadata": {
        "id": "pxpE59QMlSbg"
      },
      "execution_count": 30,
      "outputs": []
    },
    {
      "cell_type": "code",
      "source": [
        "batch_size = 8\n",
        "\n",
        "for X, y in data_iter(batch_size, features, labels):\n",
        "    print(X, '\\n', y)\n",
        "    break"
      ],
      "metadata": {
        "colab": {
          "base_uri": "https://localhost:8080/"
        },
        "id": "fUYPznlGkwFX",
        "outputId": "86dc3dcc-f3fa-4339-c881-4b1b6e2bff2b"
      },
      "execution_count": 31,
      "outputs": [
        {
          "output_type": "stream",
          "name": "stdout",
          "text": [
            "tensor([[-0.5878],\n",
            "        [ 0.7563],\n",
            "        [-0.7238],\n",
            "        [-0.8571],\n",
            "        [ 1.7229],\n",
            "        [ 0.3907],\n",
            "        [-0.9360],\n",
            "        [ 0.4381]]) \n",
            " tensor([[3.5591],\n",
            "        [5.6308],\n",
            "        [3.1466],\n",
            "        [2.5750],\n",
            "        [7.4162],\n",
            "        [5.1642],\n",
            "        [2.5212],\n",
            "        [4.5701]])\n"
          ]
        }
      ]
    },
    {
      "cell_type": "code",
      "source": [
        "def linreg(X, w, b):\n",
        "    \"\"\"Modelo de regresión lineal\"\"\"\n",
        "    return torch.matmul(X, w) + b"
      ],
      "metadata": {
        "id": "KxWgrHTgllBy"
      },
      "execution_count": 32,
      "outputs": []
    },
    {
      "cell_type": "code",
      "source": [
        "def squared_loss(y_hat, y):\n",
        "    \"\"\"Función de pérdida Squared Loss\"\"\"\n",
        "    return (y_hat - y.reshape(y_hat.shape)) ** 2 / 2"
      ],
      "metadata": {
        "id": "uRvU2V0YmqTp"
      },
      "execution_count": 33,
      "outputs": []
    },
    {
      "cell_type": "code",
      "source": [
        "def sgd(params, lr, batch_size):\n",
        "    \"\"\"Minibatch stochastic gradient descent.\"\"\"\n",
        "    with torch.no_grad():\n",
        "        for param in params:\n",
        "            param -= lr * param.grad / batch_size\n",
        "            param.grad.zero_()"
      ],
      "metadata": {
        "id": "KfYmP07rmzzY"
      },
      "execution_count": 34,
      "outputs": []
    },
    {
      "cell_type": "code",
      "source": [
        "w = torch.normal(0, 0.01, size=(len(true_w),1), requires_grad=True)\n",
        "b = torch.zeros(1, requires_grad=True)\n",
        "\n",
        "lr = 0.01\n",
        "num_epochs = 5\n",
        "net = linreg\n",
        "loss = squared_loss\n",
        "\n",
        "w_vector = [w.item()]\n",
        "b_vector = [b.item()]\n",
        "\n",
        "for epoch in range(num_epochs):\n",
        "    for X, y in data_iter(batch_size, features, labels):\n",
        "        l = loss(net(X, w, b), y)  # Minibatch loss in `X` and `y`\n",
        "        # Compute gradient on `l` with respect to [`w`, `b`]\n",
        "        l.sum().backward()\n",
        "        sgd([w, b], lr, batch_size)  # Update parameters using their gradient\n",
        "    with torch.no_grad():\n",
        "        train_l = loss(net(features, w, b), labels)\n",
        "        print(f'epoch {epoch + 1}, loss {float(train_l.mean()):f}')\n",
        "    \n",
        "    w_vector.append(w.item())\n",
        "    b_vector.append(b.item())"
      ],
      "metadata": {
        "colab": {
          "base_uri": "https://localhost:8080/"
        },
        "id": "oZ3gwpe7m8iA",
        "outputId": "62a302cd-3cf0-4b06-fc7f-37336897d08c"
      },
      "execution_count": 158,
      "outputs": [
        {
          "output_type": "stream",
          "name": "stdout",
          "text": [
            "epoch 1, loss 0.986895\n",
            "epoch 2, loss 0.188370\n",
            "epoch 3, loss 0.125679\n",
            "epoch 4, loss 0.119911\n",
            "epoch 5, loss 0.119269\n"
          ]
        }
      ]
    },
    {
      "cell_type": "code",
      "source": [
        "print('Error de estimación w: {}'.format(true_w - w.reshape(true_w.shape)))\n",
        "print('Error de estimación b: {}'.format(true_b - b))"
      ],
      "metadata": {
        "colab": {
          "base_uri": "https://localhost:8080/"
        },
        "id": "7__tXXWfp5XS",
        "outputId": "f7a0a841-c8dd-4f7d-8486-28042136c93f"
      },
      "execution_count": 159,
      "outputs": [
        {
          "output_type": "stream",
          "name": "stdout",
          "text": [
            "Error de estimación w: tensor([0.0246], grad_fn=<SubBackward0>)\n",
            "Error de estimación b: tensor([0.0022], grad_fn=<RsubBackward1>)\n"
          ]
        }
      ]
    },
    {
      "cell_type": "code",
      "source": [
        "print(w)\n",
        "print(true_w)"
      ],
      "metadata": {
        "colab": {
          "base_uri": "https://localhost:8080/"
        },
        "id": "7iLQS_kSp9fI",
        "outputId": "d24dabdd-3508-439b-819f-909d454d8616"
      },
      "execution_count": 160,
      "outputs": [
        {
          "output_type": "stream",
          "name": "stdout",
          "text": [
            "tensor([[1.9754]], requires_grad=True)\n",
            "tensor([2.])\n"
          ]
        }
      ]
    },
    {
      "cell_type": "code",
      "source": [
        "torch.Tensor([[4], [5]]).shape"
      ],
      "metadata": {
        "colab": {
          "base_uri": "https://localhost:8080/"
        },
        "id": "IDdaabm16ag1",
        "outputId": "d41942af-67f5-4c55-aec3-3647ba238833"
      },
      "execution_count": 161,
      "outputs": [
        {
          "output_type": "execute_result",
          "data": {
            "text/plain": [
              "torch.Size([2, 1])"
            ]
          },
          "metadata": {},
          "execution_count": 161
        }
      ]
    },
    {
      "cell_type": "code",
      "source": [
        "x1 = min(features[:, 0])\n",
        "x2 = max(features[:, 0])\n",
        "fig = plt.figure()\n",
        "plt.scatter(features[:, 0], labels, 1, color='k');\n",
        "for i in range(len(w_vector)):\n",
        "    y1, y2 = (w_vector[i] * torch.Tensor([[x1], [x2]]) + b_vector[i]).detach().numpy()\n",
        "    plt.plot([x1, x2], [y1, y2], color=hsv_to_rgb((0.5*(i/len(w_vector)), 1, 0.75)), linewidth=2);"
      ],
      "metadata": {
        "colab": {
          "base_uri": "https://localhost:8080/",
          "height": 265
        },
        "id": "Lpym07tD3qot",
        "outputId": "f53a209e-1ae1-4c94-c8f7-7adfee84d54a"
      },
      "execution_count": 163,
      "outputs": [
        {
          "output_type": "display_data",
          "data": {
            "text/plain": [
              "<Figure size 432x288 with 1 Axes>"
            ],
            "image/png": "[encoded data removed]"
          },
          "metadata": {
            "needs_background": "light"
          }
        }
      ]
    },
    {
      "cell_type": "markdown",
      "source": [
        "## Read CSV"
      ],
      "metadata": {
        "id": "tq3IXzmilhlI"
      }
    },
    {
      "cell_type": "code",
      "source": [
        "import pandas as pd"
      ],
      "metadata": {
        "id": "wQHDak487NCE"
      },
      "execution_count": 4,
      "outputs": []
    },
    {
      "cell_type": "code",
      "source": [
        "df_train = pd.read_csv('/content/sample_data/california_housing_train.csv')"
      ],
      "metadata": {
        "id": "6Bw9xqGK9zR_"
      },
      "execution_count": 7,
      "outputs": []
    },
    {
      "cell_type": "code",
      "source": [
        ""
      ],
      "metadata": {
        "id": "PZo7i_v3-Flg"
      },
      "execution_count": null,
      "outputs": []
    }
  ]
}