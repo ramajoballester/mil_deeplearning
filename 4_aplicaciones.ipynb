{
  "cells": [
    {
      "cell_type": "markdown",
      "metadata": {
        "id": "view-in-github",
        "colab_type": "text"
      },
      "source": [
        "<a href=\"https://colab.research.google.com/github/ramajoballester/mil_deeplearning/blob/main/4_aplicaciones.ipynb\" target=\"_parent\"><img src=\"https://colab.research.google.com/assets/colab-badge.svg\" alt=\"Open In Colab\"/></a>"
      ]
    },
    {
      "cell_type": "markdown",
      "metadata": {
        "id": "knr1mZWSugBr"
      },
      "source": [
        "# Sesión 4. Aplicaciones y casos de uso"
      ]
    },
    {
      "cell_type": "markdown",
      "metadata": {
        "id": "xMT34YZ3unax"
      },
      "source": [
        "# Detección con YOLOv5"
      ]
    },
    {
      "cell_type": "code",
      "execution_count": null,
      "metadata": {
        "colab": {
          "base_uri": "https://localhost:8080/"
        },
        "id": "mSXznZUmbhke",
        "outputId": "c29ef104-0047-4ff4-c7e7-c2d87a192217"
      },
      "outputs": [
        {
          "name": "stdout",
          "output_type": "stream",
          "text": [
            "\u001b[?25l\r\u001b[K     |▉                               | 10 kB 25.9 MB/s eta 0:00:01\r\u001b[K     |█▋                              | 20 kB 28.8 MB/s eta 0:00:01\r\u001b[K     |██▍                             | 30 kB 32.4 MB/s eta 0:00:01\r\u001b[K     |███▏                            | 40 kB 20.2 MB/s eta 0:00:01\r\u001b[K     |████                            | 51 kB 15.9 MB/s eta 0:00:01\r\u001b[K     |████▊                           | 61 kB 18.1 MB/s eta 0:00:01\r\u001b[K     |█████▌                          | 71 kB 18.0 MB/s eta 0:00:01\r\u001b[K     |██████▎                         | 81 kB 18.9 MB/s eta 0:00:01\r\u001b[K     |███████                         | 92 kB 20.2 MB/s eta 0:00:01\r\u001b[K     |███████▉                        | 102 kB 18.4 MB/s eta 0:00:01\r\u001b[K     |████████▋                       | 112 kB 18.4 MB/s eta 0:00:01\r\u001b[K     |█████████▍                      | 122 kB 18.4 MB/s eta 0:00:01\r\u001b[K     |██████████▏                     | 133 kB 18.4 MB/s eta 0:00:01\r\u001b[K     |███████████                     | 143 kB 18.4 MB/s eta 0:00:01\r\u001b[K     |███████████▊                    | 153 kB 18.4 MB/s eta 0:00:01\r\u001b[K     |████████████▌                   | 163 kB 18.4 MB/s eta 0:00:01\r\u001b[K     |█████████████▎                  | 174 kB 18.4 MB/s eta 0:00:01\r\u001b[K     |██████████████                  | 184 kB 18.4 MB/s eta 0:00:01\r\u001b[K     |██████████████▉                 | 194 kB 18.4 MB/s eta 0:00:01\r\u001b[K     |███████████████▋                | 204 kB 18.4 MB/s eta 0:00:01\r\u001b[K     |████████████████▍               | 215 kB 18.4 MB/s eta 0:00:01\r\u001b[K     |█████████████████▏              | 225 kB 18.4 MB/s eta 0:00:01\r\u001b[K     |██████████████████              | 235 kB 18.4 MB/s eta 0:00:01\r\u001b[K     |██████████████████▊             | 245 kB 18.4 MB/s eta 0:00:01\r\u001b[K     |███████████████████▌            | 256 kB 18.4 MB/s eta 0:00:01\r\u001b[K     |████████████████████▎           | 266 kB 18.4 MB/s eta 0:00:01\r\u001b[K     |█████████████████████           | 276 kB 18.4 MB/s eta 0:00:01\r\u001b[K     |█████████████████████▉          | 286 kB 18.4 MB/s eta 0:00:01\r\u001b[K     |██████████████████████▋         | 296 kB 18.4 MB/s eta 0:00:01\r\u001b[K     |███████████████████████▍        | 307 kB 18.4 MB/s eta 0:00:01\r\u001b[K     |████████████████████████▏       | 317 kB 18.4 MB/s eta 0:00:01\r\u001b[K     |█████████████████████████       | 327 kB 18.4 MB/s eta 0:00:01\r\u001b[K     |█████████████████████████▊      | 337 kB 18.4 MB/s eta 0:00:01\r\u001b[K     |██████████████████████████▌     | 348 kB 18.4 MB/s eta 0:00:01\r\u001b[K     |███████████████████████████▎    | 358 kB 18.4 MB/s eta 0:00:01\r\u001b[K     |████████████████████████████    | 368 kB 18.4 MB/s eta 0:00:01\r\u001b[K     |████████████████████████████▉   | 378 kB 18.4 MB/s eta 0:00:01\r\u001b[K     |█████████████████████████████▋  | 389 kB 18.4 MB/s eta 0:00:01\r\u001b[K     |██████████████████████████████▌ | 399 kB 18.4 MB/s eta 0:00:01\r\u001b[K     |███████████████████████████████▎| 409 kB 18.4 MB/s eta 0:00:01\r\u001b[K     |████████████████████████████████| 419 kB 18.4 MB/s \n",
            "\u001b[?25h"
          ]
        }
      ],
      "source": [
        "! pip install -q torchmetrics torchsummary"
      ]
    },
    {
      "cell_type": "code",
      "execution_count": null,
      "metadata": {
        "id": "Itw6aCoQomK6"
      },
      "outputs": [],
      "source": [
        "import torch\n",
        "import matplotlib\n",
        "import matplotlib.pyplot as plt\n",
        "import numpy as np\n",
        "import torch.nn.functional as F\n",
        "import torchvision\n",
        "import torchmetrics\n",
        "from torch import nn\n",
        "from torchsummary import summary"
      ]
    },
    {
      "cell_type": "markdown",
      "metadata": {
        "id": "XYnECRT0b7jV"
      },
      "source": [
        "[Repositorio YOLOv5](https://github.com/ultralytics/yolov5)"
      ]
    },
    {
      "cell_type": "code",
      "execution_count": null,
      "metadata": {
        "id": "vVifNjkNO8ex"
      },
      "outputs": [],
      "source": [
        "model = torch.hub.load('ultralytics/yolov5', 'yolov5s', pretrained=True)\n",
        "# model = torch.hub.load('ultralytics/yolov5', 'custom', path=model_path)"
      ]
    },
    {
      "cell_type": "code",
      "execution_count": null,
      "metadata": {
        "id": "MfTNhzxfW4na"
      },
      "outputs": [],
      "source": [
        "! wget -nc -P ./data/ https://github.com/jbrownlee/Datasets/releases/download/Flickr8k/Flickr8k_Dataset.zip\n",
        "! wget -nc -P ./data/ https://github.com/jbrownlee/Datasets/releases/download/Flickr8k/Flickr8k_text.zip\n",
        "! unzip -q ./data/Flickr8k_Dataset.zip -d ./data/Flickr8k/\n",
        "! unzip -q ./data/Flickr8k_text.zip -d ./data/Flickr8k/"
      ]
    },
    {
      "cell_type": "code",
      "execution_count": null,
      "metadata": {
        "id": "CVr5i6QOQc5u"
      },
      "outputs": [],
      "source": [
        "transf = torchvision.transforms.Compose([\n",
        "    torchvision.transforms.ToTensor(),\n",
        "    torchvision.transforms.Resize((640, 640))\n",
        "])\n",
        "dataset = torchvision.datasets.Flickr30k(root='./data/Flickr8k/Flicker8k_Dataset',\n",
        "                                        ann_file='./data/Flickr8k/Flickr8k.token.txt',\n",
        "                                        transform=transf)"
      ]
    },
    {
      "cell_type": "code",
      "execution_count": null,
      "metadata": {
        "id": "EF3UagHrQc0x"
      },
      "outputs": [],
      "source": [
        "dataloader = torch.utils.data.DataLoader(dataset, 1, shuffle=True)\n",
        "data_iter = iter(dataloader)"
      ]
    },
    {
      "cell_type": "code",
      "execution_count": null,
      "metadata": {
        "id": "SHvMP4AWQcuq"
      },
      "outputs": [],
      "source": [
        "x = next(data_iter)"
      ]
    },
    {
      "cell_type": "code",
      "execution_count": null,
      "metadata": {
        "colab": {
          "base_uri": "https://localhost:8080/",
          "height": 269
        },
        "id": "bj0ZVetdQcoh",
        "outputId": "5a8b470d-eadb-4129-d6e8-01a042a47392"
      },
      "outputs": [
        {
          "data": {
            "image/png": "[encoded data removed]",
            "text/plain": [
              "<Figure size 432x288 with 1 Axes>"
            ]
          },
          "metadata": {},
          "output_type": "display_data"
        }
      ],
      "source": [
        "%matplotlib inline\n",
        "plt.imshow(x[0][0].permute(1, 2, 0));"
      ]
    },
    {
      "cell_type": "code",
      "execution_count": null,
      "metadata": {
        "id": "_f_c5S_7kSjp"
      },
      "outputs": [],
      "source": [
        "device = torch.device('cuda' if torch.cuda.is_available() else 'cpu')"
      ]
    },
    {
      "cell_type": "code",
      "execution_count": null,
      "metadata": {
        "id": "4ITZpGOYQcgG"
      },
      "outputs": [],
      "source": [
        "names = ['person', 'bicycle', 'car', 'motorcycle', 'airplane', 'bus', 'train', 'truck', 'boat', 'traffic light',\n",
        "        'fire hydrant', 'stop sign', 'parking meter', 'bench', 'bird', 'cat', 'dog', 'horse', 'sheep', 'cow',\n",
        "        'elephant', 'bear', 'zebra', 'giraffe', 'backpack', 'umbrella', 'handbag', 'tie', 'suitcase', 'frisbee',\n",
        "        'skis', 'snowboard', 'sports ball', 'kite', 'baseball bat', 'baseball glove', 'skateboard', 'surfboard',\n",
        "        'tennis racket', 'bottle', 'wine glass', 'cup', 'fork', 'knife', 'spoon', 'bowl', 'banana', 'apple',\n",
        "        'sandwich', 'orange', 'broccoli', 'carrot', 'hot dog', 'pizza', 'donut', 'cake', 'chair', 'couch',\n",
        "        'potted plant', 'bed', 'dining table', 'toilet', 'tv', 'laptop', 'mouse', 'remote', 'keyboard', \n",
        "        'cell phone', 'microwave', 'oven', 'toaster', 'sink', 'refrigerator', 'book', 'clock', 'vase', 'scissors', \n",
        "        'teddy bear', 'hair drier', 'toothbrush']"
      ]
    },
    {
      "cell_type": "code",
      "execution_count": null,
      "metadata": {
        "id": "-LY0rq0AGMfQ"
      },
      "outputs": [],
      "source": [
        "def get_bboxes_labels(preds: torch.tensor,\n",
        "                      conf_threshold: int,\n",
        "                      iou_threshold: int,\n",
        "                      nms=True) -> (torch.tensor, torch.tensor):\n",
        "\n",
        "    candidates = preds[..., 4] > conf_threshold\n",
        "    final_preds = preds[candidates]\n",
        "\n",
        "    # Bounding boxes\n",
        "    bboxes = final_preds[:, 0:4]\n",
        "    conf = final_preds[:, 4]\n",
        "    w = bboxes[:, 2]\n",
        "    h = bboxes[:, 3]\n",
        "    labels = final_preds[:,5:]\n",
        "    bboxes[:, 0] = bboxes[:, 0] - bboxes[:, 2]/2\n",
        "    bboxes[:, 1] = bboxes[:, 1] - bboxes[:, 3]/2\n",
        "    bboxes[:, 2] = bboxes[:, 0] + bboxes[:, 2]\n",
        "    bboxes[:, 3] = bboxes[:, 1] + bboxes[:, 3]\n",
        "\n",
        "    # Non-max suppression\n",
        "    if nms:\n",
        "        selected_preds = torchvision.ops.nms(bboxes, conf, iou_threshold)\n",
        "        bboxes = bboxes[selected_preds]\n",
        "        conf = conf[selected_preds]\n",
        "        w = w[selected_preds]\n",
        "        h = h[selected_preds]\n",
        "        labels = labels[selected_preds]\n",
        "\n",
        "    return bboxes, labels"
      ]
    },
    {
      "cell_type": "code",
      "execution_count": null,
      "metadata": {
        "id": "lmgeE6DhH5ZA"
      },
      "outputs": [],
      "source": [
        "def draw_bboxes(img, bboxes, labels, classes, color='red', width=5, font_size=50):\n",
        "    assert len(bboxes) == len(labels)\n",
        "\n",
        "    for i in range(len(bboxes)):\n",
        "        img = torchvision.utils.draw_bounding_boxes(img,\n",
        "                                          torch.unsqueeze(bboxes[i], dim=0),\n",
        "                                          [classes[labels.argmax(dim=1)[i]]],\n",
        "                                          colors=color, width=width,\n",
        "                                          font=\"/usr/share/fonts/truetype/liberation/LiberationSansNarrow-Regular.ttf\",\n",
        "                                          font_size=font_size)\n",
        "        \n",
        "    return img"
      ]
    },
    {
      "cell_type": "code",
      "execution_count": null,
      "metadata": {
        "id": "2UIzxLxMhxqZ"
      },
      "outputs": [],
      "source": [
        "preds = model(x[0].to(device))"
      ]
    },
    {
      "cell_type": "code",
      "execution_count": null,
      "metadata": {
        "colab": {
          "base_uri": "https://localhost:8080/"
        },
        "id": "WxYttUjh-fqI",
        "outputId": "af77a2e9-c43f-4808-8e1c-60518850be4e"
      },
      "outputs": [
        {
          "data": {
            "text/plain": [
              "torch.Size([1, 25200, 85])"
            ]
          },
          "execution_count": 29,
          "metadata": {},
          "output_type": "execute_result"
        }
      ],
      "source": [
        "preds.shape"
      ]
    },
    {
      "cell_type": "code",
      "execution_count": null,
      "metadata": {
        "id": "PebzX2UpHDYw"
      },
      "outputs": [],
      "source": [
        "conf_threshold = 0.5\n",
        "iou_threshold = 0.7\n",
        "bboxes, labels = get_bboxes_labels(preds, conf_threshold, iou_threshold, nms=True)"
      ]
    },
    {
      "cell_type": "code",
      "execution_count": null,
      "metadata": {
        "colab": {
          "base_uri": "https://localhost:8080/"
        },
        "id": "75I3pOe595QA",
        "outputId": "e890defa-1b75-4c14-868c-0a9166d7f852"
      },
      "outputs": [
        {
          "data": {
            "text/plain": [
              "torch.Size([1, 4])"
            ]
          },
          "execution_count": 31,
          "metadata": {},
          "output_type": "execute_result"
        }
      ],
      "source": [
        "bboxes.shape"
      ]
    },
    {
      "cell_type": "code",
      "execution_count": null,
      "metadata": {
        "colab": {
          "base_uri": "https://localhost:8080/",
          "height": 286
        },
        "id": "XPCPMt62I4kQ",
        "outputId": "d0716c50-5da3-400e-ad41-44f917ef1781"
      },
      "outputs": [
        {
          "data": {
            "text/plain": [
              "<matplotlib.image.AxesImage at 0x7fe4236f5790>"
            ]
          },
          "execution_count": 32,
          "metadata": {},
          "output_type": "execute_result"
        },
        {
          "data": {
            "image/png": "[encoded data removed]",
            "text/plain": [
              "<Figure size 432x288 with 1 Axes>"
            ]
          },
          "metadata": {},
          "output_type": "display_data"
        }
      ],
      "source": [
        "img = draw_bboxes((x[0][0]*255).to(torch.uint8).cpu(),\n",
        "                  bboxes, labels, names, width=5)\n",
        "plt.imshow(img.permute(1, 2, 0))"
      ]
    },
    {
      "cell_type": "markdown",
      "metadata": {
        "id": "q9_OafQ0utcJ"
      },
      "source": [
        "# Segmentación semántica (UW-Madison)"
      ]
    },
    {
      "cell_type": "markdown",
      "metadata": {
        "id": "2yA0wyf2uygB"
      },
      "source": [
        "[UW-Madison GI Tract Image Segmentation](https://www.kaggle.com/competitions/uw-madison-gi-tract-image-segmentation)"
      ]
    },
    {
      "cell_type": "code",
      "execution_count": null,
      "metadata": {
        "colab": {
          "base_uri": "https://localhost:8080/"
        },
        "id": "G4x2dGEfTLxA",
        "outputId": "860eb889-954f-412e-de66-f0ed307efd88"
      },
      "outputs": [
        {
          "name": "stdout",
          "output_type": "stream",
          "text": [
            "\u001b[K     |████████████████████████████████| 88 kB 3.9 MB/s \n",
            "\u001b[K     |████████████████████████████████| 58 kB 6.5 MB/s \n",
            "\u001b[K     |████████████████████████████████| 376 kB 1.1 MB/s \n",
            "\u001b[?25h  Building wheel for efficientnet-pytorch (setup.py) ... \u001b[?25l\u001b[?25hdone\n",
            "  Building wheel for pretrainedmodels (setup.py) ... \u001b[?25l\u001b[?25hdone\n"
          ]
        }
      ],
      "source": [
        "! pip install -q segmentation_models_pytorch torchmetrics"
      ]
    },
    {
      "cell_type": "code",
      "execution_count": null,
      "metadata": {
        "id": "yfQ5NhJhUUV_"
      },
      "outputs": [],
      "source": [
        "! mkdir ~/.kaggle\n",
        "! cp kaggle.json ~/.kaggle/\n",
        "! chmod 600 ~/.kaggle/kaggle.json"
      ]
    },
    {
      "cell_type": "code",
      "execution_count": null,
      "metadata": {
        "colab": {
          "base_uri": "https://localhost:8080/"
        },
        "id": "WZApuN6zAgLA",
        "outputId": "fae06209-b52b-4a6f-d381-0598a43c809c"
      },
      "outputs": [
        {
          "name": "stdout",
          "output_type": "stream",
          "text": [
            "Downloading uw-madison-gi-tract-image-segmentation.zip to /content\n",
            "100% 2.29G/2.30G [01:26<00:00, 54.5MB/s]\n",
            "100% 2.30G/2.30G [01:26<00:00, 28.5MB/s]\n",
            "mkdir: cannot create directory ‘./data’: File exists\n"
          ]
        }
      ],
      "source": [
        "! kaggle competitions download -c uw-madison-gi-tract-image-segmentation\n",
        "! mkdir ./data\n",
        "! mv uw-madison-gi-tract-image-segmentation.zip ./data/\n",
        "! unzip -q ./data/uw-madison-gi-tract-image-segmentation.zip -d ./data/"
      ]
    },
    {
      "cell_type": "code",
      "execution_count": null,
      "metadata": {
        "id": "f7159623-eb02-461c-bd81-e405750fd625"
      },
      "outputs": [],
      "source": [
        "import torch\n",
        "import torchmetrics\n",
        "import os\n",
        "import pandas as pd\n",
        "import glob\n",
        "import argparse\n",
        "import random\n",
        "\n",
        "import torch.nn.functional as F\n",
        "import numpy as np\n",
        "import segmentation_models_pytorch as smp\n",
        "import albumentations as A\n",
        "import matplotlib.pyplot as plt\n",
        "\n",
        "from PIL import Image\n",
        "from torchvision import transforms\n",
        "from torchvision.transforms import InterpolationMode\n",
        "from torch.utils.tensorboard import SummaryWriter\n",
        "from tqdm.auto import tqdm\n",
        "from scipy.spatial.distance import directed_hausdorff as hausdorff_dist\n",
        "import cv2"
      ]
    },
    {
      "cell_type": "code",
      "execution_count": null,
      "metadata": {
        "id": "5729513d-fc95-4521-891f-bbd46f7045f9"
      },
      "outputs": [],
      "source": [
        "# CONFIG\n",
        "DATA_PATH = './data/train'\n",
        "CSV_PATH = './data/train.csv'"
      ]
    },
    {
      "cell_type": "code",
      "execution_count": null,
      "metadata": {
        "id": "be829b99-7b24-4ac6-a59f-2afb22cca31e"
      },
      "outputs": [],
      "source": [
        "class Args():\n",
        "    arch = 'efficientnet-b0'\n",
        "    batch_size = 1\n",
        "    epochs = 10\n",
        "    img_height = 224\n",
        "    img_width = 224\n",
        "    log_name = 'prueba'\n",
        "    lr = 1e-4\n",
        "    min_lr = 5e-6\n",
        "    num_workers = 1\n",
        "    val_split = 0.3\n",
        "\n",
        "args = Args()"
      ]
    },
    {
      "cell_type": "code",
      "execution_count": null,
      "metadata": {
        "id": "08eaa79d-2bf3-4459-817f-3ee5fb1591a7"
      },
      "outputs": [],
      "source": [
        "df = pd.read_csv(CSV_PATH)"
      ]
    },
    {
      "cell_type": "code",
      "execution_count": null,
      "metadata": {
        "colab": {
          "base_uri": "https://localhost:8080/",
          "height": 206
        },
        "id": "hFG_woRoLtGn",
        "outputId": "0c3e8a6e-410d-46b1-8cd4-be4a84fad5dc"
      },
      "outputs": [
        {
          "data": {
            "text/html": [
              "\n",
              "  <div id=\"df-c3a2b036-8f49-4778-99b7-1e18c2d6aa26\">\n",
              "    <div class=\"colab-df-container\">\n",
              "      <div>\n",
              "<style scoped>\n",
              "    .dataframe tbody tr th:only-of-type {\n",
              "        vertical-align: middle;\n",
              "    }\n",
              "\n",
              "    .dataframe tbody tr th {\n",
              "        vertical-align: top;\n",
              "    }\n",
              "\n",
              "    .dataframe thead th {\n",
              "        text-align: right;\n",
              "    }\n",
              "</style>\n",
              "<table border=\"1\" class=\"dataframe\">\n",
              "  <thead>\n",
              "    <tr style=\"text-align: right;\">\n",
              "      <th></th>\n",
              "      <th>id</th>\n",
              "      <th>class</th>\n",
              "      <th>segmentation</th>\n",
              "    </tr>\n",
              "  </thead>\n",
              "  <tbody>\n",
              "    <tr>\n",
              "      <th>0</th>\n",
              "      <td>case123_day20_slice_0001</td>\n",
              "      <td>large_bowel</td>\n",
              "      <td>NaN</td>\n",
              "    </tr>\n",
              "    <tr>\n",
              "      <th>1</th>\n",
              "      <td>case123_day20_slice_0001</td>\n",
              "      <td>small_bowel</td>\n",
              "      <td>NaN</td>\n",
              "    </tr>\n",
              "    <tr>\n",
              "      <th>2</th>\n",
              "      <td>case123_day20_slice_0001</td>\n",
              "      <td>stomach</td>\n",
              "      <td>NaN</td>\n",
              "    </tr>\n",
              "    <tr>\n",
              "      <th>3</th>\n",
              "      <td>case123_day20_slice_0002</td>\n",
              "      <td>large_bowel</td>\n",
              "      <td>NaN</td>\n",
              "    </tr>\n",
              "    <tr>\n",
              "      <th>4</th>\n",
              "      <td>case123_day20_slice_0002</td>\n",
              "      <td>small_bowel</td>\n",
              "      <td>NaN</td>\n",
              "    </tr>\n",
              "  </tbody>\n",
              "</table>\n",
              "</div>\n",
              "      <button class=\"colab-df-convert\" onclick=\"convertToInteractive('df-c3a2b036-8f49-4778-99b7-1e18c2d6aa26')\"\n",
              "              title=\"Convert this dataframe to an interactive table.\"\n",
              "              style=\"display:none;\">\n",
              "        \n",
              "  <svg xmlns=\"http://www.w3.org/2000/svg\" height=\"24px\"viewBox=\"0 0 24 24\"\n",
              "       width=\"24px\">\n",
              "    <path d=\"M0 0h24v24H0V0z\" fill=\"none\"/>\n",
              "    <path d=\"M18.56 5.44l.94 2.06.94-2.06 2.06-.94-2.06-.94-.94-2.06-.94 2.06-2.06.94zm-11 1L8.5 8.5l.94-2.06 2.06-.94-2.06-.94L8.5 2.5l-.94 2.06-2.06.94zm10 10l.94 2.06.94-2.06 2.06-.94-2.06-.94-.94-2.06-.94 2.06-2.06.94z\"/><path d=\"M17.41 7.96l-1.37-1.37c-.4-.4-.92-.59-1.43-.59-.52 0-1.04.2-1.43.59L10.3 9.45l-7.72 7.72c-.78.78-.78 2.05 0 2.83L4 21.41c.39.39.9.59 1.41.59.51 0 1.02-.2 1.41-.59l7.78-7.78 2.81-2.81c.8-.78.8-2.07 0-2.86zM5.41 20L4 18.59l7.72-7.72 1.47 1.35L5.41 20z\"/>\n",
              "  </svg>\n",
              "      </button>\n",
              "      \n",
              "  <style>\n",
              "    .colab-df-container {\n",
              "      display:flex;\n",
              "      flex-wrap:wrap;\n",
              "      gap: 12px;\n",
              "    }\n",
              "\n",
              "    .colab-df-convert {\n",
              "      background-color: #E8F0FE;\n",
              "      border: none;\n",
              "      border-radius: 50%;\n",
              "      cursor: pointer;\n",
              "      display: none;\n",
              "      fill: #1967D2;\n",
              "      height: 32px;\n",
              "      padding: 0 0 0 0;\n",
              "      width: 32px;\n",
              "    }\n",
              "\n",
              "    .colab-df-convert:hover {\n",
              "      background-color: #E2EBFA;\n",
              "      box-shadow: 0px 1px 2px rgba(60, 64, 67, 0.3), 0px 1px 3px 1px rgba(60, 64, 67, 0.15);\n",
              "      fill: #174EA6;\n",
              "    }\n",
              "\n",
              "    [theme=dark] .colab-df-convert {\n",
              "      background-color: #3B4455;\n",
              "      fill: #D2E3FC;\n",
              "    }\n",
              "\n",
              "    [theme=dark] .colab-df-convert:hover {\n",
              "      background-color: #434B5C;\n",
              "      box-shadow: 0px 1px 3px 1px rgba(0, 0, 0, 0.15);\n",
              "      filter: drop-shadow(0px 1px 2px rgba(0, 0, 0, 0.3));\n",
              "      fill: #FFFFFF;\n",
              "    }\n",
              "  </style>\n",
              "\n",
              "      <script>\n",
              "        const buttonEl =\n",
              "          document.querySelector('#df-c3a2b036-8f49-4778-99b7-1e18c2d6aa26 button.colab-df-convert');\n",
              "        buttonEl.style.display =\n",
              "          google.colab.kernel.accessAllowed ? 'block' : 'none';\n",
              "\n",
              "        async function convertToInteractive(key) {\n",
              "          const element = document.querySelector('#df-c3a2b036-8f49-4778-99b7-1e18c2d6aa26');\n",
              "          const dataTable =\n",
              "            await google.colab.kernel.invokeFunction('convertToInteractive',\n",
              "                                                     [key], {});\n",
              "          if (!dataTable) return;\n",
              "\n",
              "          const docLinkHtml = 'Like what you see? Visit the ' +\n",
              "            '<a target=\"_blank\" href=https://colab.research.google.com/notebooks/data_table.ipynb>data table notebook</a>'\n",
              "            + ' to learn more about interactive tables.';\n",
              "          element.innerHTML = '';\n",
              "          dataTable['output_type'] = 'display_data';\n",
              "          await google.colab.output.renderOutput(dataTable, element);\n",
              "          const docLink = document.createElement('div');\n",
              "          docLink.innerHTML = docLinkHtml;\n",
              "          element.appendChild(docLink);\n",
              "        }\n",
              "      </script>\n",
              "    </div>\n",
              "  </div>\n",
              "  "
            ],
            "text/plain": [
              "                         id        class segmentation\n",
              "0  case123_day20_slice_0001  large_bowel          NaN\n",
              "1  case123_day20_slice_0001  small_bowel          NaN\n",
              "2  case123_day20_slice_0001      stomach          NaN\n",
              "3  case123_day20_slice_0002  large_bowel          NaN\n",
              "4  case123_day20_slice_0002  small_bowel          NaN"
            ]
          },
          "execution_count": 42,
          "metadata": {},
          "output_type": "execute_result"
        }
      ],
      "source": [
        "df.head()"
      ]
    },
    {
      "cell_type": "markdown",
      "metadata": {
        "id": "HOYP2BqURtmr"
      },
      "source": [
        "## Reproducibilidad"
      ]
    },
    {
      "cell_type": "code",
      "execution_count": null,
      "metadata": {
        "id": "8738969d-9326-4cd4-9e29-05b2ec01cccc"
      },
      "outputs": [],
      "source": [
        "def seed_all(seed):\n",
        "    if not seed:\n",
        "        seed = 10\n",
        "    print(\"[Using Seed:\",seed,\"]\")\n",
        "    torch.manual_seed(seed)\n",
        "    torch.cuda.manual_seed_all(seed)\n",
        "    torch.cuda.manual_seed(seed)\n",
        "    np.random.seed(seed)\n",
        "    random.seed(seed)\n",
        "    torch.backends.cudnn.deterministic = True\n",
        "    torch.backends.cudnn.benchmark = False\n",
        "    os.environ['PYTHONHASHSEED'] = str(seed)\n",
        "    \n",
        "def seed_worker(worker_id):\n",
        "    worker_seed = torch.initial_seed() % 2**32\n",
        "    np.random.seed(worker_seed)\n",
        "    random.seed(worker_seed)\n",
        "\n",
        "def fetch_file_from_id(root_dir, case_id):\n",
        "    case_folder = case_id.split(\"_\")[0]\n",
        "    day_folder = \"_\".join(case_id.split(\"_\")[:2])\n",
        "    file_starter = \"_\".join(case_id.split(\"_\")[2:])\n",
        "    folder = os.path.join(root_dir, case_folder, day_folder, \"scans\")\n",
        "    file = glob.glob(f\"{folder}/{file_starter}*\")\n",
        "    return file[0]"
      ]
    },
    {
      "cell_type": "code",
      "execution_count": null,
      "metadata": {
        "id": "f2c35be5-3752-4dad-8055-01d4d9befeff"
      },
      "outputs": [],
      "source": [
        "df[\"segmentation\"] = df[\"segmentation\"].astype(\"str\")\n",
        "df[\"case_id\"] = df[\"id\"].apply(lambda x: x.split(\"_\")[0][4:]).astype(int)\n",
        "df[\"day_id\"] = df[\"id\"].apply(lambda x: x.split(\"_\")[1][3:]).astype(int)\n",
        "df[\"slice_id\"] = df[\"id\"].apply(lambda x: x.split(\"_\")[-1]).astype(int)\n",
        "df[\"path\"] = df[\"id\"].apply(lambda x: fetch_file_from_id(DATA_PATH, x))\n",
        "df[\"width\"] = df[\"path\"].apply(lambda x: os.path.split(x)[-1].split(\"_\")[3]).astype(int)\n",
        "df[\"height\"] = df[\"path\"].apply(lambda x: os.path.split(x)[-1].split(\"_\")[2]).astype(int)\n",
        "\n",
        "df_preprocess = pd.DataFrame({'id':df['id'][::3]})\n",
        "df_preprocess['large_bowel'] = df['segmentation'][::3].values\n",
        "df_preprocess['small_bowel'] = df['segmentation'][1::3].values\n",
        "df_preprocess['stomach'] = df['segmentation'][2::3].values\n",
        "df_preprocess['path'] = df['path'][::3].values\n",
        "df_preprocess['case_id'] = df['case_id'][::3].values\n",
        "df_preprocess['day_id'] = df['day_id'][::3].values\n",
        "df_preprocess['slice_id'] = df['slice_id'][::3].values\n",
        "df_preprocess['width'] = df['width'][::3].values\n",
        "df_preprocess['height'] = df['height'][::3].values\n",
        "\n",
        "df_preprocess.reset_index(inplace=True,drop=True)\n",
        "df_preprocess.fillna('',inplace=True); \n",
        "df_preprocess['count'] = np.sum(df_preprocess.iloc[:,1:4]!='nan',axis=1).values"
      ]
    },
    {
      "cell_type": "code",
      "execution_count": null,
      "metadata": {
        "id": "oYOvh6K4UGAf"
      },
      "outputs": [],
      "source": [
        "def pad2aspect(image, aspect_ratio=1.0):\n",
        "    w, h = image.shape[-2:]\n",
        "    if not (w == 0 or h == 0):\n",
        "        diff_aspect_ratio = aspect_ratio - w/h\n",
        "        w_target = (diff_aspect_ratio>0) * h + (diff_aspect_ratio<=0) * w\n",
        "        h_target = (diff_aspect_ratio>0) * h + (diff_aspect_ratio<=0) * w\n",
        "\n",
        "        image = F.pad(image, (int((h_target-h)/2), int((h_target-h)/2),\n",
        "                              int((w_target-w)/2), int((w_target-w)/2)))\n",
        "\n",
        "        return image\n",
        "\n",
        "    else:\n",
        "        return None"
      ]
    },
    {
      "cell_type": "markdown",
      "metadata": {
        "id": "hqZgV6rRRltb"
      },
      "source": [
        "## Constructor Dataset"
      ]
    },
    {
      "cell_type": "code",
      "execution_count": null,
      "metadata": {
        "id": "c4ece7a4-efa4-425e-98e4-f7ae35e6b440"
      },
      "outputs": [],
      "source": [
        "class UWDataset(torch.utils.data.Dataset):\n",
        "    def __init__(self, df, transform=None, target_transform=None, preload_images=False, pad_to_aspect_ratio=None):\n",
        "        self.transform = transform\n",
        "        self.target_transform = target_transform\n",
        "        self.preload_images = preload_images\n",
        "        self.pad_to_aspect_ratio = pad_to_aspect_ratio\n",
        "        self.df = df\n",
        "\n",
        "    def __len__(self):\n",
        "        return len(self.df)\n",
        "\n",
        "    def __getitem__(self, idx):\n",
        "        \n",
        "        if self.preload_images:\n",
        "            raise NotImplemented\n",
        "        else:\n",
        "            img_path = self.df['path'].values[idx]\n",
        "            image = torch.Tensor(np.array(Image.open(img_path))) / 2**16\n",
        "\n",
        "            lb_mask = self.rle2mask(image, torch.from_numpy(np.array(self.df['large_bowel'].values[idx].split(), dtype=int))) \\\n",
        "                        if self.df['large_bowel'].values[idx] != 'nan' else torch.zeros_like(image)\n",
        "            sb_mask = self.rle2mask(image, torch.from_numpy(np.array(self.df['small_bowel'].values[idx].split(), dtype=int))) \\\n",
        "                        if self.df['small_bowel'].values[idx] != 'nan' else torch.zeros_like(image)\n",
        "            st_mask = self.rle2mask(image, torch.from_numpy(np.array(self.df['stomach'].values[idx].split(), dtype=int))) \\\n",
        "                        if self.df['stomach'].values[idx] != 'nan' else torch.zeros_like(image)\n",
        "            \n",
        "            mask = torch.concat([lb_mask.unsqueeze(0),\n",
        "                                 sb_mask.unsqueeze(0),\n",
        "                                 st_mask.unsqueeze(0)])\n",
        "            \n",
        "            # CONCAT MASKS\n",
        "            \n",
        "            if self.pad_to_aspect_ratio:\n",
        "                image = pad2aspect(image, aspect_ratio=self.pad_to_aspect_ratio)\n",
        "                mask = pad2aspect(mask, aspect_ratio=self.pad_to_aspect_ratio)\n",
        "            \n",
        "            if self.transform:\n",
        "                # data = self.transform(image=np.array(image.unsqueeze(0).permute(1,2,0)), mask=np.array(mask.permute(1,2,0)))\n",
        "                # image = torch.Tensor(data['image'])\n",
        "                # mask = torch.Tensor(data['mask'])\n",
        "                image = self.transform(image.unsqueeze(0))\n",
        "            if self.target_transform:\n",
        "                mask = self.target_transform(mask)\n",
        "                \n",
        "        return image, mask\n",
        "    \n",
        "    def rle2mask(self, img, rle):\n",
        "        mask = torch.zeros(img.flatten().shape)\n",
        "        start_pixel = rle[::2]\n",
        "        length_mask = rle[1::2]\n",
        "        for i in range(len(start_pixel)):\n",
        "            mask[start_pixel[i].item():start_pixel[i].item() + length_mask[i].item()] = 1\n",
        "\n",
        "        return mask.reshape_as(img)"
      ]
    },
    {
      "cell_type": "markdown",
      "metadata": {
        "id": "Qb9r5Qx0WXHz"
      },
      "source": [
        "## Análisis Exploratorio de Datos"
      ]
    },
    {
      "cell_type": "code",
      "execution_count": null,
      "metadata": {
        "colab": {
          "base_uri": "https://localhost:8080/",
          "height": 488
        },
        "id": "U9rtA4rlWkgj",
        "outputId": "55535982-dd4e-424c-b605-817e5396bae0"
      },
      "outputs": [
        {
          "data": {
            "text/html": [
              "\n",
              "  <div id=\"df-6bd62fb8-46c5-493d-bcaa-c95a5e76fbcf\">\n",
              "    <div class=\"colab-df-container\">\n",
              "      <div>\n",
              "<style scoped>\n",
              "    .dataframe tbody tr th:only-of-type {\n",
              "        vertical-align: middle;\n",
              "    }\n",
              "\n",
              "    .dataframe tbody tr th {\n",
              "        vertical-align: top;\n",
              "    }\n",
              "\n",
              "    .dataframe thead th {\n",
              "        text-align: right;\n",
              "    }\n",
              "</style>\n",
              "<table border=\"1\" class=\"dataframe\">\n",
              "  <thead>\n",
              "    <tr style=\"text-align: right;\">\n",
              "      <th></th>\n",
              "      <th>id</th>\n",
              "      <th>large_bowel</th>\n",
              "      <th>small_bowel</th>\n",
              "      <th>stomach</th>\n",
              "      <th>path</th>\n",
              "      <th>...</th>\n",
              "      <th>day_id</th>\n",
              "      <th>slice_id</th>\n",
              "      <th>width</th>\n",
              "      <th>height</th>\n",
              "      <th>count</th>\n",
              "    </tr>\n",
              "  </thead>\n",
              "  <tbody>\n",
              "    <tr>\n",
              "      <th>0</th>\n",
              "      <td>case123_day20_slice_0001</td>\n",
              "      <td>nan</td>\n",
              "      <td>nan</td>\n",
              "      <td>nan</td>\n",
              "      <td>./data/train/case123/case123_day20/scans/slice...</td>\n",
              "      <td>...</td>\n",
              "      <td>20</td>\n",
              "      <td>1</td>\n",
              "      <td>266</td>\n",
              "      <td>266</td>\n",
              "      <td>0</td>\n",
              "    </tr>\n",
              "    <tr>\n",
              "      <th>1</th>\n",
              "      <td>case123_day20_slice_0002</td>\n",
              "      <td>nan</td>\n",
              "      <td>nan</td>\n",
              "      <td>nan</td>\n",
              "      <td>./data/train/case123/case123_day20/scans/slice...</td>\n",
              "      <td>...</td>\n",
              "      <td>20</td>\n",
              "      <td>2</td>\n",
              "      <td>266</td>\n",
              "      <td>266</td>\n",
              "      <td>0</td>\n",
              "    </tr>\n",
              "    <tr>\n",
              "      <th>2</th>\n",
              "      <td>case123_day20_slice_0003</td>\n",
              "      <td>nan</td>\n",
              "      <td>nan</td>\n",
              "      <td>nan</td>\n",
              "      <td>./data/train/case123/case123_day20/scans/slice...</td>\n",
              "      <td>...</td>\n",
              "      <td>20</td>\n",
              "      <td>3</td>\n",
              "      <td>266</td>\n",
              "      <td>266</td>\n",
              "      <td>0</td>\n",
              "    </tr>\n",
              "    <tr>\n",
              "      <th>3</th>\n",
              "      <td>case123_day20_slice_0004</td>\n",
              "      <td>nan</td>\n",
              "      <td>nan</td>\n",
              "      <td>nan</td>\n",
              "      <td>./data/train/case123/case123_day20/scans/slice...</td>\n",
              "      <td>...</td>\n",
              "      <td>20</td>\n",
              "      <td>4</td>\n",
              "      <td>266</td>\n",
              "      <td>266</td>\n",
              "      <td>0</td>\n",
              "    </tr>\n",
              "    <tr>\n",
              "      <th>4</th>\n",
              "      <td>case123_day20_slice_0005</td>\n",
              "      <td>nan</td>\n",
              "      <td>nan</td>\n",
              "      <td>nan</td>\n",
              "      <td>./data/train/case123/case123_day20/scans/slice...</td>\n",
              "      <td>...</td>\n",
              "      <td>20</td>\n",
              "      <td>5</td>\n",
              "      <td>266</td>\n",
              "      <td>266</td>\n",
              "      <td>0</td>\n",
              "    </tr>\n",
              "    <tr>\n",
              "      <th>...</th>\n",
              "      <td>...</td>\n",
              "      <td>...</td>\n",
              "      <td>...</td>\n",
              "      <td>...</td>\n",
              "      <td>...</td>\n",
              "      <td>...</td>\n",
              "      <td>...</td>\n",
              "      <td>...</td>\n",
              "      <td>...</td>\n",
              "      <td>...</td>\n",
              "      <td>...</td>\n",
              "    </tr>\n",
              "    <tr>\n",
              "      <th>38491</th>\n",
              "      <td>case30_day0_slice_0140</td>\n",
              "      <td>nan</td>\n",
              "      <td>nan</td>\n",
              "      <td>nan</td>\n",
              "      <td>./data/train/case30/case30_day0/scans/slice_01...</td>\n",
              "      <td>...</td>\n",
              "      <td>0</td>\n",
              "      <td>140</td>\n",
              "      <td>266</td>\n",
              "      <td>266</td>\n",
              "      <td>0</td>\n",
              "    </tr>\n",
              "    <tr>\n",
              "      <th>38492</th>\n",
              "      <td>case30_day0_slice_0141</td>\n",
              "      <td>nan</td>\n",
              "      <td>nan</td>\n",
              "      <td>nan</td>\n",
              "      <td>./data/train/case30/case30_day0/scans/slice_01...</td>\n",
              "      <td>...</td>\n",
              "      <td>0</td>\n",
              "      <td>141</td>\n",
              "      <td>266</td>\n",
              "      <td>266</td>\n",
              "      <td>0</td>\n",
              "    </tr>\n",
              "    <tr>\n",
              "      <th>38493</th>\n",
              "      <td>case30_day0_slice_0142</td>\n",
              "      <td>nan</td>\n",
              "      <td>nan</td>\n",
              "      <td>nan</td>\n",
              "      <td>./data/train/case30/case30_day0/scans/slice_01...</td>\n",
              "      <td>...</td>\n",
              "      <td>0</td>\n",
              "      <td>142</td>\n",
              "      <td>266</td>\n",
              "      <td>266</td>\n",
              "      <td>0</td>\n",
              "    </tr>\n",
              "    <tr>\n",
              "      <th>38494</th>\n",
              "      <td>case30_day0_slice_0143</td>\n",
              "      <td>nan</td>\n",
              "      <td>nan</td>\n",
              "      <td>nan</td>\n",
              "      <td>./data/train/case30/case30_day0/scans/slice_01...</td>\n",
              "      <td>...</td>\n",
              "      <td>0</td>\n",
              "      <td>143</td>\n",
              "      <td>266</td>\n",
              "      <td>266</td>\n",
              "      <td>0</td>\n",
              "    </tr>\n",
              "    <tr>\n",
              "      <th>38495</th>\n",
              "      <td>case30_day0_slice_0144</td>\n",
              "      <td>nan</td>\n",
              "      <td>nan</td>\n",
              "      <td>nan</td>\n",
              "      <td>./data/train/case30/case30_day0/scans/slice_01...</td>\n",
              "      <td>...</td>\n",
              "      <td>0</td>\n",
              "      <td>144</td>\n",
              "      <td>266</td>\n",
              "      <td>266</td>\n",
              "      <td>0</td>\n",
              "    </tr>\n",
              "  </tbody>\n",
              "</table>\n",
              "<p>38496 rows × 11 columns</p>\n",
              "</div>\n",
              "      <button class=\"colab-df-convert\" onclick=\"convertToInteractive('df-6bd62fb8-46c5-493d-bcaa-c95a5e76fbcf')\"\n",
              "              title=\"Convert this dataframe to an interactive table.\"\n",
              "              style=\"display:none;\">\n",
              "        \n",
              "  <svg xmlns=\"http://www.w3.org/2000/svg\" height=\"24px\"viewBox=\"0 0 24 24\"\n",
              "       width=\"24px\">\n",
              "    <path d=\"M0 0h24v24H0V0z\" fill=\"none\"/>\n",
              "    <path d=\"M18.56 5.44l.94 2.06.94-2.06 2.06-.94-2.06-.94-.94-2.06-.94 2.06-2.06.94zm-11 1L8.5 8.5l.94-2.06 2.06-.94-2.06-.94L8.5 2.5l-.94 2.06-2.06.94zm10 10l.94 2.06.94-2.06 2.06-.94-2.06-.94-.94-2.06-.94 2.06-2.06.94z\"/><path d=\"M17.41 7.96l-1.37-1.37c-.4-.4-.92-.59-1.43-.59-.52 0-1.04.2-1.43.59L10.3 9.45l-7.72 7.72c-.78.78-.78 2.05 0 2.83L4 21.41c.39.39.9.59 1.41.59.51 0 1.02-.2 1.41-.59l7.78-7.78 2.81-2.81c.8-.78.8-2.07 0-2.86zM5.41 20L4 18.59l7.72-7.72 1.47 1.35L5.41 20z\"/>\n",
              "  </svg>\n",
              "      </button>\n",
              "      \n",
              "  <style>\n",
              "    .colab-df-container {\n",
              "      display:flex;\n",
              "      flex-wrap:wrap;\n",
              "      gap: 12px;\n",
              "    }\n",
              "\n",
              "    .colab-df-convert {\n",
              "      background-color: #E8F0FE;\n",
              "      border: none;\n",
              "      border-radius: 50%;\n",
              "      cursor: pointer;\n",
              "      display: none;\n",
              "      fill: #1967D2;\n",
              "      height: 32px;\n",
              "      padding: 0 0 0 0;\n",
              "      width: 32px;\n",
              "    }\n",
              "\n",
              "    .colab-df-convert:hover {\n",
              "      background-color: #E2EBFA;\n",
              "      box-shadow: 0px 1px 2px rgba(60, 64, 67, 0.3), 0px 1px 3px 1px rgba(60, 64, 67, 0.15);\n",
              "      fill: #174EA6;\n",
              "    }\n",
              "\n",
              "    [theme=dark] .colab-df-convert {\n",
              "      background-color: #3B4455;\n",
              "      fill: #D2E3FC;\n",
              "    }\n",
              "\n",
              "    [theme=dark] .colab-df-convert:hover {\n",
              "      background-color: #434B5C;\n",
              "      box-shadow: 0px 1px 3px 1px rgba(0, 0, 0, 0.15);\n",
              "      filter: drop-shadow(0px 1px 2px rgba(0, 0, 0, 0.3));\n",
              "      fill: #FFFFFF;\n",
              "    }\n",
              "  </style>\n",
              "\n",
              "      <script>\n",
              "        const buttonEl =\n",
              "          document.querySelector('#df-6bd62fb8-46c5-493d-bcaa-c95a5e76fbcf button.colab-df-convert');\n",
              "        buttonEl.style.display =\n",
              "          google.colab.kernel.accessAllowed ? 'block' : 'none';\n",
              "\n",
              "        async function convertToInteractive(key) {\n",
              "          const element = document.querySelector('#df-6bd62fb8-46c5-493d-bcaa-c95a5e76fbcf');\n",
              "          const dataTable =\n",
              "            await google.colab.kernel.invokeFunction('convertToInteractive',\n",
              "                                                     [key], {});\n",
              "          if (!dataTable) return;\n",
              "\n",
              "          const docLinkHtml = 'Like what you see? Visit the ' +\n",
              "            '<a target=\"_blank\" href=https://colab.research.google.com/notebooks/data_table.ipynb>data table notebook</a>'\n",
              "            + ' to learn more about interactive tables.';\n",
              "          element.innerHTML = '';\n",
              "          dataTable['output_type'] = 'display_data';\n",
              "          await google.colab.output.renderOutput(dataTable, element);\n",
              "          const docLink = document.createElement('div');\n",
              "          docLink.innerHTML = docLinkHtml;\n",
              "          element.appendChild(docLink);\n",
              "        }\n",
              "      </script>\n",
              "    </div>\n",
              "  </div>\n",
              "  "
            ],
            "text/plain": [
              "                             id large_bowel small_bowel stomach  \\\n",
              "0      case123_day20_slice_0001         nan         nan     nan   \n",
              "1      case123_day20_slice_0002         nan         nan     nan   \n",
              "2      case123_day20_slice_0003         nan         nan     nan   \n",
              "3      case123_day20_slice_0004         nan         nan     nan   \n",
              "4      case123_day20_slice_0005         nan         nan     nan   \n",
              "...                         ...         ...         ...     ...   \n",
              "38491    case30_day0_slice_0140         nan         nan     nan   \n",
              "38492    case30_day0_slice_0141         nan         nan     nan   \n",
              "38493    case30_day0_slice_0142         nan         nan     nan   \n",
              "38494    case30_day0_slice_0143         nan         nan     nan   \n",
              "38495    case30_day0_slice_0144         nan         nan     nan   \n",
              "\n",
              "                                                    path  ...  day_id  \\\n",
              "0      ./data/train/case123/case123_day20/scans/slice...  ...      20   \n",
              "1      ./data/train/case123/case123_day20/scans/slice...  ...      20   \n",
              "2      ./data/train/case123/case123_day20/scans/slice...  ...      20   \n",
              "3      ./data/train/case123/case123_day20/scans/slice...  ...      20   \n",
              "4      ./data/train/case123/case123_day20/scans/slice...  ...      20   \n",
              "...                                                  ...  ...     ...   \n",
              "38491  ./data/train/case30/case30_day0/scans/slice_01...  ...       0   \n",
              "38492  ./data/train/case30/case30_day0/scans/slice_01...  ...       0   \n",
              "38493  ./data/train/case30/case30_day0/scans/slice_01...  ...       0   \n",
              "38494  ./data/train/case30/case30_day0/scans/slice_01...  ...       0   \n",
              "38495  ./data/train/case30/case30_day0/scans/slice_01...  ...       0   \n",
              "\n",
              "       slice_id  width  height  count  \n",
              "0             1    266     266      0  \n",
              "1             2    266     266      0  \n",
              "2             3    266     266      0  \n",
              "3             4    266     266      0  \n",
              "4             5    266     266      0  \n",
              "...         ...    ...     ...    ...  \n",
              "38491       140    266     266      0  \n",
              "38492       141    266     266      0  \n",
              "38493       142    266     266      0  \n",
              "38494       143    266     266      0  \n",
              "38495       144    266     266      0  \n",
              "\n",
              "[38496 rows x 11 columns]"
            ]
          },
          "execution_count": 51,
          "metadata": {},
          "output_type": "execute_result"
        }
      ],
      "source": [
        "df_preprocess"
      ]
    },
    {
      "cell_type": "code",
      "execution_count": null,
      "metadata": {
        "colab": {
          "base_uri": "https://localhost:8080/",
          "height": 300
        },
        "id": "YB1UYq7yWnh7",
        "outputId": "966c25f3-f366-426a-86aa-57d1c21626df"
      },
      "outputs": [
        {
          "data": {
            "text/html": [
              "\n",
              "  <div id=\"df-7a231ec0-94ef-411d-b8af-88083c07f73e\">\n",
              "    <div class=\"colab-df-container\">\n",
              "      <div>\n",
              "<style scoped>\n",
              "    .dataframe tbody tr th:only-of-type {\n",
              "        vertical-align: middle;\n",
              "    }\n",
              "\n",
              "    .dataframe tbody tr th {\n",
              "        vertical-align: top;\n",
              "    }\n",
              "\n",
              "    .dataframe thead th {\n",
              "        text-align: right;\n",
              "    }\n",
              "</style>\n",
              "<table border=\"1\" class=\"dataframe\">\n",
              "  <thead>\n",
              "    <tr style=\"text-align: right;\">\n",
              "      <th></th>\n",
              "      <th>case_id</th>\n",
              "      <th>day_id</th>\n",
              "      <th>slice_id</th>\n",
              "      <th>width</th>\n",
              "      <th>height</th>\n",
              "      <th>count</th>\n",
              "    </tr>\n",
              "  </thead>\n",
              "  <tbody>\n",
              "    <tr>\n",
              "      <th>count</th>\n",
              "      <td>38496.000000</td>\n",
              "      <td>38496.000000</td>\n",
              "      <td>38496.000000</td>\n",
              "      <td>38496.000000</td>\n",
              "      <td>38496.000000</td>\n",
              "      <td>38496.000000</td>\n",
              "    </tr>\n",
              "    <tr>\n",
              "      <th>mean</th>\n",
              "      <td>84.812968</td>\n",
              "      <td>13.354946</td>\n",
              "      <td>71.502494</td>\n",
              "      <td>279.029925</td>\n",
              "      <td>293.618454</td>\n",
              "      <td>0.880949</td>\n",
              "    </tr>\n",
              "    <tr>\n",
              "      <th>std</th>\n",
              "      <td>46.487527</td>\n",
              "      <td>10.397455</td>\n",
              "      <td>41.492726</td>\n",
              "      <td>20.051109</td>\n",
              "      <td>42.688415</td>\n",
              "      <td>1.082220</td>\n",
              "    </tr>\n",
              "    <tr>\n",
              "      <th>min</th>\n",
              "      <td>2.000000</td>\n",
              "      <td>0.000000</td>\n",
              "      <td>1.000000</td>\n",
              "      <td>234.000000</td>\n",
              "      <td>234.000000</td>\n",
              "      <td>0.000000</td>\n",
              "    </tr>\n",
              "    <tr>\n",
              "      <th>25%</th>\n",
              "      <td>42.000000</td>\n",
              "      <td>0.000000</td>\n",
              "      <td>36.000000</td>\n",
              "      <td>266.000000</td>\n",
              "      <td>266.000000</td>\n",
              "      <td>0.000000</td>\n",
              "    </tr>\n",
              "    <tr>\n",
              "      <th>50%</th>\n",
              "      <td>85.000000</td>\n",
              "      <td>16.000000</td>\n",
              "      <td>71.000000</td>\n",
              "      <td>266.000000</td>\n",
              "      <td>266.000000</td>\n",
              "      <td>0.000000</td>\n",
              "    </tr>\n",
              "    <tr>\n",
              "      <th>75%</th>\n",
              "      <td>129.000000</td>\n",
              "      <td>21.000000</td>\n",
              "      <td>107.000000</td>\n",
              "      <td>310.000000</td>\n",
              "      <td>360.000000</td>\n",
              "      <td>2.000000</td>\n",
              "    </tr>\n",
              "    <tr>\n",
              "      <th>max</th>\n",
              "      <td>156.000000</td>\n",
              "      <td>39.000000</td>\n",
              "      <td>144.000000</td>\n",
              "      <td>310.000000</td>\n",
              "      <td>360.000000</td>\n",
              "      <td>3.000000</td>\n",
              "    </tr>\n",
              "  </tbody>\n",
              "</table>\n",
              "</div>\n",
              "      <button class=\"colab-df-convert\" onclick=\"convertToInteractive('df-7a231ec0-94ef-411d-b8af-88083c07f73e')\"\n",
              "              title=\"Convert this dataframe to an interactive table.\"\n",
              "              style=\"display:none;\">\n",
              "        \n",
              "  <svg xmlns=\"http://www.w3.org/2000/svg\" height=\"24px\"viewBox=\"0 0 24 24\"\n",
              "       width=\"24px\">\n",
              "    <path d=\"M0 0h24v24H0V0z\" fill=\"none\"/>\n",
              "    <path d=\"M18.56 5.44l.94 2.06.94-2.06 2.06-.94-2.06-.94-.94-2.06-.94 2.06-2.06.94zm-11 1L8.5 8.5l.94-2.06 2.06-.94-2.06-.94L8.5 2.5l-.94 2.06-2.06.94zm10 10l.94 2.06.94-2.06 2.06-.94-2.06-.94-.94-2.06-.94 2.06-2.06.94z\"/><path d=\"M17.41 7.96l-1.37-1.37c-.4-.4-.92-.59-1.43-.59-.52 0-1.04.2-1.43.59L10.3 9.45l-7.72 7.72c-.78.78-.78 2.05 0 2.83L4 21.41c.39.39.9.59 1.41.59.51 0 1.02-.2 1.41-.59l7.78-7.78 2.81-2.81c.8-.78.8-2.07 0-2.86zM5.41 20L4 18.59l7.72-7.72 1.47 1.35L5.41 20z\"/>\n",
              "  </svg>\n",
              "      </button>\n",
              "      \n",
              "  <style>\n",
              "    .colab-df-container {\n",
              "      display:flex;\n",
              "      flex-wrap:wrap;\n",
              "      gap: 12px;\n",
              "    }\n",
              "\n",
              "    .colab-df-convert {\n",
              "      background-color: #E8F0FE;\n",
              "      border: none;\n",
              "      border-radius: 50%;\n",
              "      cursor: pointer;\n",
              "      display: none;\n",
              "      fill: #1967D2;\n",
              "      height: 32px;\n",
              "      padding: 0 0 0 0;\n",
              "      width: 32px;\n",
              "    }\n",
              "\n",
              "    .colab-df-convert:hover {\n",
              "      background-color: #E2EBFA;\n",
              "      box-shadow: 0px 1px 2px rgba(60, 64, 67, 0.3), 0px 1px 3px 1px rgba(60, 64, 67, 0.15);\n",
              "      fill: #174EA6;\n",
              "    }\n",
              "\n",
              "    [theme=dark] .colab-df-convert {\n",
              "      background-color: #3B4455;\n",
              "      fill: #D2E3FC;\n",
              "    }\n",
              "\n",
              "    [theme=dark] .colab-df-convert:hover {\n",
              "      background-color: #434B5C;\n",
              "      box-shadow: 0px 1px 3px 1px rgba(0, 0, 0, 0.15);\n",
              "      filter: drop-shadow(0px 1px 2px rgba(0, 0, 0, 0.3));\n",
              "      fill: #FFFFFF;\n",
              "    }\n",
              "  </style>\n",
              "\n",
              "      <script>\n",
              "        const buttonEl =\n",
              "          document.querySelector('#df-7a231ec0-94ef-411d-b8af-88083c07f73e button.colab-df-convert');\n",
              "        buttonEl.style.display =\n",
              "          google.colab.kernel.accessAllowed ? 'block' : 'none';\n",
              "\n",
              "        async function convertToInteractive(key) {\n",
              "          const element = document.querySelector('#df-7a231ec0-94ef-411d-b8af-88083c07f73e');\n",
              "          const dataTable =\n",
              "            await google.colab.kernel.invokeFunction('convertToInteractive',\n",
              "                                                     [key], {});\n",
              "          if (!dataTable) return;\n",
              "\n",
              "          const docLinkHtml = 'Like what you see? Visit the ' +\n",
              "            '<a target=\"_blank\" href=https://colab.research.google.com/notebooks/data_table.ipynb>data table notebook</a>'\n",
              "            + ' to learn more about interactive tables.';\n",
              "          element.innerHTML = '';\n",
              "          dataTable['output_type'] = 'display_data';\n",
              "          await google.colab.output.renderOutput(dataTable, element);\n",
              "          const docLink = document.createElement('div');\n",
              "          docLink.innerHTML = docLinkHtml;\n",
              "          element.appendChild(docLink);\n",
              "        }\n",
              "      </script>\n",
              "    </div>\n",
              "  </div>\n",
              "  "
            ],
            "text/plain": [
              "            case_id        day_id      slice_id         width        height  \\\n",
              "count  38496.000000  38496.000000  38496.000000  38496.000000  38496.000000   \n",
              "mean      84.812968     13.354946     71.502494    279.029925    293.618454   \n",
              "std       46.487527     10.397455     41.492726     20.051109     42.688415   \n",
              "min        2.000000      0.000000      1.000000    234.000000    234.000000   \n",
              "25%       42.000000      0.000000     36.000000    266.000000    266.000000   \n",
              "50%       85.000000     16.000000     71.000000    266.000000    266.000000   \n",
              "75%      129.000000     21.000000    107.000000    310.000000    360.000000   \n",
              "max      156.000000     39.000000    144.000000    310.000000    360.000000   \n",
              "\n",
              "              count  \n",
              "count  38496.000000  \n",
              "mean       0.880949  \n",
              "std        1.082220  \n",
              "min        0.000000  \n",
              "25%        0.000000  \n",
              "50%        0.000000  \n",
              "75%        2.000000  \n",
              "max        3.000000  "
            ]
          },
          "execution_count": 52,
          "metadata": {},
          "output_type": "execute_result"
        }
      ],
      "source": [
        "df_preprocess.describe()"
      ]
    },
    {
      "cell_type": "code",
      "execution_count": null,
      "metadata": {
        "id": "4c659883-2b89-41fe-a777-86470ded4c75"
      },
      "outputs": [],
      "source": [
        "unique_width_values = sorted(df_preprocess['width'].unique())\n",
        "count_width_values = [(df_preprocess['width'] == each).sum() for each in unique_width_values]\n",
        "unique_height_values = sorted(df_preprocess['height'].unique())\n",
        "count_height_values = [(df_preprocess['height'] == each).sum() for each in unique_height_values]"
      ]
    },
    {
      "cell_type": "code",
      "execution_count": null,
      "metadata": {
        "colab": {
          "base_uri": "https://localhost:8080/",
          "height": 386
        },
        "id": "e7c47f86-7052-44ac-b90c-71bf9caec97a",
        "outputId": "bf75fe51-86dc-4940-d5aa-a753596bafae"
      },
      "outputs": [
        {
          "name": "stderr",
          "output_type": "stream",
          "text": [
            "Using categorical units to plot a list of strings that are all parsable as floats or dates. If these strings should be plotted as numbers, cast to the appropriate data type before plotting.\n",
            "Using categorical units to plot a list of strings that are all parsable as floats or dates. If these strings should be plotted as numbers, cast to the appropriate data type before plotting.\n",
            "Using categorical units to plot a list of strings that are all parsable as floats or dates. If these strings should be plotted as numbers, cast to the appropriate data type before plotting.\n",
            "Using categorical units to plot a list of strings that are all parsable as floats or dates. If these strings should be plotted as numbers, cast to the appropriate data type before plotting.\n"
          ]
        },
        {
          "data": {
            "image/png": "[encoded data removed]",
            "text/plain": [
              "<Figure size 432x288 with 2 Axes>"
            ]
          },
          "metadata": {},
          "output_type": "display_data"
        }
      ],
      "source": [
        "fig, (ax1, ax2) = plt.subplots(1, 2)\n",
        "ax1.bar(list(map(str, unique_width_values)), count_width_values);\n",
        "ax2.bar(list(map(str, unique_height_values)), count_height_values);\n",
        "plt.tight_layout()"
      ]
    },
    {
      "cell_type": "code",
      "execution_count": null,
      "metadata": {
        "id": "3fd022e7-ac39-4331-84f7-42c2952dff8a"
      },
      "outputs": [],
      "source": [
        "mask_types = ['lb + sb + st', 'lb + sb', 'lb + st', 'sb + st', 'lb', 'sb', 'st']\n",
        "mask_types_count = [\n",
        "    # All 3 masks\n",
        "    len(df_preprocess.loc[(df_preprocess['large_bowel'] != 'nan') & (df_preprocess['small_bowel'] != 'nan') & (df_preprocess['stomach'] != 'nan')]),\n",
        "    # Just 2 masks\n",
        "    len(df_preprocess.loc[(df_preprocess['large_bowel'] != 'nan') & (df_preprocess['small_bowel'] != 'nan') & (df_preprocess['stomach'] == 'nan')]),\n",
        "    len(df_preprocess.loc[(df_preprocess['large_bowel'] != 'nan') & (df_preprocess['small_bowel'] == 'nan') & (df_preprocess['stomach'] != 'nan')]),\n",
        "    len(df_preprocess.loc[(df_preprocess['large_bowel'] == 'nan') & (df_preprocess['small_bowel'] != 'nan') & (df_preprocess['stomach'] != 'nan')]),\n",
        "    # Just 1 mask\n",
        "    len(df_preprocess.loc[(df_preprocess['large_bowel'] != 'nan') & (df_preprocess['small_bowel'] == 'nan') & (df_preprocess['stomach'] == 'nan')]),\n",
        "    len(df_preprocess.loc[(df_preprocess['large_bowel'] == 'nan') & (df_preprocess['small_bowel'] != 'nan') & (df_preprocess['stomach'] == 'nan')]),\n",
        "    len(df_preprocess.loc[(df_preprocess['large_bowel'] == 'nan') & (df_preprocess['small_bowel'] == 'nan') & (df_preprocess['stomach'] != 'nan')])\n",
        "]"
      ]
    },
    {
      "cell_type": "code",
      "execution_count": null,
      "metadata": {
        "colab": {
          "base_uri": "https://localhost:8080/",
          "height": 297
        },
        "id": "e39acbe7-fc5a-4103-9772-dc1c31e0af68",
        "outputId": "4d262501-9757-4253-c98d-0d99482cdc62"
      },
      "outputs": [
        {
          "data": {
            "image/png": "[encoded data removed]",
            "text/plain": [
              "<Figure size 432x288 with 1 Axes>"
            ]
          },
          "metadata": {},
          "output_type": "display_data"
        }
      ],
      "source": [
        "plt.bar(mask_types, mask_types_count);\n",
        "plt.xticks(rotation=30);\n",
        "plt.tight_layout();"
      ]
    },
    {
      "cell_type": "code",
      "execution_count": null,
      "metadata": {
        "id": "f350baaa-3a97-47f5-9bf9-5299d89e4bd9"
      },
      "outputs": [],
      "source": [
        "slice_unique = np.sort(df_preprocess['slice_id'].unique())\n",
        "slice_count = np.array([(df_preprocess['slice_id'] == each).sum() for each in slice_unique])"
      ]
    },
    {
      "cell_type": "code",
      "execution_count": null,
      "metadata": {
        "colab": {
          "base_uri": "https://localhost:8080/",
          "height": 297
        },
        "id": "383c4a6f-49ec-4925-8004-4711534aade7",
        "outputId": "4967a0f0-0a09-46d8-910b-b4f1e1556fc0"
      },
      "outputs": [
        {
          "data": {
            "image/png": "[encoded data removed]",
            "text/plain": [
              "<Figure size 432x288 with 1 Axes>"
            ]
          },
          "metadata": {},
          "output_type": "display_data"
        }
      ],
      "source": [
        "# plt.figure(figsize = (4,2), dpi=200)\n",
        "plt.bar(slice_unique, slice_count, width=0.5)\n",
        "plt.tight_layout()"
      ]
    },
    {
      "cell_type": "code",
      "execution_count": null,
      "metadata": {
        "colab": {
          "base_uri": "https://localhost:8080/",
          "height": 282
        },
        "id": "9a1cbb43-8978-4678-afec-67500a2af7d9",
        "outputId": "8da3cae1-7d14-41e3-8e5a-086f60146b64"
      },
      "outputs": [
        {
          "data": {
            "text/plain": [
              "<BarContainer object of 2 artists>"
            ]
          },
          "execution_count": 26,
          "metadata": {},
          "output_type": "execute_result"
        },
        {
          "data": {
            "image/png": "[encoded data removed]",
            "text/plain": [
              "<Figure size 432x288 with 1 Axes>"
            ]
          },
          "metadata": {},
          "output_type": "display_data"
        }
      ],
      "source": [
        "tmp = np.unique(slice_count)\n",
        "plt.bar(['80 slices', '144 slices'], [tmp[1]-tmp[0], tmp[0]])"
      ]
    },
    {
      "cell_type": "code",
      "execution_count": null,
      "metadata": {
        "colab": {
          "base_uri": "https://localhost:8080/"
        },
        "id": "Kr0K0k8wYbFj",
        "outputId": "b3d73cc4-135f-4b33-83c4-e3e0a9fcaa1f"
      },
      "outputs": [
        {
          "name": "stdout",
          "output_type": "stream",
          "text": [
            "[Using Seed: 1 ]\n"
          ]
        }
      ],
      "source": [
        "device = torch.device('cuda' if torch.cuda.is_available() else 'cpu')\n",
        "seed_all(1)\n",
        "\n",
        "df_val = df_preprocess.sample(int(args.val_split*len(df_preprocess)))\n",
        "df_train = df_preprocess.drop(df_val.index)\n",
        "\n",
        "img_transforms = transforms.Compose([transforms.Resize((args.img_width, args.img_height))])\n",
        "mask_transforms = transforms.Compose([transforms.Resize((args.img_width, args.img_height), interpolation=InterpolationMode.NEAREST)])\n",
        "\n",
        "train_dataset = UWDataset(df_train, transform=img_transforms, target_transform=mask_transforms, pad_to_aspect_ratio=1)\n",
        "val_dataset = UWDataset(df_val, transform=img_transforms, target_transform=mask_transforms, pad_to_aspect_ratio=1)\n",
        "\n",
        "train_dataloader = torch.utils.data.DataLoader(train_dataset, batch_size=args.batch_size,\n",
        "                                             shuffle=True, worker_init_fn=seed_worker)\n",
        "val_dataloader = torch.utils.data.DataLoader(val_dataset, batch_size=args.batch_size,\n",
        "                                             shuffle=True)"
      ]
    },
    {
      "cell_type": "code",
      "execution_count": null,
      "metadata": {
        "id": "Yfc0F2-FYtTi"
      },
      "outputs": [],
      "source": [
        "img, mask = next(iter(train_dataloader))"
      ]
    },
    {
      "cell_type": "code",
      "execution_count": null,
      "metadata": {
        "colab": {
          "base_uri": "https://localhost:8080/",
          "height": 286
        },
        "id": "yhHTOM0dW0ul",
        "outputId": "4e9e219e-5d6e-425d-83a1-806870e64d26"
      },
      "outputs": [
        {
          "data": {
            "text/plain": [
              "<matplotlib.image.AxesImage at 0x7fe3ab922e50>"
            ]
          },
          "execution_count": 65,
          "metadata": {},
          "output_type": "execute_result"
        },
        {
          "data": {
            "image/png": "[encoded data removed]",
            "text/plain": [
              "<Figure size 432x288 with 1 Axes>"
            ]
          },
          "metadata": {},
          "output_type": "display_data"
        }
      ],
      "source": [
        "plt.imshow(img[0, 0], cmap='gray')\n",
        "plt.imshow(mask[0, 0], alpha=0.75*(mask[0, 0] > 0.5), cmap='Reds', interpolation=None)\n",
        "plt.imshow(mask[0, 1], alpha=0.75*(mask[0, 1] > 0.5), cmap='Greens', interpolation=None)\n",
        "plt.imshow(mask[0, 2], alpha=0.75*(mask[0, 2] > 0.5), cmap='Blues', interpolation=None)"
      ]
    },
    {
      "cell_type": "markdown",
      "metadata": {
        "id": "HP0Jp9mvRZ-j"
      },
      "source": [
        "## Entrenamiento"
      ]
    },
    {
      "cell_type": "code",
      "execution_count": null,
      "metadata": {
        "id": "8zd9upSwRexj"
      },
      "outputs": [],
      "source": [
        "def train(model, dataloader, device, optimizer, scheduler, loss_fn):\n",
        "    model.train()\n",
        "    for x, y in tqdm(dataloader):\n",
        "        x, y = x.to(device), y.to(device)\n",
        "        optimizer.zero_grad()\n",
        "        preds = model(x)\n",
        "        loss = loss_fn(preds, y)\n",
        "        loss.backward()\n",
        "        optimizer.step()\n",
        "    scheduler.step()"
      ]
    },
    {
      "cell_type": "code",
      "execution_count": null,
      "metadata": {
        "id": "4ZnzrhKkRhti"
      },
      "outputs": [],
      "source": [
        "def test(model, dataloader, device, loss_fn, metrics_fn=None):\n",
        "    loss_total = 0.0\n",
        "    metrics_total = 0.0\n",
        "    data_len = 0.0\n",
        "    model.eval()\n",
        "    with torch.no_grad():\n",
        "        for x, y in tqdm(dataloader):\n",
        "            x, y = x.to(device), y.to(device)\n",
        "            preds = model(x)\n",
        "            loss = loss_fn(preds, y)\n",
        "#             metrics_total += metrics_fn(preds, y) * y.shape[0]\n",
        "            data_len += y.shape[0]\n",
        "            loss_total += loss\n",
        "#         return loss_total/len(dataloader), 1-metrics_total/data_len\n",
        "        return loss_total/len(dataloader)"
      ]
    },
    {
      "cell_type": "code",
      "execution_count": null,
      "metadata": {
        "colab": {
          "base_uri": "https://localhost:8080/",
          "height": 86,
          "referenced_widgets": [
            "c024453ec09c4ad9bf0f5e8e1783bf4b",
            "ec65b62d37f74442b680aeeecc04d777",
            "ccaa20c234f34e9683a2cb846078ba1a",
            "8d3d400612e34eea9f274161e337d52d",
            "5e03c5b127a647b3b4686aab2c795e85",
            "1e3569b65a704215a287222b5769f267",
            "a2c04bf7c86c47c6b8c339a060b889cf",
            "92b2e4244ec54a719f7af17a3d472449",
            "190cb0b7879f4912b8afb093ce56cbfd",
            "83a9c20516aa432fa450491d45f2e57d",
            "aaf278440c854fd4b80ea94c3d5d8aa0"
          ]
        },
        "id": "79e76f7a-7203-4a2c-b3a7-e066ec3fa461",
        "outputId": "61a243ad-c7b5-4eb6-88c4-c58e41170d46"
      },
      "outputs": [
        {
          "name": "stderr",
          "output_type": "stream",
          "text": [
            "Downloading: \"https://github.com/lukemelas/EfficientNet-PyTorch/releases/download/1.0/efficientnet-b0-355c32eb.pth\" to /root/.cache/torch/hub/checkpoints/efficientnet-b0-355c32eb.pth\n"
          ]
        },
        {
          "data": {
            "application/vnd.jupyter.widget-view+json": {
              "model_id": "c024453ec09c4ad9bf0f5e8e1783bf4b",
              "version_major": 2,
              "version_minor": 0
            },
            "text/plain": [
              "  0%|          | 0.00/20.4M [00:00<?, ?B/s]"
            ]
          },
          "metadata": {},
          "output_type": "display_data"
        }
      ],
      "source": [
        "model = smp.Unet(\n",
        "    encoder_name=args.arch.lower(),        # choose encoder, e.g. mobilenet_v2 or efficientnet-b7\n",
        "    encoder_weights=\"imagenet\",     # use `imagenet` pre-trained weights for encoder initialization\n",
        "    in_channels=1,                  # model input channels (1 for gray-scale images, 3 for RGB, etc.)\n",
        "    classes=3,                      # model output channels (number of classes in your dataset)\n",
        "    activation=None\n",
        ")\n",
        "model.to(device);"
      ]
    },
    {
      "cell_type": "code",
      "execution_count": null,
      "metadata": {
        "colab": {
          "background_save": true,
          "base_uri": "https://localhost:8080/",
          "height": 84,
          "referenced_widgets": [
            "b5dfd552e1eb4a03ac4c8c58bcce387f",
            "5841ace946ec459986c3a5b792c6bb67",
            "09f6b250dd184a3490c5a3998c7ed33f",
            "c5f2ef198955477abee251a7ed3ec3b2",
            "519ca5be72ed4503a70f6845a5441f53",
            "d65efe1b54a84d40bc3003f8188eef24",
            "bf7a5e412c15479ebd3e012a9cf4ea6a",
            "1d3027c8e168452bb3e6ba41358c89f1",
            "8bdc65f6f5c64f38972f64de0536dbc1",
            "ec9a27b27137400fb7f0d868cf665605",
            "d3ddf59b4e5341f08f75454b082b036e"
          ]
        },
        "id": "06a06cd1-c87d-4945-9808-fbfd36e3394e",
        "outputId": "45091d76-c492-4e16-f935-e13adce30746"
      },
      "outputs": [
        {
          "name": "stdout",
          "output_type": "stream",
          "text": [
            "\n",
            "Epoch 1\n"
          ]
        },
        {
          "data": {
            "application/vnd.jupyter.widget-view+json": {
              "model_id": "b5dfd552e1eb4a03ac4c8c58bcce387f",
              "version_major": 2,
              "version_minor": 0
            },
            "text/plain": [
              "  0%|          | 0/26948 [00:00<?, ?it/s]"
            ]
          },
          "metadata": {},
          "output_type": "display_data"
        }
      ],
      "source": [
        "loss_fn = smp.losses.DiceLoss(mode='multilabel')\n",
        "metrics_fn = None\n",
        "optimizer = torch.optim.Adam(model.parameters(), lr=args.lr)\n",
        "scheduler = torch.optim.lr_scheduler.ExponentialLR(optimizer, (args.min_lr/args.lr)**(1/args.epochs))\n",
        "\n",
        "best_dice_loss = 100\n",
        "\n",
        "for epoch in range(1, args.epochs):\n",
        "    print('\\nEpoch {}'.format(epoch))\n",
        "    train(model, train_dataloader, device, optimizer, scheduler, loss_fn)\n",
        "    train_loss = test(model, train_dataloader, device, loss_fn)\n",
        "    \n",
        "    print('Training Loss: {:.4f}'.format(train_loss))    \n",
        "    test_loss = test(model, val_dataloader, device, loss_fn)\n",
        "    \n",
        "    print('Test Loss: {:.4f}'.format(test_loss))\n",
        "    \n",
        "    if test_loss < best_dice_loss:\n",
        "        torch.save(model, os.path.join('../ckpt', 'best_' + args.log_name + '.pt'))\n",
        "        best_dice_loss = test_loss\n",
        "        print('Saving best model')\n",
        "    \n",
        "\n",
        "torch.save(model, os.path.join('./data/ckpt', 'last_' + args.log_name + '.pt'))"
      ]
    }
  ],
  "metadata": {
    "accelerator": "GPU",
    "colab": {
      "collapsed_sections": [],
      "name": "4_aplicaciones.ipynb",
      "toc_visible": true,
      "provenance": [],
      "authorship_tag": "ABX9TyPsaySaTZLbCFYUvGFJJC/a",
      "include_colab_link": true
    },
    "gpuClass": "standard",
    "kernelspec": {
      "display_name": "Python 3",
      "name": "python3"
    },
    "language_info": {
      "name": "python"
    },
    "widgets": {
      "application/vnd.jupyter.widget-state+json": {
        "09f6b250dd184a3490c5a3998c7ed33f": {
          "model_module": "@jupyter-widgets/controls",
          "model_module_version": "1.5.0",
          "model_name": "FloatProgressModel",
          "state": {
            "_dom_classes": [],
            "_model_module": "@jupyter-widgets/controls",
            "_model_module_version": "1.5.0",
            "_model_name": "FloatProgressModel",
            "_view_count": null,
            "_view_module": "@jupyter-widgets/controls",
            "_view_module_version": "1.5.0",
            "_view_name": "ProgressView",
            "bar_style": "",
            "description": "",
            "description_tooltip": null,
            "layout": "IPY_MODEL_1d3027c8e168452bb3e6ba41358c89f1",
            "max": 26948,
            "min": 0,
            "orientation": "horizontal",
            "style": "IPY_MODEL_8bdc65f6f5c64f38972f64de0536dbc1",
            "value": 131
          }
        },
        "190cb0b7879f4912b8afb093ce56cbfd": {
          "model_module": "@jupyter-widgets/controls",
          "model_module_version": "1.5.0",
          "model_name": "ProgressStyleModel",
          "state": {
            "_model_module": "@jupyter-widgets/controls",
            "_model_module_version": "1.5.0",
            "_model_name": "ProgressStyleModel",
            "_view_count": null,
            "_view_module": "@jupyter-widgets/base",
            "_view_module_version": "1.2.0",
            "_view_name": "StyleView",
            "bar_color": null,
            "description_width": ""
          }
        },
        "1d3027c8e168452bb3e6ba41358c89f1": {
          "model_module": "@jupyter-widgets/base",
          "model_module_version": "1.2.0",
          "model_name": "LayoutModel",
          "state": {
            "_model_module": "@jupyter-widgets/base",
            "_model_module_version": "1.2.0",
            "_model_name": "LayoutModel",
            "_view_count": null,
            "_view_module": "@jupyter-widgets/base",
            "_view_module_version": "1.2.0",
            "_view_name": "LayoutView",
            "align_content": null,
            "align_items": null,
            "align_self": null,
            "border": null,
            "bottom": null,
            "display": null,
            "flex": null,
            "flex_flow": null,
            "grid_area": null,
            "grid_auto_columns": null,
            "grid_auto_flow": null,
            "grid_auto_rows": null,
            "grid_column": null,
            "grid_gap": null,
            "grid_row": null,
            "grid_template_areas": null,
            "grid_template_columns": null,
            "grid_template_rows": null,
            "height": null,
            "justify_content": null,
            "justify_items": null,
            "left": null,
            "margin": null,
            "max_height": null,
            "max_width": null,
            "min_height": null,
            "min_width": null,
            "object_fit": null,
            "object_position": null,
            "order": null,
            "overflow": null,
            "overflow_x": null,
            "overflow_y": null,
            "padding": null,
            "right": null,
            "top": null,
            "visibility": null,
            "width": null
          }
        },
        "1e3569b65a704215a287222b5769f267": {
          "model_module": "@jupyter-widgets/base",
          "model_module_version": "1.2.0",
          "model_name": "LayoutModel",
          "state": {
            "_model_module": "@jupyter-widgets/base",
            "_model_module_version": "1.2.0",
            "_model_name": "LayoutModel",
            "_view_count": null,
            "_view_module": "@jupyter-widgets/base",
            "_view_module_version": "1.2.0",
            "_view_name": "LayoutView",
            "align_content": null,
            "align_items": null,
            "align_self": null,
            "border": null,
            "bottom": null,
            "display": null,
            "flex": null,
            "flex_flow": null,
            "grid_area": null,
            "grid_auto_columns": null,
            "grid_auto_flow": null,
            "grid_auto_rows": null,
            "grid_column": null,
            "grid_gap": null,
            "grid_row": null,
            "grid_template_areas": null,
            "grid_template_columns": null,
            "grid_template_rows": null,
            "height": null,
            "justify_content": null,
            "justify_items": null,
            "left": null,
            "margin": null,
            "max_height": null,
            "max_width": null,
            "min_height": null,
            "min_width": null,
            "object_fit": null,
            "object_position": null,
            "order": null,
            "overflow": null,
            "overflow_x": null,
            "overflow_y": null,
            "padding": null,
            "right": null,
            "top": null,
            "visibility": null,
            "width": null
          }
        },
        "519ca5be72ed4503a70f6845a5441f53": {
          "model_module": "@jupyter-widgets/base",
          "model_module_version": "1.2.0",
          "model_name": "LayoutModel",
          "state": {
            "_model_module": "@jupyter-widgets/base",
            "_model_module_version": "1.2.0",
            "_model_name": "LayoutModel",
            "_view_count": null,
            "_view_module": "@jupyter-widgets/base",
            "_view_module_version": "1.2.0",
            "_view_name": "LayoutView",
            "align_content": null,
            "align_items": null,
            "align_self": null,
            "border": null,
            "bottom": null,
            "display": null,
            "flex": null,
            "flex_flow": null,
            "grid_area": null,
            "grid_auto_columns": null,
            "grid_auto_flow": null,
            "grid_auto_rows": null,
            "grid_column": null,
            "grid_gap": null,
            "grid_row": null,
            "grid_template_areas": null,
            "grid_template_columns": null,
            "grid_template_rows": null,
            "height": null,
            "justify_content": null,
            "justify_items": null,
            "left": null,
            "margin": null,
            "max_height": null,
            "max_width": null,
            "min_height": null,
            "min_width": null,
            "object_fit": null,
            "object_position": null,
            "order": null,
            "overflow": null,
            "overflow_x": null,
            "overflow_y": null,
            "padding": null,
            "right": null,
            "top": null,
            "visibility": null,
            "width": null
          }
        },
        "5841ace946ec459986c3a5b792c6bb67": {
          "model_module": "@jupyter-widgets/controls",
          "model_module_version": "1.5.0",
          "model_name": "HTMLModel",
          "state": {
            "_dom_classes": [],
            "_model_module": "@jupyter-widgets/controls",
            "_model_module_version": "1.5.0",
            "_model_name": "HTMLModel",
            "_view_count": null,
            "_view_module": "@jupyter-widgets/controls",
            "_view_module_version": "1.5.0",
            "_view_name": "HTMLView",
            "description": "",
            "description_tooltip": null,
            "layout": "IPY_MODEL_d65efe1b54a84d40bc3003f8188eef24",
            "placeholder": "​",
            "style": "IPY_MODEL_bf7a5e412c15479ebd3e012a9cf4ea6a",
            "value": "  0%"
          }
        },
        "5e03c5b127a647b3b4686aab2c795e85": {
          "model_module": "@jupyter-widgets/base",
          "model_module_version": "1.2.0",
          "model_name": "LayoutModel",
          "state": {
            "_model_module": "@jupyter-widgets/base",
            "_model_module_version": "1.2.0",
            "_model_name": "LayoutModel",
            "_view_count": null,
            "_view_module": "@jupyter-widgets/base",
            "_view_module_version": "1.2.0",
            "_view_name": "LayoutView",
            "align_content": null,
            "align_items": null,
            "align_self": null,
            "border": null,
            "bottom": null,
            "display": null,
            "flex": null,
            "flex_flow": null,
            "grid_area": null,
            "grid_auto_columns": null,
            "grid_auto_flow": null,
            "grid_auto_rows": null,
            "grid_column": null,
            "grid_gap": null,
            "grid_row": null,
            "grid_template_areas": null,
            "grid_template_columns": null,
            "grid_template_rows": null,
            "height": null,
            "justify_content": null,
            "justify_items": null,
            "left": null,
            "margin": null,
            "max_height": null,
            "max_width": null,
            "min_height": null,
            "min_width": null,
            "object_fit": null,
            "object_position": null,
            "order": null,
            "overflow": null,
            "overflow_x": null,
            "overflow_y": null,
            "padding": null,
            "right": null,
            "top": null,
            "visibility": null,
            "width": null
          }
        },
        "83a9c20516aa432fa450491d45f2e57d": {
          "model_module": "@jupyter-widgets/base",
          "model_module_version": "1.2.0",
          "model_name": "LayoutModel",
          "state": {
            "_model_module": "@jupyter-widgets/base",
            "_model_module_version": "1.2.0",
            "_model_name": "LayoutModel",
            "_view_count": null,
            "_view_module": "@jupyter-widgets/base",
            "_view_module_version": "1.2.0",
            "_view_name": "LayoutView",
            "align_content": null,
            "align_items": null,
            "align_self": null,
            "border": null,
            "bottom": null,
            "display": null,
            "flex": null,
            "flex_flow": null,
            "grid_area": null,
            "grid_auto_columns": null,
            "grid_auto_flow": null,
            "grid_auto_rows": null,
            "grid_column": null,
            "grid_gap": null,
            "grid_row": null,
            "grid_template_areas": null,
            "grid_template_columns": null,
            "grid_template_rows": null,
            "height": null,
            "justify_content": null,
            "justify_items": null,
            "left": null,
            "margin": null,
            "max_height": null,
            "max_width": null,
            "min_height": null,
            "min_width": null,
            "object_fit": null,
            "object_position": null,
            "order": null,
            "overflow": null,
            "overflow_x": null,
            "overflow_y": null,
            "padding": null,
            "right": null,
            "top": null,
            "visibility": null,
            "width": null
          }
        },
        "8bdc65f6f5c64f38972f64de0536dbc1": {
          "model_module": "@jupyter-widgets/controls",
          "model_module_version": "1.5.0",
          "model_name": "ProgressStyleModel",
          "state": {
            "_model_module": "@jupyter-widgets/controls",
            "_model_module_version": "1.5.0",
            "_model_name": "ProgressStyleModel",
            "_view_count": null,
            "_view_module": "@jupyter-widgets/base",
            "_view_module_version": "1.2.0",
            "_view_name": "StyleView",
            "bar_color": null,
            "description_width": ""
          }
        },
        "8d3d400612e34eea9f274161e337d52d": {
          "model_module": "@jupyter-widgets/controls",
          "model_module_version": "1.5.0",
          "model_name": "HTMLModel",
          "state": {
            "_dom_classes": [],
            "_model_module": "@jupyter-widgets/controls",
            "_model_module_version": "1.5.0",
            "_model_name": "HTMLModel",
            "_view_count": null,
            "_view_module": "@jupyter-widgets/controls",
            "_view_module_version": "1.5.0",
            "_view_name": "HTMLView",
            "description": "",
            "description_tooltip": null,
            "layout": "IPY_MODEL_83a9c20516aa432fa450491d45f2e57d",
            "placeholder": "​",
            "style": "IPY_MODEL_aaf278440c854fd4b80ea94c3d5d8aa0",
            "value": " 20.4M/20.4M [00:02&lt;00:00, 13.0MB/s]"
          }
        },
        "92b2e4244ec54a719f7af17a3d472449": {
          "model_module": "@jupyter-widgets/base",
          "model_module_version": "1.2.0",
          "model_name": "LayoutModel",
          "state": {
            "_model_module": "@jupyter-widgets/base",
            "_model_module_version": "1.2.0",
            "_model_name": "LayoutModel",
            "_view_count": null,
            "_view_module": "@jupyter-widgets/base",
            "_view_module_version": "1.2.0",
            "_view_name": "LayoutView",
            "align_content": null,
            "align_items": null,
            "align_self": null,
            "border": null,
            "bottom": null,
            "display": null,
            "flex": null,
            "flex_flow": null,
            "grid_area": null,
            "grid_auto_columns": null,
            "grid_auto_flow": null,
            "grid_auto_rows": null,
            "grid_column": null,
            "grid_gap": null,
            "grid_row": null,
            "grid_template_areas": null,
            "grid_template_columns": null,
            "grid_template_rows": null,
            "height": null,
            "justify_content": null,
            "justify_items": null,
            "left": null,
            "margin": null,
            "max_height": null,
            "max_width": null,
            "min_height": null,
            "min_width": null,
            "object_fit": null,
            "object_position": null,
            "order": null,
            "overflow": null,
            "overflow_x": null,
            "overflow_y": null,
            "padding": null,
            "right": null,
            "top": null,
            "visibility": null,
            "width": null
          }
        },
        "a2c04bf7c86c47c6b8c339a060b889cf": {
          "model_module": "@jupyter-widgets/controls",
          "model_module_version": "1.5.0",
          "model_name": "DescriptionStyleModel",
          "state": {
            "_model_module": "@jupyter-widgets/controls",
            "_model_module_version": "1.5.0",
            "_model_name": "DescriptionStyleModel",
            "_view_count": null,
            "_view_module": "@jupyter-widgets/base",
            "_view_module_version": "1.2.0",
            "_view_name": "StyleView",
            "description_width": ""
          }
        },
        "aaf278440c854fd4b80ea94c3d5d8aa0": {
          "model_module": "@jupyter-widgets/controls",
          "model_module_version": "1.5.0",
          "model_name": "DescriptionStyleModel",
          "state": {
            "_model_module": "@jupyter-widgets/controls",
            "_model_module_version": "1.5.0",
            "_model_name": "DescriptionStyleModel",
            "_view_count": null,
            "_view_module": "@jupyter-widgets/base",
            "_view_module_version": "1.2.0",
            "_view_name": "StyleView",
            "description_width": ""
          }
        },
        "b5dfd552e1eb4a03ac4c8c58bcce387f": {
          "model_module": "@jupyter-widgets/controls",
          "model_module_version": "1.5.0",
          "model_name": "HBoxModel",
          "state": {
            "_dom_classes": [],
            "_model_module": "@jupyter-widgets/controls",
            "_model_module_version": "1.5.0",
            "_model_name": "HBoxModel",
            "_view_count": null,
            "_view_module": "@jupyter-widgets/controls",
            "_view_module_version": "1.5.0",
            "_view_name": "HBoxView",
            "box_style": "",
            "children": [
              "IPY_MODEL_5841ace946ec459986c3a5b792c6bb67",
              "IPY_MODEL_09f6b250dd184a3490c5a3998c7ed33f",
              "IPY_MODEL_c5f2ef198955477abee251a7ed3ec3b2"
            ],
            "layout": "IPY_MODEL_519ca5be72ed4503a70f6845a5441f53"
          }
        },
        "bf7a5e412c15479ebd3e012a9cf4ea6a": {
          "model_module": "@jupyter-widgets/controls",
          "model_module_version": "1.5.0",
          "model_name": "DescriptionStyleModel",
          "state": {
            "_model_module": "@jupyter-widgets/controls",
            "_model_module_version": "1.5.0",
            "_model_name": "DescriptionStyleModel",
            "_view_count": null,
            "_view_module": "@jupyter-widgets/base",
            "_view_module_version": "1.2.0",
            "_view_name": "StyleView",
            "description_width": ""
          }
        },
        "c024453ec09c4ad9bf0f5e8e1783bf4b": {
          "model_module": "@jupyter-widgets/controls",
          "model_module_version": "1.5.0",
          "model_name": "HBoxModel",
          "state": {
            "_dom_classes": [],
            "_model_module": "@jupyter-widgets/controls",
            "_model_module_version": "1.5.0",
            "_model_name": "HBoxModel",
            "_view_count": null,
            "_view_module": "@jupyter-widgets/controls",
            "_view_module_version": "1.5.0",
            "_view_name": "HBoxView",
            "box_style": "",
            "children": [
              "IPY_MODEL_ec65b62d37f74442b680aeeecc04d777",
              "IPY_MODEL_ccaa20c234f34e9683a2cb846078ba1a",
              "IPY_MODEL_8d3d400612e34eea9f274161e337d52d"
            ],
            "layout": "IPY_MODEL_5e03c5b127a647b3b4686aab2c795e85"
          }
        },
        "c5f2ef198955477abee251a7ed3ec3b2": {
          "model_module": "@jupyter-widgets/controls",
          "model_module_version": "1.5.0",
          "model_name": "HTMLModel",
          "state": {
            "_dom_classes": [],
            "_model_module": "@jupyter-widgets/controls",
            "_model_module_version": "1.5.0",
            "_model_name": "HTMLModel",
            "_view_count": null,
            "_view_module": "@jupyter-widgets/controls",
            "_view_module_version": "1.5.0",
            "_view_name": "HTMLView",
            "description": "",
            "description_tooltip": null,
            "layout": "IPY_MODEL_ec9a27b27137400fb7f0d868cf665605",
            "placeholder": "​",
            "style": "IPY_MODEL_d3ddf59b4e5341f08f75454b082b036e",
            "value": " 131/26948 [00:13&lt;37:53, 11.80it/s]"
          }
        },
        "ccaa20c234f34e9683a2cb846078ba1a": {
          "model_module": "@jupyter-widgets/controls",
          "model_module_version": "1.5.0",
          "model_name": "FloatProgressModel",
          "state": {
            "_dom_classes": [],
            "_model_module": "@jupyter-widgets/controls",
            "_model_module_version": "1.5.0",
            "_model_name": "FloatProgressModel",
            "_view_count": null,
            "_view_module": "@jupyter-widgets/controls",
            "_view_module_version": "1.5.0",
            "_view_name": "ProgressView",
            "bar_style": "success",
            "description": "",
            "description_tooltip": null,
            "layout": "IPY_MODEL_92b2e4244ec54a719f7af17a3d472449",
            "max": 21388428,
            "min": 0,
            "orientation": "horizontal",
            "style": "IPY_MODEL_190cb0b7879f4912b8afb093ce56cbfd",
            "value": 21388428
          }
        },
        "d3ddf59b4e5341f08f75454b082b036e": {
          "model_module": "@jupyter-widgets/controls",
          "model_module_version": "1.5.0",
          "model_name": "DescriptionStyleModel",
          "state": {
            "_model_module": "@jupyter-widgets/controls",
            "_model_module_version": "1.5.0",
            "_model_name": "DescriptionStyleModel",
            "_view_count": null,
            "_view_module": "@jupyter-widgets/base",
            "_view_module_version": "1.2.0",
            "_view_name": "StyleView",
            "description_width": ""
          }
        },
        "d65efe1b54a84d40bc3003f8188eef24": {
          "model_module": "@jupyter-widgets/base",
          "model_module_version": "1.2.0",
          "model_name": "LayoutModel",
          "state": {
            "_model_module": "@jupyter-widgets/base",
            "_model_module_version": "1.2.0",
            "_model_name": "LayoutModel",
            "_view_count": null,
            "_view_module": "@jupyter-widgets/base",
            "_view_module_version": "1.2.0",
            "_view_name": "LayoutView",
            "align_content": null,
            "align_items": null,
            "align_self": null,
            "border": null,
            "bottom": null,
            "display": null,
            "flex": null,
            "flex_flow": null,
            "grid_area": null,
            "grid_auto_columns": null,
            "grid_auto_flow": null,
            "grid_auto_rows": null,
            "grid_column": null,
            "grid_gap": null,
            "grid_row": null,
            "grid_template_areas": null,
            "grid_template_columns": null,
            "grid_template_rows": null,
            "height": null,
            "justify_content": null,
            "justify_items": null,
            "left": null,
            "margin": null,
            "max_height": null,
            "max_width": null,
            "min_height": null,
            "min_width": null,
            "object_fit": null,
            "object_position": null,
            "order": null,
            "overflow": null,
            "overflow_x": null,
            "overflow_y": null,
            "padding": null,
            "right": null,
            "top": null,
            "visibility": null,
            "width": null
          }
        },
        "ec65b62d37f74442b680aeeecc04d777": {
          "model_module": "@jupyter-widgets/controls",
          "model_module_version": "1.5.0",
          "model_name": "HTMLModel",
          "state": {
            "_dom_classes": [],
            "_model_module": "@jupyter-widgets/controls",
            "_model_module_version": "1.5.0",
            "_model_name": "HTMLModel",
            "_view_count": null,
            "_view_module": "@jupyter-widgets/controls",
            "_view_module_version": "1.5.0",
            "_view_name": "HTMLView",
            "description": "",
            "description_tooltip": null,
            "layout": "IPY_MODEL_1e3569b65a704215a287222b5769f267",
            "placeholder": "​",
            "style": "IPY_MODEL_a2c04bf7c86c47c6b8c339a060b889cf",
            "value": "100%"
          }
        },
        "ec9a27b27137400fb7f0d868cf665605": {
          "model_module": "@jupyter-widgets/base",
          "model_module_version": "1.2.0",
          "model_name": "LayoutModel",
          "state": {
            "_model_module": "@jupyter-widgets/base",
            "_model_module_version": "1.2.0",
            "_model_name": "LayoutModel",
            "_view_count": null,
            "_view_module": "@jupyter-widgets/base",
            "_view_module_version": "1.2.0",
            "_view_name": "LayoutView",
            "align_content": null,
            "align_items": null,
            "align_self": null,
            "border": null,
            "bottom": null,
            "display": null,
            "flex": null,
            "flex_flow": null,
            "grid_area": null,
            "grid_auto_columns": null,
            "grid_auto_flow": null,
            "grid_auto_rows": null,
            "grid_column": null,
            "grid_gap": null,
            "grid_row": null,
            "grid_template_areas": null,
            "grid_template_columns": null,
            "grid_template_rows": null,
            "height": null,
            "justify_content": null,
            "justify_items": null,
            "left": null,
            "margin": null,
            "max_height": null,
            "max_width": null,
            "min_height": null,
            "min_width": null,
            "object_fit": null,
            "object_position": null,
            "order": null,
            "overflow": null,
            "overflow_x": null,
            "overflow_y": null,
            "padding": null,
            "right": null,
            "top": null,
            "visibility": null,
            "width": null
          }
        }
      }
    }
  },
  "nbformat": 4,
  "nbformat_minor": 0
}