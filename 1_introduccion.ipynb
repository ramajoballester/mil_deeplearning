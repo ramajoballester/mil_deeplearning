{
  "nbformat": 4,
  "nbformat_minor": 0,
  "metadata": {
    "colab": {
      "name": "1_introduccion.ipynb",
      "provenance": [],
      "collapsed_sections": [],
      "toc_visible": true,
      "mount_file_id": "1EwZLwXCFp8ydXWaMIIAnq-m0v_Jj_qY0",
      "authorship_tag": "ABX9TyMk13Gex3EbmV6cDtTThmZJ",
      "include_colab_link": true
    },
    "kernelspec": {
      "name": "python3",
      "display_name": "Python 3"
    },
    "language_info": {
      "name": "python"
    }
  },
  "cells": [
    {
      "cell_type": "markdown",
      "metadata": {
        "id": "view-in-github",
        "colab_type": "text"
      },
      "source": [
        "<a href=\"https://colab.research.google.com/github/ramajoballester/mil_deeplearning/blob/main/1_introduccion.ipynb\" target=\"_parent\"><img src=\"https://colab.research.google.com/assets/colab-badge.svg\" alt=\"Open In Colab\"/></a>"
      ]
    },
    {
      "cell_type": "markdown",
      "source": [
        "# Sesión 1. Introducción al Deep Learning"
      ],
      "metadata": {
        "id": "nzf-42lVT_4Q"
      }
    },
    {
      "cell_type": "markdown",
      "source": [
        "# Introducción"
      ],
      "metadata": {
        "id": "QpU3gbwF15Ep"
      }
    },
    {
      "cell_type": "markdown",
      "source": [
        "En esta última década el Aprendizaje Profundo (*Deep Learning*) ha impulsado un rápido progreso en campos tan diversos como la visión por ordenador, el procesamiento del lenguaje natural, el reconocimiento automático del habla, el aprendizaje por refuerzo y la informática biomédica. Además, el éxito del aprendizaje profundo en tantas tareas de interés ha catalizado incluso desarrollos en el aprendizaje automático teórico y la estadística. Con estos avances en la mano, ahora podemos construir coches que se conducen solos con más autonomía que nunca (y menos autonomía de lo que algunas empresas podrían hacer creer), sistemas de respuesta inteligente que redactan automáticamente los correos electrónicos más mundanos y máquinas que dominan a los mejores humanos del mundo en juegos de mesa como el Go, una hazaña que antes se creía que estaba a décadas de distancia. Estas herramientas ya ejercen un impacto cada vez mayor en la industria y la sociedad, cambiando la forma de hacer películas, diagnosticar enfermedades y desempeñando un papel cada vez más importante en las ciencias básicas, desde la astrofísica hasta la biología."
      ],
      "metadata": {
        "id": "vr71NX7aCJqJ"
      }
    },
    {
      "cell_type": "markdown",
      "source": [
        "## Inteligencia Artificial\n",
        "- Machine Learning\n",
        " - Árboles de decisión / Random Forest\n",
        " - Support Vector Machines (SVM)\n",
        " - Algoritmos Gradient Boosting y AdaBoosting\n",
        "- Deep Learning\n",
        " - Redes Neuronales\n",
        "- Reinforcement Learning\n",
        " - State, action, reward, state, action (SARSA)\n",
        " - Deep Q Network\n",
        " - Deep Deterministic Policy Gradient\n",
        " - Asynchronous Advantage Actor-Critic Algorithm"
      ],
      "metadata": {
        "id": "NQtzGJnOhhsQ"
      }
    },
    {
      "cell_type": "markdown",
      "source": [
        "## Componentes clave\n",
        "\n",
        "- **Datos** de los que aprender\n",
        "- Un **modelo** para transformar los datos de entrada en las respuestas esperadas\n",
        "- Una **función objetivo** que cuantifique como de bien (o mal) se está comportando el modelo\n",
        "- Un **algoritmo** que ajuste los parámetros de dicho modelo para optimizar la función objetivo"
      ],
      "metadata": {
        "id": "YKBqs3tRfXnv"
      }
    },
    {
      "cell_type": "markdown",
      "source": [
        "### Conjunto de datos (dataset)"
      ],
      "metadata": {
        "id": "U2v6Svalg8im"
      }
    },
    {
      "cell_type": "markdown",
      "source": [
        "Imágenes, texto, secuencias de datos, series temporales, ..."
      ],
      "metadata": {
        "id": "NBkZN97BulR2"
      }
    },
    {
      "cell_type": "markdown",
      "source": [
        "### Modelos"
      ],
      "metadata": {
        "id": "xhejrHfZhNBP"
      }
    },
    {
      "cell_type": "markdown",
      "source": [
        "Por modelo, denotamos la arquitectura computacional que permite recibir datos de un determinado tipo y emitir predicciones de un tipo posiblemente diferente. En particular, nos interesan modelos estadísticos que sean capaces de realizar dicha transformación y que puedan estimarse a partir de los datos"
      ],
      "metadata": {
        "id": "pt8M_UHgvRPN"
      }
    },
    {
      "cell_type": "markdown",
      "source": [
        "### Funciones objetivo"
      ],
      "metadata": {
        "id": "JiAXWiqihPLo"
      }
    },
    {
      "cell_type": "markdown",
      "source": [
        "Para desarrollar un sistema matemático formal de aprendizaje automático, necesitamos tener medidas formales de lo buenos (o malos) que son nuestros modelos. En el Deep Learning, y en la optimización en general, las llamamos funciones objetivo. Por convención, solemos definir las funciones objetivo de manera que lo más bajo es lo mejor. Esto no es más que una convención. Se puede tomar cualquier función para la que sea mejor el valor más alto y convertirla en una nueva función cualitativamente idéntica, pero para la que sea mejor el valor más bajo, cambiando el signo. Dado que menor es mejor, estas funciones se denominan a veces funciones de pérdida.\n",
        "\n",
        "Cuando se trata de predecir valores numéricos, la función de pérdida más común es el error cuadrático, es decir, el cuadrado de la diferencia entre la predicción y el valor verdadero. Para la clasificación, el objetivo más común es minimizar la tasa de error, es decir, la fracción de ejemplos en los que nuestras predicciones no coinciden con el valor real. Algunas de estas funciones objetivo (por ejemplo, el error cuadrático) son fáciles de optimizar. Otras (por ejemplo, la tasa de error) son difíciles de optimizar directamente, debido a la no diferenciabilidad u otras dificultades. En estos casos, es habitual optimizar una función objetivo \"surrogada\".\n",
        "\n",
        "Normalmente, la función de pérdida se define con respecto a los parámetros del modelo y depende del conjunto de datos. Se aprenden los mejores valores de los parámetros de nuestro modelo minimizando la pérdida en un conjunto formado por un cierto número de ejemplos recogidos para el entrenamiento. Sin embargo, hacerlo bien en los datos de entrenamiento no garantiza que lo hagamos bien con datos nuevos. Por ello, normalmente conviene dividir los datos disponibles en dos particiones: el conjunto de datos de entrenamiento (para ajustar los parámetros del modelo) y el conjunto de datos de prueba (para la evaluación), mostrando el rendimiento del modelo en ambos."
      ],
      "metadata": {
        "id": "HQILRW3a_6DJ"
      }
    },
    {
      "cell_type": "markdown",
      "source": [
        "### Algoritmos de optimización"
      ],
      "metadata": {
        "id": "8gknCphJhWcX"
      }
    },
    {
      "cell_type": "markdown",
      "source": [
        "- Descenso de Gradiente\n",
        "- Descenso de Gradiente Estocástico (SGD)\n",
        "- Adam\n",
        "- RMSProp"
      ],
      "metadata": {
        "id": "vgI9uHv0AljC"
      }
    },
    {
      "cell_type": "markdown",
      "source": [
        "## Tipos de proyectos de Machine / Deep Learning"
      ],
      "metadata": {
        "id": "w7q4EisXhZhX"
      }
    },
    {
      "cell_type": "markdown",
      "source": [
        "### Aprendizaje supervisado"
      ],
      "metadata": {
        "id": "nKIguBuUnIqg"
      }
    },
    {
      "cell_type": "markdown",
      "source": [
        "El aprendizaje supervisado se ocupa de la tarea de predecir etiquetas dadas una serie de entradas. Nuestro objetivo es producir un modelo que asigne a cualquier entrada una predicción de etiqueta.\n",
        "\n",
        "Para basar esta descripción en un ejemplo concreto, si trabajáramos en el ámbito de la sanidad, podríamos querer predecir si un paciente va a sufrir o no un ataque al corazón. Esta observación, \"ataque al corazón\" o \"no ataque al corazón\", sería nuestra etiqueta, en este caso, binaria. Las entradas podrían ser los signos vitales, como la frecuencia cardíaca o la presión arterial diastólica y sistólica.\n",
        "\n",
        "La supervisión entra en juego porque, para elegir los parámetros, nosotros (los supervisores) proporcionamos al modelo un conjunto de datos formado por ejemplos etiquetados. En términos probabilísticos, normalmente nos interesa estimar la probabilidad condicional de una etiqueta dadas las características de entrada. Aunque es sólo uno de los paradigmas del aprendizaje automático, el aprendizaje supervisado representa la mayoría de las aplicaciones exitosas del aprendizaje automático en la industria. En parte, esto se debe a que muchas tareas importantes pueden describirse claramente como la estimación de la probabilidad de algo desconocido dado un conjunto particular de datos disponibles.\n",
        "\n",
        "- Regresión lineal / logística\n",
        "- Clasificación\n",
        "- Búsqueda\n",
        "- Sistemas de recomendación\n",
        "- Aprendizaje de secuencias / series temporales\n",
        " - Reconocimiento del habla\n",
        " - Transcripción del discurso\n",
        " - Traducción automática"
      ],
      "metadata": {
        "id": "tOJuw3a9occk"
      }
    },
    {
      "cell_type": "markdown",
      "source": [
        "### Aprendizaje no supervisado"
      ],
      "metadata": {
        "id": "GY96K6AoqHUk"
      }
    },
    {
      "cell_type": "markdown",
      "source": [
        "El aprendizaje no supervisado, en cambio, no dispone de etiquetas para saber cómo debe aprender el modelo. Son problemas del tipo: ¿existe algún número de conjuntos de características que permitan resumir los datos?\n",
        "\n",
        "Por ejemplo, dado un conjunto de imágenes de perros, ¿podríamos extraer alguna característica que nos permita agruparlos, por ejemplo, el color, tamaño, raza,...?\n",
        "\n",
        "¿Existe una representación de objetos (arbitrariamente estructurados) en el espacio euclídeo tal que las propiedades simbólicas puedan emparejarse bien? Esto puede servir para describir entidades y sus relaciones, como \"Roma\" e \"Italia\" o \"Francia\" y \"París\".\n",
        "\n",
        "Otra forma de aprendizaje no supervisado, es el aprendizaje autosupervisado, el cual aprovecha los datos no etiquetados para proporcionar supervisión en el entrenamiento. Por ejemplo, prediciendo alguna parte oculta de los datos utilizando otras partes. En el caso de un texto, podemos entrenar modelos para \"rellenar los espacios en blanco\" mediante la predicción de palabras ocultas al azar utilizando sus palabras cercanas (contexto) en grandes corpus sin ningún esfuerzo de etiquetado. Para las imágenes, podemos entrenar modelos para decir la posición relativa entre dos regiones recortadas de la misma imagen.\n",
        "\n",
        "- K-means clustering\n",
        "- KNN (k-nearest neighbors)\n",
        "- Clustering jerárquico\n",
        "- Detección de anomalías\n",
        "- Análisis de Componentes Principales (PCA)"
      ],
      "metadata": {
        "id": "gPruxlEEqRpw"
      }
    },
    {
      "cell_type": "markdown",
      "source": [
        "# Introducción"
      ],
      "metadata": {
        "id": "W83Mx2E_VE86"
      }
    },
    {
      "cell_type": "markdown",
      "source": [
        "# Regresión lineal"
      ],
      "metadata": {
        "id": "g-LRswoNATYO"
      }
    },
    {
      "cell_type": "markdown",
      "source": [
        "## Implementación desde cero"
      ],
      "metadata": {
        "id": "KAM6I1a_LhkU"
      }
    },
    {
      "cell_type": "markdown",
      "source": [
        "La regresión lineal es un modelo matemático que aproxima la relación entre una o más variables independientes y una variable dependiente. En las ciencias naturales y sociales, el objetivo de la regresión suele ser caracterizar la relación entre las entradas y las salidas. El aprendizaje automático, en cambio, se ocupa más a menudo de la predicción.\n",
        "\n",
        "Los problemas de regresión surgen siempre que queremos predecir un valor numérico. Algunos ejemplos comunes son la predicción de precios (de viviendas, acciones, etc.), la predicción de la duración de la estancia (para los pacientes en el hospital), la previsión de la demanda (para las ventas al por menor), entre otros innumerables. No todos los problemas de predicción son problemas clásicos de regresión. En los problemas de clasificación, por ejemplo, el objetivo es predecir la pertenencia a un conjunto de categorías."
      ],
      "metadata": {
        "id": "EMu6BcL2_Ac-"
      }
    },
    {
      "cell_type": "code",
      "source": [
        "# Implementación\n"
      ],
      "metadata": {
        "id": "q6u4nwdmmbVI"
      },
      "execution_count": null,
      "outputs": []
    },
    {
      "cell_type": "markdown",
      "source": [
        "Procesamiento de la entrada $\\mathbf{x}$ para obtener la predicción $\\hat{y}$:\n",
        "\n",
        "$$\\hat{y} = w_1  x_1 + ... + w_d  x_d + b.$$\n",
        "\n",
        "$$\\hat{y} = \\mathbf{w}^\\top \\mathbf{x} + b.$$\n",
        "\n",
        "Función de pérdida\n",
        "$$l^{(i)}(\\mathbf{w}, b) = \\frac{1}{2} \\left(\\hat{y}^{(i)} - y^{(i)}\\right)^2$$\n",
        "\n",
        "$$L(\\mathbf{w}, b) =\\frac{1}{n}\\sum_{i=1}^n l^{(i)}(\\mathbf{w}, b) =\\frac{1}{n} \\sum_{i=1}^n \\frac{1}{2}\\left(\\mathbf{w}^\\top \\mathbf{x}^{(i)} + b - y^{(i)}\\right)^2$$\n",
        "\n",
        "Descenso de gradiente\n",
        "$$(\\mathbf{w},b) \\leftarrow (\\mathbf{w},b) - \\frac{\\alpha}{|\\mathcal{B}|} \\sum_{i \\in \\mathcal{B}} \\partial_{(\\mathbf{w},b)} l^{(i)}(\\mathbf{w},b)$$\n",
        "\n",
        "GD para $w$\n",
        "$$\\mathbf{w} \\leftarrow \\mathbf{w} - \\frac{\\alpha}{|\\mathcal{B}|} \\sum_{i \\in \\mathcal{B}} \\partial_{\\mathbf{w}} l^{(i)}(\\mathbf{w}, b) = \\mathbf{w} - \\frac{\\alpha}{|\\mathcal{B}|} \\sum_{i \\in \\mathcal{B}} \\mathbf{x}^{(i)} \\left(\\mathbf{w}^\\top \\mathbf{x}^{(i)} + b - y^{(i)}\\right)$$\n",
        "\n",
        "GD para $b$\n",
        "$$b \\leftarrow b -  \\frac{\\alpha}{|\\mathcal{B}|} \\sum_{i \\in \\mathcal{B}} \\partial_b l^{(i)}(\\mathbf{w}, b)  = b - \\frac{\\alpha\\\\}{|\\mathcal{B}|} \\sum_{i \\in \\mathcal{B}} \\left(\\mathbf{w}^\\top \\mathbf{x}^{(i)} + b - y^{(i)}\\right)$$"
      ],
      "metadata": {
        "id": "Ai9r2CZTIXvL"
      }
    },
    {
      "cell_type": "markdown",
      "source": [
        "![fit-linreg.svg](data:image/svg+xml;base64,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)"
      ],
      "metadata": {
        "id": "GEOtmMyeKauN"
      }
    },
    {
      "cell_type": "code",
      "source": [
        "#@title\n",
        "x1 = min(features[:, 0])\n",
        "x2 = max(features[:, 0])\n",
        "fig = plt.figure()\n",
        "plt.scatter(features[:, 0], labels, 1, color='k');\n",
        "for i in range(len(w_history)):\n",
        "    y1, y2 = (w_history[i] * torch.Tensor([[x1], [x2]]) + b_history[i]).detach().numpy()\n",
        "    plt.plot([x1, x2], [y1, y2], color=hsv_to_rgb((0.5*(i/len(w_history)), 1, 0.8)), linewidth=2);"
      ],
      "metadata": {
        "colab": {
          "base_uri": "https://localhost:8080/",
          "height": 268
        },
        "id": "Lpym07tD3qot",
        "outputId": "72db6084-b055-4750-f698-15a89bf7c91e",
        "cellView": "form"
      },
      "execution_count": null,
      "outputs": [
        {
          "output_type": "display_data",
          "data": {
            "text/plain": [
              "<Figure size 432x288 with 1 Axes>"
            ],
            "image/png": "[encoded data removed]"
          },
          "metadata": {
            "needs_background": "light"
          }
        }
      ]
    },
    {
      "cell_type": "markdown",
      "source": [
        "## Implementación en Pytorch"
      ],
      "metadata": {
        "id": "E-hwdwc0LmNM"
      }
    },
    {
      "cell_type": "code",
      "source": [
        "# Implementación\n"
      ],
      "metadata": {
        "id": "FtS7Fwyjbo-X"
      },
      "execution_count": null,
      "outputs": []
    },
    {
      "cell_type": "markdown",
      "source": [
        "# Regresión softmax"
      ],
      "metadata": {
        "id": "Sq6O9Hi473KB"
      }
    },
    {
      "cell_type": "markdown",
      "source": [
        "## Implementación desde cero"
      ],
      "metadata": {
        "id": "A-faT0hujuop"
      }
    },
    {
      "cell_type": "markdown",
      "source": [
        "Operación softmax:\n",
        "\n",
        "$$\\hat{\\mathbf{y}} = \\mathrm{softmax}(\\mathbf{o})\\quad \\text{donde}\\quad \\hat{y}_j = \\frac{\\exp(o_j)}{\\sum_k \\exp(o_k)}. $$\n",
        "\n",
        "$$\n",
        "\\operatorname*{argmax}_j \\hat y_j = \\operatorname*{argmax}_j o_j.\n",
        "$$\n"
      ],
      "metadata": {
        "id": "rvLhYWkWNW8O"
      }
    },
    {
      "cell_type": "code",
      "source": [
        "def softmax(X):\n",
        "    X_exp = torch.exp(X)\n",
        "    return X_exp / X_exp.sum(1, keepdim=True)"
      ],
      "metadata": {
        "id": "05Ab6EDdCl1d"
      },
      "execution_count": null,
      "outputs": []
    },
    {
      "cell_type": "markdown",
      "source": [
        "La función softmax devuelve un vector $\\hat{\\mathbf{y}}$, el cual podemos interpretar como la probabilidad condicionada de cada clase dada una entrada $\\mathbf{x}$, por ejemplo, $\\hat{y}_1$ = $P(y=\\text{clase}_1 \\mid \\mathbf{x})$.\n",
        "\n",
        "Supongamos que todo el dataset $\\{\\mathbf{X}, \\mathbf{Y}\\}$ tiene $n$ ejemplos,\n",
        "donde el ejemplo $i$ consiste en un vector de entrada $\\mathbf{x}^{(i)}$ y un vector de etiqueta one-hot $\\mathbf{y}^{(i)}$. Podemos comparar las  predicciones con la salida real, comprobando cómo de probables son las clases según el modelo:\n",
        "\n",
        "$$\n",
        "P(\\mathbf{Y} \\mid \\mathbf{X}) = \\prod_{i=1}^n P(\\mathbf{y}^{(i)} \\mid \\mathbf{x}^{(i)}).\n",
        "$$\n",
        "\n",
        "Según la estimación de máxima verosimilitud, maximizamos la probabilidad $P(\\mathbf{Y} \\mid \\mathbf{X})$, lo cual es equivalente a minimizar el negativo del logaritmo de la verosimilitud:\n",
        "\n",
        "$$\n",
        "-\\log P(\\mathbf{Y} \\mid \\mathbf{X}) = \\sum_{i=1}^n -\\log P(\\mathbf{y}^{(i)} \\mid \\mathbf{x}^{(i)})\n",
        "= \\sum_{i=1}^n l(\\mathbf{y}^{(i)}, \\hat{\\mathbf{y}}^{(i)}),\n",
        "$$\n",
        "\n",
        "donde para cada pareja de etiqueta $\\mathbf{y}$ y predicción de modelo $\\hat{\\mathbf{y}}$ sobre las $q$ clases, la función de pérdida $l$ es:\n",
        "\n",
        "$$ l(\\mathbf{y}, \\hat{\\mathbf{y}}) = - \\sum_{j=1}^q y_j \\log \\hat{y}_j. $$\n",
        "\n",
        "Función de pérdida cross-entropy"
      ],
      "metadata": {
        "id": "EntutV2-Oc5P"
      }
    },
    {
      "cell_type": "code",
      "source": [
        "def cross_entropy(y_pred, y):\n",
        "    return - torch.log(y_pred[range(len(y_pred)), y])"
      ],
      "metadata": {
        "id": "-GOgv1yyhaDM"
      },
      "execution_count": null,
      "outputs": []
    },
    {
      "cell_type": "markdown",
      "source": [
        "Predicción"
      ],
      "metadata": {
        "id": "LmSMggx8pWx_"
      }
    },
    {
      "cell_type": "code",
      "source": [
        "i = random.randint(0, len(x)-1)\n",
        "plt.imshow(x[i, 0]);\n",
        "print('Predicción: {}'.format(labels[y_pred.argmax(dim=1)[i]]))\n",
        "print('Real: {}'.format(labels[y[i]]))"
      ],
      "metadata": {
        "id": "4CvpRQtSro5i"
      },
      "execution_count": null,
      "outputs": []
    },
    {
      "cell_type": "markdown",
      "source": [
        "## Implementación en pytorch"
      ],
      "metadata": {
        "id": "1vwxsN40sL9y"
      }
    },
    {
      "cell_type": "markdown",
      "source": [
        "Entrenamiento de red neuronal en navegador:\n",
        "\n",
        "https://playground.tensorflow.org/"
      ],
      "metadata": {
        "id": "dk_IqzYkC8sU"
      }
    },
    {
      "cell_type": "markdown",
      "source": [
        "# Guardado y carga de modelos"
      ],
      "metadata": {
        "id": "3DI6YDZ4XyRI"
      }
    },
    {
      "cell_type": "markdown",
      "source": [
        "# Análisis exploratorio de datos"
      ],
      "metadata": {
        "id": "tq3IXzmilhlI"
      }
    },
    {
      "cell_type": "markdown",
      "source": [
        "## Introducción"
      ],
      "metadata": {
        "id": "n0EoMFH6snvM"
      }
    },
    {
      "cell_type": "code",
      "source": [
        "import pandas as pd\n",
        "import numpy as np\n",
        "import torch\n",
        "import matplotlib\n",
        "import matplotlib.pyplot as plt"
      ],
      "metadata": {
        "id": "wQHDak487NCE"
      },
      "execution_count": null,
      "outputs": []
    },
    {
      "cell_type": "code",
      "source": [
        "df = pd.read_json('/content/sample_data/anscombe.json')"
      ],
      "metadata": {
        "id": "O2btrEI2gVOu"
      },
      "execution_count": null,
      "outputs": []
    },
    {
      "cell_type": "code",
      "source": [
        "x1, y1 = df[df['Series'] == 'I']['X'], df[df['Series'] == 'I']['Y']\n",
        "x2, y2 = df[df['Series'] == 'II']['X'], df[df['Series'] == 'II']['Y']\n",
        "x3, y3 = df[df['Series'] == 'III']['X'], df[df['Series'] == 'III']['Y']\n",
        "x4, y4 = df[df['Series'] == 'IV']['X'], df[df['Series'] == 'IV']['Y']"
      ],
      "metadata": {
        "id": "PVdq8wEfglFC"
      },
      "execution_count": null,
      "outputs": []
    },
    {
      "cell_type": "code",
      "source": [
        "print('Media aritmética     x1: {:.2f}, x2: {:.2f}, x3: {:.2f}, x4: {:.2f}'.format(x1.mean(), x2.mean(), x3.mean(), x4.mean()))\n",
        "print('Varianza             x1: {:.2f}, x2: {:.2f}, x3: {:.2f}, x4: {:.2f}'.format(x1.var(), x2.var(), x3.var(), x4.var()))\n",
        "print('Media aritmética     y1: {:.2f}, y2: {:.2f}, y3: {:.2f}, y4: {:.2f}'.format(y1.mean(), y2.mean(), y3.mean(), y4.mean()))\n",
        "print('Varianza             y1: {:.2f}, y2: {:.2f}, y3: {:.2f}, y4: {:.2f}'.format(y1.var(), y2.var(), y3.var(), y4.var()))\n",
        "print('Coef. correlación    r1: {:.2f}, r2: {:.2f}, r3: {:.2f}, r4: {:.2f}'.format(np.corrcoef(x1, y1)[0, 1],\n",
        "                                                                                   np.corrcoef(x2, y2)[0, 1],\n",
        "                                                                                   np.corrcoef(x3, y3)[0, 1],\n",
        "                                                                                   np.corrcoef(x4, y4)[0, 1]))"
      ],
      "metadata": {
        "id": "LHcMSk-8kx-c"
      },
      "execution_count": null,
      "outputs": []
    },
    {
      "cell_type": "code",
      "source": [
        "# plt.rcParams[\"figure.figsize\"] = [8, 5]\n",
        "# matplotlib.rcParams.update(matplotlib.rcParamsDefault)\n",
        "\n",
        "fig, ax = plt.subplots(2, 2, figsize=(10, 7))\n",
        "ax[0, 0].scatter(x1, y1);\n",
        "ax[0, 0].plot([2, 20], [4, 13], 'r');\n",
        "ax[0, 1].scatter(x2, y2);\n",
        "ax[0, 1].plot([2, 20], [4, 13], 'r');\n",
        "ax[1, 0].scatter(x3, y3);\n",
        "ax[1, 0].plot([2, 20], [4, 13], 'r');\n",
        "ax[1, 1].scatter(x4, y4);\n",
        "ax[1, 1].plot([2, 20], [4, 13], 'r');\n",
        "\n",
        "plt.setp(ax, xlim=[2, 20], ylim=[2, 14]);"
      ],
      "metadata": {
        "id": "1mN6hiZEgknk"
      },
      "execution_count": null,
      "outputs": []
    },
    {
      "cell_type": "markdown",
      "source": [
        "## California House price prediction"
      ],
      "metadata": {
        "id": "tSA-l5DRsiVs"
      }
    },
    {
      "cell_type": "markdown",
      "source": [
        "### Preprocesamiento"
      ],
      "metadata": {
        "id": "H_viFV7BKE1r"
      }
    },
    {
      "cell_type": "markdown",
      "source": [
        "### Entrenamiento"
      ],
      "metadata": {
        "id": "o3eFX__6Jxfd"
      }
    },
    {
      "cell_type": "markdown",
      "source": [
        "## Kaggle House price prediction"
      ],
      "metadata": {
        "id": "yBsko-mordxy"
      }
    },
    {
      "cell_type": "code",
      "source": [
        "import hashlib\n",
        "import os\n",
        "import tarfile\n",
        "import zipfile\n",
        "import requests\n",
        "\n",
        "DATA_HUB = dict()\n",
        "DATA_URL = 'http://d2l-data.s3-accelerate.amazonaws.com/'"
      ],
      "metadata": {
        "id": "6LA4ZosPhfNf"
      },
      "execution_count": null,
      "outputs": []
    },
    {
      "cell_type": "code",
      "source": [
        "def download(name, cache_dir='data'):\n",
        "    \"\"\"Download a file inserted into DATA_HUB, return the local filename.\"\"\"\n",
        "    assert name in DATA_HUB, f\"{name} does not exist in {DATA_HUB}.\"\n",
        "    url, sha1_hash = DATA_HUB[name]\n",
        "    os.makedirs(cache_dir, exist_ok=True)\n",
        "    fname = os.path.join(cache_dir, url.split('/')[-1])\n",
        "    if os.path.exists(fname):\n",
        "        sha1 = hashlib.sha1()\n",
        "        with open(fname, 'rb') as f:\n",
        "            while True:\n",
        "                data = f.read(1048576)\n",
        "                if not data:\n",
        "                    break\n",
        "                sha1.update(data)\n",
        "        if sha1.hexdigest() == sha1_hash:\n",
        "            return fname\n",
        "    print(f'Downloading {fname} from {url}...')\n",
        "    r = requests.get(url, stream=True, verify=True)\n",
        "    with open(fname, 'wb') as f:\n",
        "        f.write(r.content)\n",
        "    return fname\n",
        "\n",
        "def download_extract(name, folder=None):\n",
        "    \"\"\"Download and extract a zip/tar file.\"\"\"\n",
        "    fname = download(name)\n",
        "    base_dir = os.path.dirname(fname)\n",
        "    data_dir, ext = os.path.splitext(fname)\n",
        "    if ext == '.zip':\n",
        "        fp = zipfile.ZipFile(fname, 'r')\n",
        "    elif ext in ('.tar', '.gz'):\n",
        "        fp = tarfile.open(fname, 'r')\n",
        "    else:\n",
        "        assert False, 'Only zip/tar files can be extracted.'\n",
        "    fp.extractall(base_dir)\n",
        "    return os.path.join(base_dir, folder) if folder else data_dir\n",
        "\n",
        "def download_all():\n",
        "    \"\"\"Download all files in the DATA_HUB.\"\"\"\n",
        "    for name in DATA_HUB:\n",
        "        download(name)"
      ],
      "metadata": {
        "id": "xyJs9R0prmeM"
      },
      "execution_count": null,
      "outputs": []
    },
    {
      "cell_type": "code",
      "source": [
        "DATA_HUB['kaggle_house_train'] = (\n",
        "    DATA_URL + 'kaggle_house_pred_train.csv',\n",
        "    '585e9cc93e70b39160e7921475f9bcd7d31219ce')\n",
        "\n",
        "DATA_HUB['kaggle_house_test'] = (\n",
        "    DATA_URL + 'kaggle_house_pred_test.csv',\n",
        "    'fa19780a7b011d9b009e8bff8e99922a8ee2eb90')"
      ],
      "metadata": {
        "id": "oiAMvzzvrrgk"
      },
      "execution_count": null,
      "outputs": []
    },
    {
      "cell_type": "code",
      "source": [
        "download_all()"
      ],
      "metadata": {
        "id": "lD6BtOO9r-C8"
      },
      "execution_count": null,
      "outputs": []
    },
    {
      "cell_type": "markdown",
      "source": [
        "### Predicción con una columna"
      ],
      "metadata": {
        "id": "m9Qg4RwMei6t"
      }
    },
    {
      "cell_type": "code",
      "source": [
        "plt.scatter(x, y)"
      ],
      "metadata": {
        "colab": {
          "base_uri": "https://localhost:8080/",
          "height": 282
        },
        "id": "IWDeY15UXq2e",
        "outputId": "3880fe3a-56af-4a8a-eee6-77217a715243"
      },
      "execution_count": null,
      "outputs": [
        {
          "output_type": "execute_result",
          "data": {
            "text/plain": [
              "<matplotlib.collections.PathCollection at 0x7f80b3d70810>"
            ]
          },
          "metadata": {},
          "execution_count": 218
        },
        {
          "output_type": "display_data",
          "data": {
            "text/plain": [
              "<Figure size 432x288 with 1 Axes>"
            ],
            "image/png": "[encoded data removed]"
          },
          "metadata": {
            "needs_background": "light"
          }
        }
      ]
    },
    {
      "cell_type": "markdown",
      "source": [
        "### Preprocesamiento"
      ],
      "metadata": {
        "id": "b_Hq9NskhMGU"
      }
    },
    {
      "cell_type": "markdown",
      "source": [
        "### Entrenamiento"
      ],
      "metadata": {
        "id": "ptBG9i3rhSZN"
      }
    }
  ]
}