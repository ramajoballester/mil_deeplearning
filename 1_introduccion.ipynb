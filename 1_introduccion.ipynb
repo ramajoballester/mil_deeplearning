{
  "nbformat": 4,
  "nbformat_minor": 0,
  "metadata": {
    "colab": {
      "name": "1_introduccion.ipynb",
      "provenance": [],
      "collapsed_sections": [
        "PUkvbUwvUJn3",
        "tq3IXzmilhlI"
      ],
      "mount_file_id": "1EwZLwXCFp8ydXWaMIIAnq-m0v_Jj_qY0",
      "authorship_tag": "ABX9TyMkztLxlH3cnN/Dgf+Oh6hk",
      "include_colab_link": true
    },
    "kernelspec": {
      "name": "python3",
      "display_name": "Python 3"
    },
    "language_info": {
      "name": "python"
    }
  },
  "cells": [
    {
      "cell_type": "markdown",
      "metadata": {
        "id": "view-in-github",
        "colab_type": "text"
      },
      "source": [
        "<a href=\"https://colab.research.google.com/github/ramajoballester/mil_deeplearning/blob/main/1_introduccion.ipynb\" target=\"_parent\"><img src=\"https://colab.research.google.com/assets/colab-badge.svg\" alt=\"Open In Colab\"/></a>"
      ]
    },
    {
      "cell_type": "markdown",
      "source": [
        "# Sesión 1. Introducción al Deep Learning"
      ],
      "metadata": {
        "id": "nzf-42lVT_4Q"
      }
    },
    {
      "cell_type": "markdown",
      "source": [
        "# Introducción"
      ],
      "metadata": {
        "id": "W83Mx2E_VE86"
      }
    },
    {
      "cell_type": "markdown",
      "source": [
        "En solo los últimos cinco años, el Aprendizaje Profundo (*Deep Learning*) ha impulsado un rápido progreso en campos tan diversos como la visión por ordenador, el procesamiento del lenguaje natural, el reconocimiento automático del habla, el aprendizaje por refuerzo y la informática biomédica. Además, el éxito del aprendizaje profundo en tantas tareas de interés ha catalizado incluso desarrollos en el aprendizaje automático teórico y la estadística. Con estos avances en la mano, ahora podemos construir coches que se conducen solos con más autonomía que nunca (y menos autonomía de lo que algunas empresas podrían hacer creer), sistemas de respuesta inteligente que redactan automáticamente los correos electrónicos más mundanos y máquinas que dominan a los mejores humanos del mundo en juegos de mesa como el Go, una hazaña que antes se creía que estaba a décadas de distancia. Estas herramientas ya ejercen un impacto cada vez mayor en la industria y la sociedad, cambiando la forma de hacer películas, diagnosticar enfermedades y desempeñando un papel cada vez más importante en las ciencias básicas, desde la astrofísica hasta la biología."
      ],
      "metadata": {
        "id": "vr71NX7aCJqJ"
      }
    },
    {
      "cell_type": "markdown",
      "source": [
        "## Instalación de librerías (quitar?)"
      ],
      "metadata": {
        "id": "PUkvbUwvUJn3"
      }
    },
    {
      "cell_type": "code",
      "source": [
        "! pip install -q wandb\n",
        "! pip install -q --upgrade albumentations\n",
        "! pip install -q ipympl"
      ],
      "metadata": {
        "id": "Pq1u1BtAblvQ",
        "colab": {
          "base_uri": "https://localhost:8080/"
        },
        "outputId": "32184230-9ad0-4b18-de33-122927ec9a17"
      },
      "execution_count": null,
      "outputs": [
        {
          "output_type": "stream",
          "name": "stdout",
          "text": [
            "\u001b[K     |████████████████████████████████| 102 kB 5.8 MB/s \n",
            "\u001b[K     |████████████████████████████████| 47.8 MB 1.4 MB/s \n",
            "\u001b[?25h"
          ]
        }
      ]
    },
    {
      "cell_type": "code",
      "source": [
        "!pip install --upgrade -q gspread"
      ],
      "metadata": {
        "id": "Vp8lotXF-WmV"
      },
      "execution_count": null,
      "outputs": []
    },
    {
      "cell_type": "code",
      "source": [
        "import gspread\n",
        "import pandas as pd\n",
        "from google.colab import auth\n",
        "auth.authenticate_user()\n",
        "from google.auth import default"
      ],
      "metadata": {
        "id": "epbZLt0x-uaW"
      },
      "execution_count": null,
      "outputs": []
    },
    {
      "cell_type": "code",
      "source": [
        "creds, _ = default()\n",
        "gc = gspread.authorize(creds)"
      ],
      "metadata": {
        "id": "NRXSQQ6a-2-m"
      },
      "execution_count": null,
      "outputs": []
    },
    {
      "cell_type": "code",
      "source": [
        "url = 'https://docs.google.com/spreadsheets/d/1rDJQgihE4bvVNGmPjT8sH5mCRrbOfNcEFf8KZoxZ870/edit?usp=sharing'\n",
        "worksheet = gc.open_by_url(url)"
      ],
      "metadata": {
        "id": "dAZ-u1NgxIKP"
      },
      "execution_count": null,
      "outputs": []
    },
    {
      "cell_type": "code",
      "source": [
        "a = float(worksheet.sheet1.get('C5')[0][0])"
      ],
      "metadata": {
        "id": "Vck2x1bA_qzH"
      },
      "execution_count": null,
      "outputs": []
    },
    {
      "cell_type": "code",
      "source": [
        "a"
      ],
      "metadata": {
        "colab": {
          "base_uri": "https://localhost:8080/"
        },
        "id": "3Ra600xzFyAo",
        "outputId": "756c8434-1a5e-4e9b-cc37-a95e0df109d8"
      },
      "execution_count": null,
      "outputs": [
        {
          "output_type": "execute_result",
          "data": {
            "text/plain": [
              "0.954782"
            ]
          },
          "metadata": {},
          "execution_count": 36
        }
      ]
    },
    {
      "cell_type": "code",
      "source": [
        "row = 5\n",
        "col = 3\n",
        "value = 0.954782\n",
        "worksheet.sheet1.update_cell(row, col, value);"
      ],
      "metadata": {
        "id": "tnqg-YeiCEzu"
      },
      "execution_count": null,
      "outputs": []
    },
    {
      "cell_type": "markdown",
      "source": [
        "# Regresión lineal"
      ],
      "metadata": {
        "id": "g-LRswoNATYO"
      }
    },
    {
      "cell_type": "markdown",
      "source": [
        "## Implementación desde cero"
      ],
      "metadata": {
        "id": "KAM6I1a_LhkU"
      }
    },
    {
      "cell_type": "markdown",
      "source": [
        "La regresión lineal es un modelo matemático que aproxima la relación entre una o más variables independientes y una variable dependiente. En las ciencias naturales y sociales, el objetivo de la regresión suele ser caracterizar la relación entre las entradas y las salidas. El aprendizaje automático, en cambio, se ocupa más a menudo de la predicción.\n",
        "\n",
        "Los problemas de regresión surgen siempre que queremos predecir un valor numérico. Algunos ejemplos comunes son la predicción de precios (de viviendas, acciones, etc.), la predicción de la duración de la estancia (para los pacientes en el hospital), la previsión de la demanda (para las ventas al por menor), entre otros innumerables. No todos los problemas de predicción son problemas clásicos de regresión. En los problemas de clasificación, por ejemplo, el objetivo es predecir la pertenencia a un conjunto de categorías."
      ],
      "metadata": {
        "id": "EMu6BcL2_Ac-"
      }
    },
    {
      "cell_type": "markdown",
      "source": [
        "Más sobre teoría detrás de reg. lineal?"
      ],
      "metadata": {
        "id": "CmulzRGHennn"
      }
    },
    {
      "cell_type": "code",
      "source": [
        "import random\n",
        "import torch\n",
        "# %matplotlib notebook\n",
        "import matplotlib.pyplot as plt\n",
        "from matplotlib.colors import hsv_to_rgb"
      ],
      "metadata": {
        "id": "-3oAS1GyeneW"
      },
      "execution_count": 28,
      "outputs": []
    },
    {
      "cell_type": "code",
      "source": [
        "def synthetic_data(w, b, noise, num_examples):\n",
        "    \"\"\"Generar y = Xw + b + noise.\"\"\"\n",
        "    X = torch.normal(0, 1, (num_examples, len(w)))\n",
        "    y = torch.matmul(X, w) + b\n",
        "    y += torch.normal(0, noise, y.shape)\n",
        "    return X, y.reshape((-1, 1))\n",
        "\n",
        "true_w = torch.tensor([2.0])\n",
        "true_b = 4.2\n",
        "noise = 0.5\n",
        "features, labels = synthetic_data(true_w, true_b, noise, 1000)"
      ],
      "metadata": {
        "id": "GzcEopeqenUt"
      },
      "execution_count": null,
      "outputs": []
    },
    {
      "cell_type": "code",
      "source": [
        "plt.scatter(features[:, 0], labels, 1);"
      ],
      "metadata": {
        "colab": {
          "base_uri": "https://localhost:8080/",
          "height": 265
        },
        "id": "-7PPyyyFemkn",
        "outputId": "4003091d-a8e6-4e7c-930a-5e7dc1f6cd07"
      },
      "execution_count": null,
      "outputs": [
        {
          "output_type": "display_data",
          "data": {
            "text/plain": [
              "<Figure size 432x288 with 1 Axes>"
            ],
            "image/png": "[encoded data removed]"
          },
          "metadata": {
            "needs_background": "light"
          }
        }
      ]
    },
    {
      "cell_type": "code",
      "source": [
        "def data_iter(batch_size, features, labels):\n",
        "    num_examples = len(features)\n",
        "    indices = list(range(num_examples))\n",
        "    # The examples are read at random, in no particular order\n",
        "    random.shuffle(indices)\n",
        "    for i in range(0, num_examples, batch_size):\n",
        "        batch_indices = torch.tensor(\n",
        "            indices[i: min(i + batch_size, num_examples)])\n",
        "        yield features[batch_indices], labels[batch_indices]"
      ],
      "metadata": {
        "id": "pxpE59QMlSbg"
      },
      "execution_count": null,
      "outputs": []
    },
    {
      "cell_type": "code",
      "source": [
        "batch_size = 8\n",
        "\n",
        "for X, y in data_iter(batch_size, features, labels):\n",
        "    print(X, '\\n', y)\n",
        "    break"
      ],
      "metadata": {
        "colab": {
          "base_uri": "https://localhost:8080/"
        },
        "id": "fUYPznlGkwFX",
        "outputId": "86dc3dcc-f3fa-4339-c881-4b1b6e2bff2b"
      },
      "execution_count": null,
      "outputs": [
        {
          "output_type": "stream",
          "name": "stdout",
          "text": [
            "tensor([[-0.5878],\n",
            "        [ 0.7563],\n",
            "        [-0.7238],\n",
            "        [-0.8571],\n",
            "        [ 1.7229],\n",
            "        [ 0.3907],\n",
            "        [-0.9360],\n",
            "        [ 0.4381]]) \n",
            " tensor([[3.5591],\n",
            "        [5.6308],\n",
            "        [3.1466],\n",
            "        [2.5750],\n",
            "        [7.4162],\n",
            "        [5.1642],\n",
            "        [2.5212],\n",
            "        [4.5701]])\n"
          ]
        }
      ]
    },
    {
      "cell_type": "code",
      "source": [
        "def linreg(X, w, b):\n",
        "    \"\"\"Modelo de regresión lineal\"\"\"\n",
        "    return torch.matmul(X, w) + b"
      ],
      "metadata": {
        "id": "KxWgrHTgllBy"
      },
      "execution_count": null,
      "outputs": []
    },
    {
      "cell_type": "code",
      "source": [
        "def squared_loss(y_hat, y):\n",
        "    \"\"\"Función de pérdida Squared Loss\"\"\"\n",
        "    return (y_hat - y.reshape(y_hat.shape)) ** 2 / 2"
      ],
      "metadata": {
        "id": "uRvU2V0YmqTp"
      },
      "execution_count": null,
      "outputs": []
    },
    {
      "cell_type": "code",
      "source": [
        "def sgd(params, lr, batch_size):\n",
        "    \"\"\"Descenso de gradiente estocástico\"\"\"\n",
        "    with torch.no_grad():\n",
        "        for param in params:\n",
        "            param -= lr * param.grad / batch_size\n",
        "            param.grad.zero_()"
      ],
      "metadata": {
        "id": "KfYmP07rmzzY"
      },
      "execution_count": null,
      "outputs": []
    },
    {
      "cell_type": "markdown",
      "source": [
        "$$\\hat{y} = w_1  x_1 + ... + w_d  x_d + b.$$\n",
        "\n",
        "$$\\hat{y} = \\mathbf{w}^\\top \\mathbf{x} + b.$$\n",
        "\n",
        "Función de pérdida\n",
        "$$l^{(i)}(\\mathbf{w}, b) = \\frac{1}{2} \\left(\\color{Salmon}{\\hat{y}^{(i)}} - y^{(i)}\\right)^2$$\n",
        "\n",
        "$$L(\\mathbf{w}, b) =\\frac{1}{n}\\sum_{i=1}^n l^{(i)}(\\mathbf{w}, b) =\\frac{1}{n} \\sum_{i=1}^n \\frac{1}{2}\\left(\\color{Salmon}{\\mathbf{w}^\\top \\mathbf{x}^{(i)} + b} - y^{(i)}\\right)^2$$\n",
        "\n",
        "Descenso de gradiente\n",
        "$$(\\mathbf{w},b) \\leftarrow (\\mathbf{w},b) - \\frac{\\alpha}{|\\mathcal{B}|} \\sum_{i \\in \\mathcal{B}} \\partial_{(\\mathbf{w},b)} l^{(i)}(\\mathbf{w},b)$$\n",
        "\n",
        "GD para $w$\n",
        "$$\\mathbf{w} \\leftarrow \\mathbf{w} - \\frac{\\alpha}{|\\mathcal{B}|} \\sum_{i \\in \\mathcal{B}} \\partial_{\\mathbf{w}} l^{(i)}(\\mathbf{w}, b) = \\mathbf{w} - \\frac{\\alpha}{|\\mathcal{B}|} \\sum_{i \\in \\mathcal{B}} \\mathbf{x}^{(i)} \\left(\\mathbf{w}^\\top \\mathbf{x}^{(i)} + b - y^{(i)}\\right)$$\n",
        "\n",
        "GD para $b$\n",
        "$$b \\leftarrow b -  \\frac{\\alpha}{|\\mathcal{B}|} \\sum_{i \\in \\mathcal{B}} \\partial_b l^{(i)}(\\mathbf{w}, b)  = b - \\frac{\\alpha\\\\}{|\\mathcal{B}|} \\sum_{i \\in \\mathcal{B}} \\left(\\mathbf{w}^\\top \\mathbf{x}^{(i)} + b - y^{(i)}\\right)$$"
      ],
      "metadata": {
        "id": "Ai9r2CZTIXvL"
      }
    },
    {
      "cell_type": "markdown",
      "source": [
        "![fit-linreg.svg](data:image/svg+xml;base64,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)"
      ],
      "metadata": {
        "id": "GEOtmMyeKauN"
      }
    },
    {
      "cell_type": "markdown",
      "source": [
        ""
      ],
      "metadata": {
        "id": "Jqi8pQIgQ_sW"
      }
    },
    {
      "cell_type": "code",
      "source": [
        "w = torch.normal(0, 0.01, size=(len(true_w),1), requires_grad=True)\n",
        "b = torch.zeros(1, requires_grad=True)\n",
        "\n",
        "# Learning rate\n",
        "lr = 0.01\n",
        "# Número de epochs de entrenamiento\n",
        "num_epochs = 5\n",
        "# Modelo a optimizar\n",
        "net = linreg\n",
        "# Función de pérdida cuadrática\n",
        "loss = squared_loss\n",
        "\n",
        "w_history = [w.item()]\n",
        "b_history = [b.item()]\n",
        "\n",
        "for epoch in range(num_epochs):\n",
        "    for X, y in data_iter(batch_size, features, labels):\n",
        "        # Pérdida entre predicción del modelo y los valores reales y\n",
        "        l = loss(net(X, w, b), y)\n",
        "        # Cálculo de los gradientes (derivadas) de la función de pérdida respecto\n",
        "        # de los parámetros del modelo\n",
        "        l.sum().backward()\n",
        "        # Actualización de los parámetros según sus gradientes\n",
        "        sgd([w, b], lr, batch_size)\n",
        "    with torch.no_grad():\n",
        "        train_l = loss(net(features, w, b), labels)\n",
        "        print(f'epoch {epoch + 1}, loss {float(train_l.mean()):f}')\n",
        "    \n",
        "    w_history.append(w.item())\n",
        "    b_history.append(b.item())"
      ],
      "metadata": {
        "colab": {
          "base_uri": "https://localhost:8080/"
        },
        "id": "oZ3gwpe7m8iA",
        "outputId": "2c46c91e-56a6-4d05-b8a5-0d404fdca740"
      },
      "execution_count": null,
      "outputs": [
        {
          "output_type": "stream",
          "name": "stdout",
          "text": [
            "epoch 1, loss 1.014814\n",
            "epoch 2, loss 0.205985\n",
            "epoch 3, loss 0.136863\n",
            "epoch 4, loss 0.131104\n",
            "epoch 5, loss 0.130611\n"
          ]
        }
      ]
    },
    {
      "cell_type": "code",
      "source": [
        "print('Error de estimación w: {}'.format(true_w - w.reshape(true_w.shape)))\n",
        "print('Error de estimación b: {}'.format(true_b - b))"
      ],
      "metadata": {
        "colab": {
          "base_uri": "https://localhost:8080/"
        },
        "id": "7__tXXWfp5XS",
        "outputId": "279c17fd-6deb-449c-9553-21519e5267e5"
      },
      "execution_count": null,
      "outputs": [
        {
          "output_type": "stream",
          "name": "stdout",
          "text": [
            "Error de estimación w: tensor([-0.0088], grad_fn=<SubBackward0>)\n",
            "Error de estimación b: tensor([-0.0012], grad_fn=<RsubBackward1>)\n"
          ]
        }
      ]
    },
    {
      "cell_type": "code",
      "source": [
        "print(w)\n",
        "print(true_w)"
      ],
      "metadata": {
        "colab": {
          "base_uri": "https://localhost:8080/"
        },
        "id": "7iLQS_kSp9fI",
        "outputId": "f7051a3e-a8d2-4723-b0c2-7ceb97abafa0"
      },
      "execution_count": null,
      "outputs": [
        {
          "output_type": "stream",
          "name": "stdout",
          "text": [
            "tensor([[2.0088]], requires_grad=True)\n",
            "tensor([2.])\n"
          ]
        }
      ]
    },
    {
      "cell_type": "code",
      "source": [
        "x1 = min(features[:, 0])\n",
        "x2 = max(features[:, 0])\n",
        "fig = plt.figure()\n",
        "plt.scatter(features[:, 0], labels, 1, color='k');\n",
        "for i in range(len(w_history)):\n",
        "    y1, y2 = (w_history[i] * torch.Tensor([[x1], [x2]]) + b_history[i]).detach().numpy()\n",
        "    plt.plot([x1, x2], [y1, y2], color=hsv_to_rgb((0.5*(i/len(w_history)), 1, 0.8)), linewidth=2);"
      ],
      "metadata": {
        "colab": {
          "base_uri": "https://localhost:8080/",
          "height": 268
        },
        "id": "Lpym07tD3qot",
        "outputId": "72db6084-b055-4750-f698-15a89bf7c91e"
      },
      "execution_count": null,
      "outputs": [
        {
          "output_type": "display_data",
          "data": {
            "text/plain": [
              "<Figure size 432x288 with 1 Axes>"
            ],
            "image/png": "[encoded data removed]"
          },
          "metadata": {
            "needs_background": "light"
          }
        }
      ]
    },
    {
      "cell_type": "markdown",
      "source": [
        "## Implementación en Pytorch"
      ],
      "metadata": {
        "id": "E-hwdwc0LmNM"
      }
    },
    {
      "cell_type": "code",
      "source": [
        "import torch.nn.functional as F\n",
        "from torch import nn"
      ],
      "metadata": {
        "id": "T4y8b9-pY9y3"
      },
      "execution_count": null,
      "outputs": []
    },
    {
      "cell_type": "code",
      "source": [
        "true_w = torch.tensor([2.0])\n",
        "true_b = 4.2\n",
        "noise = 0.5\n",
        "features, labels = synthetic_data(true_w, true_b, noise, 1000)\n",
        "\n",
        "dataset = torch.utils.data.TensorDataset(features, labels)\n",
        "dataloader = torch.utils.data.DataLoader(dataset, batch_size, shuffle=True)"
      ],
      "metadata": {
        "id": "lgaPkL3aQfR9"
      },
      "execution_count": null,
      "outputs": []
    },
    {
      "cell_type": "code",
      "source": [
        "class LinReg(nn.Module):\n",
        "    '''\n",
        "    Modelo de regresión lineal\n",
        "    '''\n",
        "    def __init__(self):\n",
        "        super(LinReg, self).__init__()\n",
        "        self.linear = nn.Linear(1, 1)\n",
        "        \n",
        "    def forward(self, x):\n",
        "        out = self.linear(x)\n",
        "        return out"
      ],
      "metadata": {
        "id": "l_MBVSLTXmvx"
      },
      "execution_count": null,
      "outputs": []
    },
    {
      "cell_type": "code",
      "source": [
        "model = LinReg()"
      ],
      "metadata": {
        "id": "WkgpdGmDZNse"
      },
      "execution_count": null,
      "outputs": []
    },
    {
      "cell_type": "code",
      "source": [
        "# Batch size\n",
        "batch_size = 8\n",
        "# Learning rate\n",
        "lr = 0.005\n",
        "# Número de epochs de entrenamiento\n",
        "num_epochs = 5"
      ],
      "metadata": {
        "id": "IiD7zFY9bKUX"
      },
      "execution_count": null,
      "outputs": []
    },
    {
      "cell_type": "code",
      "source": [
        "# Función de pérdida\n",
        "loss = nn.MSELoss()\n",
        "# Optimizador\n",
        "optimizer = torch.optim.SGD(model.parameters(), lr=lr)"
      ],
      "metadata": {
        "id": "Mgcmnq7oayT3"
      },
      "execution_count": null,
      "outputs": []
    },
    {
      "cell_type": "code",
      "source": [
        "# Inicialización de los parámetros\n",
        "model.linear.weight.data.normal_(0, 0.01)\n",
        "model.linear.bias.data.fill_(0)\n",
        "\n",
        "for epoch in range(num_epochs):\n",
        "    for X, y in dataloader:\n",
        "        l = loss(model(X) ,y)\n",
        "        optimizer.zero_grad()\n",
        "        l.backward()\n",
        "        optimizer.step()\n",
        "    l = loss(model(features), labels)\n",
        "    print(f'epoch {epoch + 1}, loss {l:f}')"
      ],
      "metadata": {
        "colab": {
          "base_uri": "https://localhost:8080/"
        },
        "id": "aMVImhELbVFR",
        "outputId": "d3c8fc90-a223-449f-86ac-a54309236f6c"
      },
      "execution_count": null,
      "outputs": [
        {
          "output_type": "stream",
          "name": "stdout",
          "text": [
            "epoch 1, loss 2.054285\n",
            "epoch 2, loss 0.401637\n",
            "epoch 3, loss 0.266662\n",
            "epoch 4, loss 0.255188\n",
            "epoch 5, loss 0.254660\n"
          ]
        }
      ]
    },
    {
      "cell_type": "code",
      "source": [
        "model.linear.weight"
      ],
      "metadata": {
        "colab": {
          "base_uri": "https://localhost:8080/"
        },
        "id": "FtS7Fwyjbo-X",
        "outputId": "ff747f03-fba9-4284-fecd-5ba332e0c11f"
      },
      "execution_count": null,
      "outputs": [
        {
          "output_type": "execute_result",
          "data": {
            "text/plain": [
              "Parameter containing:\n",
              "tensor([[1.9924]], requires_grad=True)"
            ]
          },
          "metadata": {},
          "execution_count": 207
        }
      ]
    },
    {
      "cell_type": "code",
      "source": [
        "model.linear.bias"
      ],
      "metadata": {
        "colab": {
          "base_uri": "https://localhost:8080/"
        },
        "id": "Jqh_tgfTbs1P",
        "outputId": "81bcbe0e-d981-4c8b-8cd3-ebc0ce7cbd7c"
      },
      "execution_count": null,
      "outputs": [
        {
          "output_type": "execute_result",
          "data": {
            "text/plain": [
              "Parameter containing:\n",
              "tensor([4.2261], requires_grad=True)"
            ]
          },
          "metadata": {},
          "execution_count": 208
        }
      ]
    },
    {
      "cell_type": "markdown",
      "source": [
        "## Añadir trabajo individual?"
      ],
      "metadata": {
        "id": "PthZGRoXAlTx"
      }
    },
    {
      "cell_type": "markdown",
      "source": [
        "# Regresión softmax"
      ],
      "metadata": {
        "id": "Sq6O9Hi473KB"
      }
    },
    {
      "cell_type": "code",
      "source": [
        "import torchvision"
      ],
      "metadata": {
        "id": "tIkkMk4L8FFx"
      },
      "execution_count": 29,
      "outputs": []
    },
    {
      "cell_type": "code",
      "source": [
        "# \"ToTensor\" convierte las imágenes de tipo PIL a float32\n",
        "# y divide el resultado entre 255 para restringirlas al rango [0, 1]\n",
        "\n",
        "image_size = 32\n",
        "\n",
        "transf = torchvision.transforms.Compose([\n",
        "    torchvision.transforms.ToTensor(),\n",
        "    torchvision.transforms.Resize((image_size, image_size))\n",
        "])\n",
        "mnist_train = torchvision.datasets.FashionMNIST(\n",
        "    root=\"../data\", train=True, transform=transf, download=True)\n",
        "mnist_test = torchvision.datasets.FashionMNIST(\n",
        "    root=\"../data\", train=False, transform=transf, download=True)"
      ],
      "metadata": {
        "id": "XSD0Cvb98WGA"
      },
      "execution_count": 30,
      "outputs": []
    },
    {
      "cell_type": "code",
      "source": [
        "len(mnist_train), len(mnist_test)"
      ],
      "metadata": {
        "colab": {
          "base_uri": "https://localhost:8080/"
        },
        "id": "YLFiuEdc9CXS",
        "outputId": "63aacbd9-e86a-4357-8082-ba95b7199209"
      },
      "execution_count": 31,
      "outputs": [
        {
          "output_type": "execute_result",
          "data": {
            "text/plain": [
              "(60000, 10000)"
            ]
          },
          "metadata": {},
          "execution_count": 31
        }
      ]
    },
    {
      "cell_type": "code",
      "source": [
        "labels = ['t-shirt', 'trouser', 'pullover', 'dress', 'coat',\n",
        "          'sandal', 'shirt', 'sneaker', 'bag', 'ankle boot']"
      ],
      "metadata": {
        "id": "L8qTOUGv9KxJ"
      },
      "execution_count": 32,
      "outputs": []
    },
    {
      "cell_type": "code",
      "source": [
        "batch_size = 256\n",
        "train_dataloader = torch.utils.data.DataLoader(mnist_train, batch_size,\n",
        "                                               shuffle=True, num_workers=1)\n",
        "test_dataloader = torch.utils.data.DataLoader(mnist_test, batch_size,\n",
        "                                               shuffle=False, num_workers=1)"
      ],
      "metadata": {
        "id": "C03v58wW9TQo"
      },
      "execution_count": 33,
      "outputs": []
    },
    {
      "cell_type": "markdown",
      "source": [
        "$$\\hat{\\mathbf{y}} = \\mathrm{softmax}(\\mathbf{o})\\quad \\text{donde}\\quad \\hat{y}_j = \\frac{\\exp(o_j)}{\\sum_k \\exp(o_k)}. $$\n"
      ],
      "metadata": {
        "id": "rvLhYWkWNW8O"
      }
    },
    {
      "cell_type": "markdown",
      "source": [
        "$$\n",
        "\\operatorname*{argmax}_j \\hat y_j = \\operatorname*{argmax}_j o_j.\n",
        "$$"
      ],
      "metadata": {
        "id": "GPmlJYY9N_vV"
      }
    },
    {
      "cell_type": "code",
      "source": [
        "def softmax(X):\n",
        "    X_exp = torch.exp(X)\n",
        "    return X_exp / X_exp.sum(1, keepdim=True)"
      ],
      "metadata": {
        "id": "05Ab6EDdCl1d"
      },
      "execution_count": null,
      "outputs": []
    },
    {
      "cell_type": "markdown",
      "source": [
        "The softmax function gives us a vector $\\hat{\\mathbf{y}}$,\n",
        "which we can interpret as estimated conditional probabilities\n",
        "of each class given any input $\\mathbf{x}$, e.g.,\n",
        "$\\hat{y}_1$ = $P(y=\\text{cat} \\mid \\mathbf{x})$.\n",
        "Suppose that the entire dataset $\\{\\mathbf{X}, \\mathbf{Y}\\}$ has $n$ examples,\n",
        "where the example indexed by $i$\n",
        "consists of a feature vector $\\mathbf{x}^{(i)}$ and a one-hot label vector $\\mathbf{y}^{(i)}$.\n",
        "We can compare the estimates with reality\n",
        "by checking how probable the actual classes are\n",
        "according to our model, given the features:\n",
        "\n",
        "$$\n",
        "P(\\mathbf{Y} \\mid \\mathbf{X}) = \\prod_{i=1}^n P(\\mathbf{y}^{(i)} \\mid \\mathbf{x}^{(i)}).\n",
        "$$\n",
        "\n",
        "According to maximum likelihood estimation,\n",
        "we maximize $P(\\mathbf{Y} \\mid \\mathbf{X})$,\n",
        "which is\n",
        "equivalent to minimizing the negative log-likelihood:\n",
        "\n",
        "$$\n",
        "-\\log P(\\mathbf{Y} \\mid \\mathbf{X}) = \\sum_{i=1}^n -\\log P(\\mathbf{y}^{(i)} \\mid \\mathbf{x}^{(i)})\n",
        "= \\sum_{i=1}^n l(\\mathbf{y}^{(i)}, \\hat{\\mathbf{y}}^{(i)}),\n",
        "$$\n",
        "\n",
        "where for any pair of label $\\mathbf{y}$ and model prediction $\\hat{\\mathbf{y}}$ over $q$ classes,\n",
        "the loss function $l$ is\n",
        "\n",
        "$$ l(\\mathbf{y}, \\hat{\\mathbf{y}}) = - \\sum_{j=1}^q y_j \\log \\hat{y}_j. $$"
      ],
      "metadata": {
        "id": "EntutV2-Oc5P"
      }
    },
    {
      "cell_type": "markdown",
      "source": [
        "## Read CSV"
      ],
      "metadata": {
        "id": "tq3IXzmilhlI"
      }
    },
    {
      "cell_type": "code",
      "source": [
        "import pandas as pd"
      ],
      "metadata": {
        "id": "wQHDak487NCE"
      },
      "execution_count": null,
      "outputs": []
    },
    {
      "cell_type": "code",
      "source": [
        "df_train = pd.read_csv('/content/sample_data/california_housing_train.csv')"
      ],
      "metadata": {
        "id": "6Bw9xqGK9zR_"
      },
      "execution_count": null,
      "outputs": []
    },
    {
      "cell_type": "code",
      "source": [
        ""
      ],
      "metadata": {
        "id": "PZo7i_v3-Flg"
      },
      "execution_count": null,
      "outputs": []
    }
  ]
}